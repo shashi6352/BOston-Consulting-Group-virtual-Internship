{
  "metadata": {
    "kernelspec": {
      "display_name": "Python 3",
      "language": "python",
      "name": "python3"
    },
    "language_info": {
      "name": "python",
      "version": "3.10.12",
      "mimetype": "text/x-python",
      "codemirror_mode": {
        "name": "ipython",
        "version": 3
      },
      "pygments_lexer": "ipython3",
      "nbconvert_exporter": "python",
      "file_extension": ".py"
    },
    "kaggle": {
      "accelerator": "none",
      "dataSources": [
        {
          "sourceId": 6849,
          "sourceType": "datasetVersion",
          "datasetId": 4471
        }
      ],
      "dockerImageVersionId": 30886,
      "isInternetEnabled": true,
      "language": "python",
      "sourceType": "notebook",
      "isGpuEnabled": false
    },
    "papermill": {
      "default_parameters": {},
      "duration": 1604.987228,
      "end_time": "2025-02-08T05:09:09.680562",
      "environment_variables": {},
      "exception": null,
      "input_path": "__notebook__.ipynb",
      "output_path": "__notebook__.ipynb",
      "parameters": {},
      "start_time": "2025-02-08T04:42:24.693334",
      "version": "2.5.0"
    },
    "colab": {
      "name": "Predict Term Deposit in a Bank Marketing Campaign",
      "provenance": [],
      "include_colab_link": true
    }
  },
  "nbformat_minor": 0,
  "nbformat": 4,
  "cells": [
    {
      "cell_type": "markdown",
      "metadata": {
        "id": "view-in-github",
        "colab_type": "text"
      },
      "source": [
        "<a href=\"https://colab.research.google.com/github/shashi6352/BOston-Consulting-Group-virtual-Internship/blob/main/Predict_Term_Deposit_in_a_Bank_Marketing_Campaign.ipynb\" target=\"_parent\"><img src=\"https://colab.research.google.com/assets/colab-badge.svg\" alt=\"Open In Colab\"/></a>"
      ]
    },
    {
      "source": [
        "# IMPORTANT: RUN THIS CELL IN ORDER TO IMPORT YOUR KAGGLE DATA SOURCES,\n",
        "# THEN FEEL FREE TO DELETE THIS CELL.\n",
        "# NOTE: THIS NOTEBOOK ENVIRONMENT DIFFERS FROM KAGGLE'S PYTHON\n",
        "# ENVIRONMENT SO THERE MAY BE MISSING LIBRARIES USED BY YOUR\n",
        "# NOTEBOOK.\n",
        "import kagglehub\n",
        "janiobachmann_bank_marketing_dataset_path = kagglehub.dataset_download('janiobachmann/bank-marketing-dataset')\n",
        "\n",
        "print('Data source import complete.')\n"
      ],
      "metadata": {
        "id": "R_vBiB16gATW"
      },
      "cell_type": "code",
      "outputs": [],
      "execution_count": null
    },
    {
      "cell_type": "markdown",
      "source": [
        "![bankkunden.jpg](attachment:74612c5e-2977-462c-8338-a67d8e51a643.jpg)"
      ],
      "metadata": {
        "papermill": {
          "duration": 0.039756,
          "end_time": "2025-02-08T04:42:27.994255",
          "exception": false,
          "start_time": "2025-02-08T04:42:27.954499",
          "status": "completed"
        },
        "tags": [],
        "id": "hgkvLhVIgATh"
      }
    },
    {
      "cell_type": "markdown",
      "source": [
        "---\n",
        "\n",
        "### SUMMARY\n",
        "\n",
        "1. [Introduction](#1)\n",
        "2. [Read the Data](#2)\n",
        "3. [Bank Client Segmentation](#3)\n",
        "4. [Binary Classification](#4)\n",
        "5. [Term Deposit and Success of the Marketing Campaign](#5)\n",
        "6. [Final Suggestions](#6)\n",
        "\n",
        "---"
      ],
      "metadata": {
        "papermill": {
          "duration": 0.035973,
          "end_time": "2025-02-08T04:42:28.066188",
          "exception": false,
          "start_time": "2025-02-08T04:42:28.030215",
          "status": "completed"
        },
        "tags": [],
        "id": "Ty1SValCgATl"
      }
    },
    {
      "cell_type": "markdown",
      "source": [
        "# 1. Introduction\n",
        "<a id=\"1\"></a>"
      ],
      "metadata": {
        "papermill": {
          "duration": 0.03664,
          "end_time": "2025-02-08T04:42:28.138667",
          "exception": false,
          "start_time": "2025-02-08T04:42:28.102027",
          "status": "completed"
        },
        "tags": [],
        "id": "csI6qEsDgATm"
      }
    },
    {
      "cell_type": "markdown",
      "source": [
        "In this notebook, I am dealing with the data of a marketing campaign. Marketing campaigns are sets of strategic activities that promote a business's goal or objective. A marketing campaign could be used to promote a product, a service, or the brand as a whole. To achieve the most effective results, campaigns are carefully planned and the activities are varied. Marketing campaigns make use of different channels, platforms, and mediums to maximize impact.\n",
        "\n",
        "A business could run campaigns that utilize print media, social media, online ads, email, in-person demos, and more. Each campaign will vary depending on the intended purpose. However, the messaging and tone of any given campaign will closely link to the tone of the business’s brand.\n",
        "\n",
        "The four Ps represent four key elements of a campaign. For example, see: [*4 Ps of Marketing: What They Are & How to Use Them Successfully* by Alexandra Twin, Investopedia](https://www.investopedia.com/terms/f/four-ps.asp).\n",
        "\n",
        "- **Product.** Creating a marketing campaign starts with an understanding of the product itself. Who needs it and why? What does it do that no competitor's product can do? The job of the marketer is to define the product and its qualities and introduce it to the consumer - the basic marketing of a product (or service).\n",
        "\n",
        "- **Price.** Price is the amount that consumers will be willing to pay for a product. Marketers must link the price point to the product's real and perceived value, while also considering supply costs, seasonal discounts, competitors' prices, and retail markup. In some cases, business decision-makers may raise the price of a product to give it the appearance of luxury or exclusivity. Or, they may lower the price so more consumers will try it.\n",
        "\n",
        "- **Place.** Place is the consideration of where the product should be available and how it will be displayed. The decision is key: The makers of a luxury cosmetic product would want to be displayed in Sephora and Neiman Marcus, not in Walmart or Family Dollar. The goal of business executives is always to get their products in front of the consumers who are the most likely to buy them.\n",
        "\n",
        "- **4. Promotion.** The goal of promotion is to communicate to consumers that they need this product and that it is priced appropriately. Promotion encompasses advertising, public relations, and the overall media strategy for introducing a product."
      ],
      "metadata": {
        "papermill": {
          "duration": 0.036322,
          "end_time": "2025-02-08T04:42:28.210841",
          "exception": false,
          "start_time": "2025-02-08T04:42:28.174519",
          "status": "completed"
        },
        "tags": [],
        "id": "5Vm4zV7-gATn"
      }
    },
    {
      "cell_type": "markdown",
      "source": [
        "![Marketing-recirc-blue-77cc4c488cf14d4686691e82219f80cf.jpeg](attachment:325a0ab6-b1c4-45ee-9f0a-9685d248f4df.jpeg)"
      ],
      "metadata": {
        "papermill": {
          "duration": 0.089151,
          "end_time": "2025-02-08T04:42:28.335494",
          "exception": false,
          "start_time": "2025-02-08T04:42:28.246343",
          "status": "completed"
        },
        "tags": [],
        "id": "f3NJS-DigATp"
      }
    },
    {
      "cell_type": "markdown",
      "source": [
        "# 2. Read the Data\n",
        "<a id=\"2\"></a>"
      ],
      "metadata": {
        "papermill": {
          "duration": 0.035483,
          "end_time": "2025-02-08T04:42:28.40698",
          "exception": false,
          "start_time": "2025-02-08T04:42:28.371497",
          "status": "completed"
        },
        "tags": [],
        "id": "b7_ugxbNgATq"
      }
    },
    {
      "cell_type": "code",
      "source": [
        "import numpy as np\n",
        "import pandas as pd\n",
        "pd.set_option('display.max_columns',None)\n",
        "import seaborn as sns\n",
        "import matplotlib.pyplot as plt\n",
        "\n",
        "from sklearn.ensemble import RandomForestClassifier,AdaBoostClassifier\n",
        "from sklearn.ensemble import GradientBoostingClassifier\n",
        "from sklearn.tree import DecisionTreeClassifier\n",
        "from sklearn.model_selection import train_test_split,GridSearchCV\n",
        "from sklearn.model_selection import RandomizedSearchCV\n",
        "from sklearn.model_selection import KFold,cross_val_score,StratifiedKFold\n",
        "from sklearn.model_selection import validation_curve\n",
        "from sklearn.metrics import accuracy_score,precision_score,recall_score,f1_score\n",
        "from sklearn.metrics import confusion_matrix,ConfusionMatrixDisplay\n",
        "from sklearn.metrics import roc_auc_score,f1_score,accuracy_score,roc_curve\n",
        "from sklearn.preprocessing import LabelEncoder,StandardScaler,MinMaxScaler\n",
        "from sklearn.preprocessing import OneHotEncoder\n",
        "from sklearn.inspection import permutation_importance\n",
        "\n",
        "from xgboost import XGBClassifier\n",
        "\n",
        "from time import time\n",
        "\n",
        "from scipy.stats import randint\n",
        "import random\n",
        "\n",
        "from warnings import simplefilter\n",
        "simplefilter(\"ignore\")\n",
        "\n",
        "import os\n",
        "for dirname, _, filenames in os.walk('/kaggle/input'):\n",
        "    for filename in filenames:\n",
        "        print(os.path.join(dirname, filename))"
      ],
      "metadata": {
        "papermill": {
          "duration": 3.453047,
          "end_time": "2025-02-08T04:42:31.8959",
          "exception": false,
          "start_time": "2025-02-08T04:42:28.442853",
          "status": "completed"
        },
        "tags": [],
        "trusted": true,
        "execution": {
          "iopub.status.busy": "2025-02-12T17:53:29.127803Z",
          "iopub.execute_input": "2025-02-12T17:53:29.128127Z",
          "iopub.status.idle": "2025-02-12T17:53:29.140131Z",
          "shell.execute_reply.started": "2025-02-12T17:53:29.128103Z",
          "shell.execute_reply": "2025-02-12T17:53:29.139113Z"
        },
        "id": "pt0deNXPgATr"
      },
      "outputs": [],
      "execution_count": null
    },
    {
      "cell_type": "code",
      "source": [
        "data = pd.read_csv('/kaggle/input/bank-marketing-dataset/bank.csv')\n",
        "\n",
        "data.head()"
      ],
      "metadata": {
        "_cell_guid": "b1076dfc-b9ad-4769-8c92-a6c4dae69d19",
        "_uuid": "8f2839f25d086af736a60e9eeb907d3b93b6e0e5",
        "papermill": {
          "duration": 0.130054,
          "end_time": "2025-02-08T04:42:32.0621",
          "exception": false,
          "start_time": "2025-02-08T04:42:31.932046",
          "status": "completed"
        },
        "tags": [],
        "trusted": true,
        "execution": {
          "iopub.status.busy": "2025-02-12T17:53:29.141433Z",
          "iopub.execute_input": "2025-02-12T17:53:29.141744Z",
          "iopub.status.idle": "2025-02-12T17:53:29.198313Z",
          "shell.execute_reply.started": "2025-02-12T17:53:29.141718Z",
          "shell.execute_reply": "2025-02-12T17:53:29.197123Z"
        },
        "id": "83MNg5hlgATt"
      },
      "outputs": [],
      "execution_count": null
    },
    {
      "cell_type": "code",
      "source": [
        "print(f'The dataset has {data.shape[0]} rows and {data.shape[1]} columns.')"
      ],
      "metadata": {
        "papermill": {
          "duration": 0.045235,
          "end_time": "2025-02-08T04:42:32.144429",
          "exception": false,
          "start_time": "2025-02-08T04:42:32.099194",
          "status": "completed"
        },
        "tags": [],
        "trusted": true,
        "execution": {
          "iopub.status.busy": "2025-02-12T17:53:29.200556Z",
          "iopub.execute_input": "2025-02-12T17:53:29.20089Z",
          "iopub.status.idle": "2025-02-12T17:53:29.206929Z",
          "shell.execute_reply.started": "2025-02-12T17:53:29.200865Z",
          "shell.execute_reply": "2025-02-12T17:53:29.205455Z"
        },
        "id": "uQgjXKOAgATu"
      },
      "outputs": [],
      "execution_count": null
    },
    {
      "cell_type": "markdown",
      "source": [
        "## 2.1 Null and Duplicate Values"
      ],
      "metadata": {
        "papermill": {
          "duration": 0.037384,
          "end_time": "2025-02-08T04:42:32.2203",
          "exception": false,
          "start_time": "2025-02-08T04:42:32.182916",
          "status": "completed"
        },
        "tags": [],
        "id": "6MBQyaxbgATv"
      }
    },
    {
      "cell_type": "code",
      "source": [
        "data.isnull().sum()"
      ],
      "metadata": {
        "papermill": {
          "duration": 0.055317,
          "end_time": "2025-02-08T04:42:32.311848",
          "exception": false,
          "start_time": "2025-02-08T04:42:32.256531",
          "status": "completed"
        },
        "tags": [],
        "trusted": true,
        "execution": {
          "iopub.status.busy": "2025-02-12T17:53:29.208538Z",
          "iopub.execute_input": "2025-02-12T17:53:29.208901Z",
          "iopub.status.idle": "2025-02-12T17:53:29.236684Z",
          "shell.execute_reply.started": "2025-02-12T17:53:29.208871Z",
          "shell.execute_reply": "2025-02-12T17:53:29.235758Z"
        },
        "id": "1FBnl839gATv"
      },
      "outputs": [],
      "execution_count": null
    },
    {
      "cell_type": "code",
      "source": [
        "data.duplicated().sum()"
      ],
      "metadata": {
        "papermill": {
          "duration": 0.06161,
          "end_time": "2025-02-08T04:42:32.409734",
          "exception": false,
          "start_time": "2025-02-08T04:42:32.348124",
          "status": "completed"
        },
        "tags": [],
        "trusted": true,
        "execution": {
          "iopub.status.busy": "2025-02-12T17:53:29.237625Z",
          "iopub.execute_input": "2025-02-12T17:53:29.237969Z",
          "iopub.status.idle": "2025-02-12T17:53:29.261061Z",
          "shell.execute_reply.started": "2025-02-12T17:53:29.237942Z",
          "shell.execute_reply": "2025-02-12T17:53:29.260161Z"
        },
        "id": "M_8UFPaRgATw"
      },
      "outputs": [],
      "execution_count": null
    },
    {
      "cell_type": "markdown",
      "source": [
        "The dataset has zero null and zero duplicate values."
      ],
      "metadata": {
        "papermill": {
          "duration": 0.036487,
          "end_time": "2025-02-08T04:42:32.483883",
          "exception": false,
          "start_time": "2025-02-08T04:42:32.447396",
          "status": "completed"
        },
        "tags": [],
        "id": "udH-HYiQgATy"
      }
    },
    {
      "cell_type": "code",
      "source": [
        "data.dtypes"
      ],
      "metadata": {
        "papermill": {
          "duration": 0.047551,
          "end_time": "2025-02-08T04:42:32.567847",
          "exception": false,
          "start_time": "2025-02-08T04:42:32.520296",
          "status": "completed"
        },
        "tags": [],
        "trusted": true,
        "execution": {
          "iopub.status.busy": "2025-02-12T17:53:29.262282Z",
          "iopub.execute_input": "2025-02-12T17:53:29.262544Z",
          "iopub.status.idle": "2025-02-12T17:53:29.269728Z",
          "shell.execute_reply.started": "2025-02-12T17:53:29.262522Z",
          "shell.execute_reply": "2025-02-12T17:53:29.268675Z"
        },
        "id": "4MeO0pJIgATz"
      },
      "outputs": [],
      "execution_count": null
    },
    {
      "cell_type": "markdown",
      "source": [
        "The columns content is either of integer or string type."
      ],
      "metadata": {
        "papermill": {
          "duration": 0.036366,
          "end_time": "2025-02-08T04:42:32.64109",
          "exception": false,
          "start_time": "2025-02-08T04:42:32.604724",
          "status": "completed"
        },
        "tags": [],
        "id": "EYEfhQ_vgATz"
      }
    },
    {
      "cell_type": "markdown",
      "source": [
        "## 2.2 Columns and Their Meaning"
      ],
      "metadata": {
        "papermill": {
          "duration": 0.036411,
          "end_time": "2025-02-08T04:42:32.714558",
          "exception": false,
          "start_time": "2025-02-08T04:42:32.678147",
          "status": "completed"
        },
        "tags": [],
        "id": "OsNwlpbXgAT0"
      }
    },
    {
      "cell_type": "markdown",
      "source": [
        "**1. age.** Customer's age. Let's have a brief look at the values within this column."
      ],
      "metadata": {
        "papermill": {
          "duration": 0.036397,
          "end_time": "2025-02-08T04:42:32.787645",
          "exception": false,
          "start_time": "2025-02-08T04:42:32.751248",
          "status": "completed"
        },
        "tags": [],
        "id": "4U1owgbVgAT0"
      }
    },
    {
      "cell_type": "code",
      "source": [
        "data['age'].nunique(), data.age.min(), data.age.max()"
      ],
      "metadata": {
        "papermill": {
          "duration": 0.049153,
          "end_time": "2025-02-08T04:42:32.873122",
          "exception": false,
          "start_time": "2025-02-08T04:42:32.823969",
          "status": "completed"
        },
        "tags": [],
        "trusted": true,
        "execution": {
          "iopub.status.busy": "2025-02-12T17:53:29.270901Z",
          "iopub.execute_input": "2025-02-12T17:53:29.271301Z",
          "iopub.status.idle": "2025-02-12T17:53:29.288182Z",
          "shell.execute_reply.started": "2025-02-12T17:53:29.271264Z",
          "shell.execute_reply": "2025-02-12T17:53:29.287297Z"
        },
        "id": "YBqfeDWqgAT0"
      },
      "outputs": [],
      "execution_count": null
    },
    {
      "cell_type": "markdown",
      "source": [
        "The column *age* has 76 different values, ranging from 18 (age of consent) to 95."
      ],
      "metadata": {
        "papermill": {
          "duration": 0.03633,
          "end_time": "2025-02-08T04:42:32.94665",
          "exception": false,
          "start_time": "2025-02-08T04:42:32.91032",
          "status": "completed"
        },
        "tags": [],
        "id": "EIgSbTgHgAT1"
      }
    },
    {
      "cell_type": "markdown",
      "source": [
        "**2. job.** Customer's job. All the possible (categorical) values are listed below."
      ],
      "metadata": {
        "papermill": {
          "duration": 0.039201,
          "end_time": "2025-02-08T04:42:33.022577",
          "exception": false,
          "start_time": "2025-02-08T04:42:32.983376",
          "status": "completed"
        },
        "tags": [],
        "id": "CIlp80bRgAT1"
      }
    },
    {
      "cell_type": "code",
      "source": [
        "data['job'].unique()"
      ],
      "metadata": {
        "papermill": {
          "duration": 0.047405,
          "end_time": "2025-02-08T04:42:33.106815",
          "exception": false,
          "start_time": "2025-02-08T04:42:33.05941",
          "status": "completed"
        },
        "tags": [],
        "trusted": true,
        "execution": {
          "iopub.status.busy": "2025-02-12T17:53:29.290733Z",
          "iopub.execute_input": "2025-02-12T17:53:29.291005Z",
          "iopub.status.idle": "2025-02-12T17:53:29.310932Z",
          "shell.execute_reply.started": "2025-02-12T17:53:29.290982Z",
          "shell.execute_reply": "2025-02-12T17:53:29.309668Z"
        },
        "id": "HD-vOK_jgAT1"
      },
      "outputs": [],
      "execution_count": null
    },
    {
      "cell_type": "markdown",
      "source": [
        "**3. marital.** Customer's marital status."
      ],
      "metadata": {
        "papermill": {
          "duration": 0.036923,
          "end_time": "2025-02-08T04:42:33.181535",
          "exception": false,
          "start_time": "2025-02-08T04:42:33.144612",
          "status": "completed"
        },
        "tags": [],
        "id": "cRoVQbJugAT1"
      }
    },
    {
      "cell_type": "code",
      "source": [
        "data['marital'].unique()"
      ],
      "metadata": {
        "papermill": {
          "duration": 0.047735,
          "end_time": "2025-02-08T04:42:33.26645",
          "exception": false,
          "start_time": "2025-02-08T04:42:33.218715",
          "status": "completed"
        },
        "tags": [],
        "trusted": true,
        "execution": {
          "iopub.status.busy": "2025-02-12T17:53:29.312107Z",
          "iopub.execute_input": "2025-02-12T17:53:29.312447Z",
          "iopub.status.idle": "2025-02-12T17:53:29.3444Z",
          "shell.execute_reply.started": "2025-02-12T17:53:29.31242Z",
          "shell.execute_reply": "2025-02-12T17:53:29.343128Z"
        },
        "id": "4ZIPYqDJgAT2"
      },
      "outputs": [],
      "execution_count": null
    },
    {
      "cell_type": "markdown",
      "source": [
        "**4. education.** Customer's education level."
      ],
      "metadata": {
        "papermill": {
          "duration": 0.037351,
          "end_time": "2025-02-08T04:42:33.340501",
          "exception": false,
          "start_time": "2025-02-08T04:42:33.30315",
          "status": "completed"
        },
        "tags": [],
        "id": "Zw92TBcZgAT2"
      }
    },
    {
      "cell_type": "code",
      "source": [
        "data['education'].unique()"
      ],
      "metadata": {
        "papermill": {
          "duration": 0.047577,
          "end_time": "2025-02-08T04:42:33.425376",
          "exception": false,
          "start_time": "2025-02-08T04:42:33.377799",
          "status": "completed"
        },
        "tags": [],
        "trusted": true,
        "execution": {
          "iopub.status.busy": "2025-02-12T17:53:29.345702Z",
          "iopub.execute_input": "2025-02-12T17:53:29.345995Z",
          "iopub.status.idle": "2025-02-12T17:53:29.364287Z",
          "shell.execute_reply.started": "2025-02-12T17:53:29.345968Z",
          "shell.execute_reply": "2025-02-12T17:53:29.363128Z"
        },
        "id": "RZtbdEewgAT2"
      },
      "outputs": [],
      "execution_count": null
    },
    {
      "cell_type": "markdown",
      "source": [
        "**5. default.** Does the customer have credit in default?"
      ],
      "metadata": {
        "papermill": {
          "duration": 0.036339,
          "end_time": "2025-02-08T04:42:33.498965",
          "exception": false,
          "start_time": "2025-02-08T04:42:33.462626",
          "status": "completed"
        },
        "tags": [],
        "id": "zLUVA5x5gAT2"
      }
    },
    {
      "cell_type": "code",
      "source": [
        "data['default'].unique()"
      ],
      "metadata": {
        "papermill": {
          "duration": 0.047459,
          "end_time": "2025-02-08T04:42:33.584264",
          "exception": false,
          "start_time": "2025-02-08T04:42:33.536805",
          "status": "completed"
        },
        "tags": [],
        "trusted": true,
        "execution": {
          "iopub.status.busy": "2025-02-12T17:53:29.365838Z",
          "iopub.execute_input": "2025-02-12T17:53:29.366257Z",
          "iopub.status.idle": "2025-02-12T17:53:29.382043Z",
          "shell.execute_reply.started": "2025-02-12T17:53:29.366195Z",
          "shell.execute_reply": "2025-02-12T17:53:29.380978Z"
        },
        "id": "LGvtUQkvgAT2"
      },
      "outputs": [],
      "execution_count": null
    },
    {
      "cell_type": "markdown",
      "source": [
        "**6. balance.** Customer's balance. Can be either positive or negative."
      ],
      "metadata": {
        "papermill": {
          "duration": 0.037645,
          "end_time": "2025-02-08T04:42:33.660502",
          "exception": false,
          "start_time": "2025-02-08T04:42:33.622857",
          "status": "completed"
        },
        "tags": [],
        "id": "T48Pg3cfgAT3"
      }
    },
    {
      "cell_type": "code",
      "source": [
        "data['balance'].min(), data['balance'].max()"
      ],
      "metadata": {
        "papermill": {
          "duration": 0.047456,
          "end_time": "2025-02-08T04:42:33.745509",
          "exception": false,
          "start_time": "2025-02-08T04:42:33.698053",
          "status": "completed"
        },
        "tags": [],
        "trusted": true,
        "execution": {
          "iopub.status.busy": "2025-02-12T17:53:29.383168Z",
          "iopub.execute_input": "2025-02-12T17:53:29.383794Z",
          "iopub.status.idle": "2025-02-12T17:53:29.398904Z",
          "shell.execute_reply.started": "2025-02-12T17:53:29.383766Z",
          "shell.execute_reply": "2025-02-12T17:53:29.397993Z"
        },
        "id": "eNtBNbOLgAT3"
      },
      "outputs": [],
      "execution_count": null
    },
    {
      "cell_type": "markdown",
      "source": [
        "**7. housing.** Does the customer have housing loan?"
      ],
      "metadata": {
        "papermill": {
          "duration": 0.037396,
          "end_time": "2025-02-08T04:42:33.820898",
          "exception": false,
          "start_time": "2025-02-08T04:42:33.783502",
          "status": "completed"
        },
        "tags": [],
        "id": "7sCjYOoegAT3"
      }
    },
    {
      "cell_type": "code",
      "source": [
        "data['loan'].unique()"
      ],
      "metadata": {
        "papermill": {
          "duration": 0.060996,
          "end_time": "2025-02-08T04:42:33.929209",
          "exception": false,
          "start_time": "2025-02-08T04:42:33.868213",
          "status": "completed"
        },
        "tags": [],
        "trusted": true,
        "execution": {
          "iopub.status.busy": "2025-02-12T17:53:29.400963Z",
          "iopub.execute_input": "2025-02-12T17:53:29.401281Z",
          "iopub.status.idle": "2025-02-12T17:53:29.416627Z",
          "shell.execute_reply.started": "2025-02-12T17:53:29.401209Z",
          "shell.execute_reply": "2025-02-12T17:53:29.415709Z"
        },
        "id": "QPpEbC0GgAT3"
      },
      "outputs": [],
      "execution_count": null
    },
    {
      "cell_type": "markdown",
      "source": [
        "**8. contact.** Contact communication type."
      ],
      "metadata": {
        "papermill": {
          "duration": 0.041577,
          "end_time": "2025-02-08T04:42:34.023165",
          "exception": false,
          "start_time": "2025-02-08T04:42:33.981588",
          "status": "completed"
        },
        "tags": [],
        "id": "m8ZczMcGgAT4"
      }
    },
    {
      "cell_type": "code",
      "source": [
        "data['contact'].unique()"
      ],
      "metadata": {
        "papermill": {
          "duration": 0.055335,
          "end_time": "2025-02-08T04:42:34.11847",
          "exception": false,
          "start_time": "2025-02-08T04:42:34.063135",
          "status": "completed"
        },
        "tags": [],
        "trusted": true,
        "execution": {
          "iopub.status.busy": "2025-02-12T17:53:29.418163Z",
          "iopub.execute_input": "2025-02-12T17:53:29.418497Z",
          "iopub.status.idle": "2025-02-12T17:53:29.434257Z",
          "shell.execute_reply.started": "2025-02-12T17:53:29.418469Z",
          "shell.execute_reply": "2025-02-12T17:53:29.433327Z"
        },
        "id": "lPPl6pVGgAT4"
      },
      "outputs": [],
      "execution_count": null
    },
    {
      "cell_type": "markdown",
      "source": [
        "**9. day.** Last contact day of the month."
      ],
      "metadata": {
        "papermill": {
          "duration": 0.038347,
          "end_time": "2025-02-08T04:42:34.201204",
          "exception": false,
          "start_time": "2025-02-08T04:42:34.162857",
          "status": "completed"
        },
        "tags": [],
        "id": "ZLH1ArSLgAT4"
      }
    },
    {
      "cell_type": "code",
      "source": [
        "data['day'].unique()"
      ],
      "metadata": {
        "papermill": {
          "duration": 0.057635,
          "end_time": "2025-02-08T04:42:34.297774",
          "exception": false,
          "start_time": "2025-02-08T04:42:34.240139",
          "status": "completed"
        },
        "tags": [],
        "trusted": true,
        "execution": {
          "iopub.status.busy": "2025-02-12T17:53:29.43537Z",
          "iopub.execute_input": "2025-02-12T17:53:29.435749Z",
          "iopub.status.idle": "2025-02-12T17:53:29.451789Z",
          "shell.execute_reply.started": "2025-02-12T17:53:29.435713Z",
          "shell.execute_reply": "2025-02-12T17:53:29.450707Z"
        },
        "id": "QzgVH9FJgAT5"
      },
      "outputs": [],
      "execution_count": null
    },
    {
      "cell_type": "markdown",
      "source": [
        "**10. month.** Last contact month of the year."
      ],
      "metadata": {
        "papermill": {
          "duration": 0.042888,
          "end_time": "2025-02-08T04:42:34.385332",
          "exception": false,
          "start_time": "2025-02-08T04:42:34.342444",
          "status": "completed"
        },
        "tags": [],
        "id": "inFs6I-9gAT5"
      }
    },
    {
      "cell_type": "code",
      "source": [
        "data['month'].unique()"
      ],
      "metadata": {
        "papermill": {
          "duration": 0.049049,
          "end_time": "2025-02-08T04:42:34.473843",
          "exception": false,
          "start_time": "2025-02-08T04:42:34.424794",
          "status": "completed"
        },
        "tags": [],
        "trusted": true,
        "execution": {
          "iopub.status.busy": "2025-02-12T17:53:29.45278Z",
          "iopub.execute_input": "2025-02-12T17:53:29.45313Z",
          "iopub.status.idle": "2025-02-12T17:53:29.468019Z",
          "shell.execute_reply.started": "2025-02-12T17:53:29.453092Z",
          "shell.execute_reply": "2025-02-12T17:53:29.467072Z"
        },
        "id": "_flHKj50gAT5"
      },
      "outputs": [],
      "execution_count": null
    },
    {
      "cell_type": "markdown",
      "source": [
        "**11. duration.** Last contact (telephone call) duration in seconds (numeric)."
      ],
      "metadata": {
        "papermill": {
          "duration": 0.037955,
          "end_time": "2025-02-08T04:42:34.550119",
          "exception": false,
          "start_time": "2025-02-08T04:42:34.512164",
          "status": "completed"
        },
        "tags": [],
        "id": "uLiwbNsBgAT5"
      }
    },
    {
      "cell_type": "code",
      "source": [
        "data['duration'].min(), data['duration'].max()"
      ],
      "metadata": {
        "papermill": {
          "duration": 0.050481,
          "end_time": "2025-02-08T04:42:34.638789",
          "exception": false,
          "start_time": "2025-02-08T04:42:34.588308",
          "status": "completed"
        },
        "tags": [],
        "trusted": true,
        "execution": {
          "iopub.status.busy": "2025-02-12T17:53:29.469035Z",
          "iopub.execute_input": "2025-02-12T17:53:29.469401Z",
          "iopub.status.idle": "2025-02-12T17:53:29.486132Z",
          "shell.execute_reply.started": "2025-02-12T17:53:29.469377Z",
          "shell.execute_reply": "2025-02-12T17:53:29.485032Z"
        },
        "id": "Nkaq5utqgAUD"
      },
      "outputs": [],
      "execution_count": null
    },
    {
      "cell_type": "markdown",
      "source": [
        "The calls between marketers and customers span a very large interval: from 2 to 3881 seconds."
      ],
      "metadata": {
        "papermill": {
          "duration": 0.038043,
          "end_time": "2025-02-08T04:42:34.72279",
          "exception": false,
          "start_time": "2025-02-08T04:42:34.684747",
          "status": "completed"
        },
        "tags": [],
        "id": "_yAnh2dygAUD"
      }
    },
    {
      "cell_type": "markdown",
      "source": [
        "**12. campaign.** Number of contacts performed during this campaign and for this client."
      ],
      "metadata": {
        "papermill": {
          "duration": 0.038146,
          "end_time": "2025-02-08T04:42:34.800003",
          "exception": false,
          "start_time": "2025-02-08T04:42:34.761857",
          "status": "completed"
        },
        "tags": [],
        "id": "nNqRhdsJgAUE"
      }
    },
    {
      "cell_type": "code",
      "source": [
        "data['campaign'].min(), data['campaign'].max(), data['campaign'].mean()"
      ],
      "metadata": {
        "papermill": {
          "duration": 0.051067,
          "end_time": "2025-02-08T04:42:34.889835",
          "exception": false,
          "start_time": "2025-02-08T04:42:34.838768",
          "status": "completed"
        },
        "tags": [],
        "trusted": true,
        "execution": {
          "iopub.status.busy": "2025-02-12T17:53:29.487326Z",
          "iopub.execute_input": "2025-02-12T17:53:29.487732Z",
          "iopub.status.idle": "2025-02-12T17:53:29.506765Z",
          "shell.execute_reply.started": "2025-02-12T17:53:29.487696Z",
          "shell.execute_reply": "2025-02-12T17:53:29.505808Z"
        },
        "id": "Nu19jKphgAUE"
      },
      "outputs": [],
      "execution_count": null
    },
    {
      "cell_type": "markdown",
      "source": [
        "**13. pdays.** Number of days that passed by after the client was last contacted from a previous campaign (numeric)."
      ],
      "metadata": {
        "papermill": {
          "duration": 0.04014,
          "end_time": "2025-02-08T04:42:34.975689",
          "exception": false,
          "start_time": "2025-02-08T04:42:34.935549",
          "status": "completed"
        },
        "tags": [],
        "id": "EAahCCFYgAUE"
      }
    },
    {
      "cell_type": "code",
      "source": [
        "data['pdays'].min(), data['pdays'].max(), data['pdays'].mean()"
      ],
      "metadata": {
        "papermill": {
          "duration": 0.05208,
          "end_time": "2025-02-08T04:42:35.068897",
          "exception": false,
          "start_time": "2025-02-08T04:42:35.016817",
          "status": "completed"
        },
        "tags": [],
        "trusted": true,
        "execution": {
          "iopub.status.busy": "2025-02-12T17:53:29.507703Z",
          "iopub.execute_input": "2025-02-12T17:53:29.508005Z",
          "iopub.status.idle": "2025-02-12T17:53:29.524775Z",
          "shell.execute_reply.started": "2025-02-12T17:53:29.50798Z",
          "shell.execute_reply": "2025-02-12T17:53:29.523686Z"
        },
        "id": "IKRyUXeNgAUF"
      },
      "outputs": [],
      "execution_count": null
    },
    {
      "cell_type": "markdown",
      "source": [
        "We will have to find out what the value of -1 means."
      ],
      "metadata": {
        "papermill": {
          "duration": 0.039849,
          "end_time": "2025-02-08T04:42:35.147978",
          "exception": false,
          "start_time": "2025-02-08T04:42:35.108129",
          "status": "completed"
        },
        "tags": [],
        "id": "3_Hfk0bOgAUF"
      }
    },
    {
      "cell_type": "markdown",
      "source": [
        "**14. previous.** Number of contacts performed before this campaign and for this client."
      ],
      "metadata": {
        "papermill": {
          "duration": 0.038406,
          "end_time": "2025-02-08T04:42:35.22555",
          "exception": false,
          "start_time": "2025-02-08T04:42:35.187144",
          "status": "completed"
        },
        "tags": [],
        "id": "qSOfOiA4gAUF"
      }
    },
    {
      "cell_type": "code",
      "source": [
        "data['previous'].min(), data['previous'].max(), data['previous'].mean()"
      ],
      "metadata": {
        "papermill": {
          "duration": 0.051148,
          "end_time": "2025-02-08T04:42:35.317037",
          "exception": false,
          "start_time": "2025-02-08T04:42:35.265889",
          "status": "completed"
        },
        "tags": [],
        "trusted": true,
        "execution": {
          "iopub.status.busy": "2025-02-12T17:53:29.525942Z",
          "iopub.execute_input": "2025-02-12T17:53:29.526399Z",
          "iopub.status.idle": "2025-02-12T17:53:29.551918Z",
          "shell.execute_reply.started": "2025-02-12T17:53:29.526362Z",
          "shell.execute_reply": "2025-02-12T17:53:29.550761Z"
        },
        "id": "VyJD8Lv1gAUF"
      },
      "outputs": [],
      "execution_count": null
    },
    {
      "cell_type": "markdown",
      "source": [
        "**15. poutcome.** Outcome of the previous marketing campaign."
      ],
      "metadata": {
        "papermill": {
          "duration": 0.037795,
          "end_time": "2025-02-08T04:42:35.396024",
          "exception": false,
          "start_time": "2025-02-08T04:42:35.358229",
          "status": "completed"
        },
        "tags": [],
        "id": "nz0s_bf3gAUG"
      }
    },
    {
      "cell_type": "code",
      "source": [
        "data['poutcome'].unique()"
      ],
      "metadata": {
        "papermill": {
          "duration": 0.048992,
          "end_time": "2025-02-08T04:42:35.483161",
          "exception": false,
          "start_time": "2025-02-08T04:42:35.434169",
          "status": "completed"
        },
        "tags": [],
        "trusted": true,
        "execution": {
          "iopub.status.busy": "2025-02-12T17:53:29.553057Z",
          "iopub.execute_input": "2025-02-12T17:53:29.553464Z",
          "iopub.status.idle": "2025-02-12T17:53:29.573593Z",
          "shell.execute_reply.started": "2025-02-12T17:53:29.553426Z",
          "shell.execute_reply": "2025-02-12T17:53:29.572536Z"
        },
        "id": "jjycovkRgAUG"
      },
      "outputs": [],
      "execution_count": null
    },
    {
      "cell_type": "markdown",
      "source": [
        "**16. deposit.** Has the client subscribed a term deposit?"
      ],
      "metadata": {
        "papermill": {
          "duration": 0.037532,
          "end_time": "2025-02-08T04:42:35.558946",
          "exception": false,
          "start_time": "2025-02-08T04:42:35.521414",
          "status": "completed"
        },
        "tags": [],
        "id": "LcwR_OVHgAUG"
      }
    },
    {
      "cell_type": "code",
      "source": [
        "data['deposit'].unique()"
      ],
      "metadata": {
        "papermill": {
          "duration": 0.048137,
          "end_time": "2025-02-08T04:42:35.644522",
          "exception": false,
          "start_time": "2025-02-08T04:42:35.596385",
          "status": "completed"
        },
        "tags": [],
        "trusted": true,
        "execution": {
          "iopub.status.busy": "2025-02-12T17:53:29.577359Z",
          "iopub.execute_input": "2025-02-12T17:53:29.577673Z",
          "iopub.status.idle": "2025-02-12T17:53:29.590159Z",
          "shell.execute_reply.started": "2025-02-12T17:53:29.577645Z",
          "shell.execute_reply": "2025-02-12T17:53:29.589297Z"
        },
        "id": "2l4stAIwgAUG"
      },
      "outputs": [],
      "execution_count": null
    },
    {
      "cell_type": "markdown",
      "source": [
        "Term Deposit is the target variable. A term deposit is a deposit that a bank or a financial institution offers with a fixed rate (often better than just opening deposit account) in which your money will be returned back at a specific maturity time. For more information with regards to term deposits, see: [*Term Deposit: Definition, How It's Used, Rates, and How to Invest* by James Chen](https://www.investopedia.com/terms/t/termdeposit.asp).\n",
        "\n",
        "Let's have a look at the distribution of the target variable classes ('yes' or 'no')."
      ],
      "metadata": {
        "papermill": {
          "duration": 0.037967,
          "end_time": "2025-02-08T04:42:35.721375",
          "exception": false,
          "start_time": "2025-02-08T04:42:35.683408",
          "status": "completed"
        },
        "tags": [],
        "id": "dE_Nf0L0gAUH"
      }
    },
    {
      "cell_type": "code",
      "source": [
        "sns.histplot(data=data,x='deposit')\n",
        "plt.title('Deposit Distribution',size=20)\n",
        "\n",
        "plt.tight_layout()\n",
        "plt.gcf().patch.set_facecolor('lightsteelblue')\n",
        "plt.gca().set_facecolor('lemonchiffon')\n",
        "plt.show()"
      ],
      "metadata": {
        "papermill": {
          "duration": 0.391982,
          "end_time": "2025-02-08T04:42:36.153191",
          "exception": false,
          "start_time": "2025-02-08T04:42:35.761209",
          "status": "completed"
        },
        "tags": [],
        "trusted": true,
        "execution": {
          "iopub.status.busy": "2025-02-12T17:53:29.592133Z",
          "iopub.execute_input": "2025-02-12T17:53:29.592438Z",
          "iopub.status.idle": "2025-02-12T17:53:29.998945Z",
          "shell.execute_reply.started": "2025-02-12T17:53:29.592414Z",
          "shell.execute_reply": "2025-02-12T17:53:29.997838Z"
        },
        "id": "onM2dc5ZgAUH"
      },
      "outputs": [],
      "execution_count": null
    },
    {
      "cell_type": "markdown",
      "source": [
        "# 3. Bank Client Segmentation\n",
        "<a id=\"3\"></a>"
      ],
      "metadata": {
        "papermill": {
          "duration": 0.038651,
          "end_time": "2025-02-08T04:42:36.230882",
          "exception": false,
          "start_time": "2025-02-08T04:42:36.192231",
          "status": "completed"
        },
        "tags": [],
        "id": "R4YFZZvGgAUI"
      }
    },
    {
      "cell_type": "markdown",
      "source": [
        "## 3.1 Basic Descriptive Statistics"
      ],
      "metadata": {
        "papermill": {
          "duration": 0.0399,
          "end_time": "2025-02-08T04:42:36.310368",
          "exception": false,
          "start_time": "2025-02-08T04:42:36.270468",
          "status": "completed"
        },
        "tags": [],
        "id": "4mSy0v57gAUI"
      }
    },
    {
      "cell_type": "markdown",
      "source": [
        "Before I start my exploratory data analysis, I want to have a look at the descriptive statistics of numerical ..."
      ],
      "metadata": {
        "papermill": {
          "duration": 0.040372,
          "end_time": "2025-02-08T04:42:36.390783",
          "exception": false,
          "start_time": "2025-02-08T04:42:36.350411",
          "status": "completed"
        },
        "tags": [],
        "id": "__tzf0pVgAUI"
      }
    },
    {
      "cell_type": "code",
      "source": [
        "data.describe()"
      ],
      "metadata": {
        "papermill": {
          "duration": 0.072537,
          "end_time": "2025-02-08T04:42:36.502432",
          "exception": false,
          "start_time": "2025-02-08T04:42:36.429895",
          "status": "completed"
        },
        "tags": [],
        "trusted": true,
        "execution": {
          "iopub.status.busy": "2025-02-12T17:53:30.000029Z",
          "iopub.execute_input": "2025-02-12T17:53:30.000395Z",
          "iopub.status.idle": "2025-02-12T17:53:30.031817Z",
          "shell.execute_reply.started": "2025-02-12T17:53:30.000356Z",
          "shell.execute_reply": "2025-02-12T17:53:30.030748Z"
        },
        "id": "5H5UNi_UgAUI"
      },
      "outputs": [],
      "execution_count": null
    },
    {
      "cell_type": "markdown",
      "source": [
        "... and also categorical variables."
      ],
      "metadata": {
        "papermill": {
          "duration": 0.038463,
          "end_time": "2025-02-08T04:42:36.580316",
          "exception": false,
          "start_time": "2025-02-08T04:42:36.541853",
          "status": "completed"
        },
        "tags": [],
        "id": "Mk8DMp99gAUJ"
      }
    },
    {
      "cell_type": "code",
      "source": [
        "data.describe(include='object')"
      ],
      "metadata": {
        "papermill": {
          "duration": 0.080875,
          "end_time": "2025-02-08T04:42:36.700742",
          "exception": false,
          "start_time": "2025-02-08T04:42:36.619867",
          "status": "completed"
        },
        "tags": [],
        "trusted": true,
        "execution": {
          "iopub.status.busy": "2025-02-12T17:53:30.033035Z",
          "iopub.execute_input": "2025-02-12T17:53:30.033428Z",
          "iopub.status.idle": "2025-02-12T17:53:30.072444Z",
          "shell.execute_reply.started": "2025-02-12T17:53:30.033392Z",
          "shell.execute_reply": "2025-02-12T17:53:30.07137Z"
        },
        "id": "bNfqb3mOgAUJ"
      },
      "outputs": [],
      "execution_count": null
    },
    {
      "cell_type": "markdown",
      "source": [
        "It is worth to note that:\n",
        "- The average customer's age is 41.\n",
        "- The average balance is 1529$\\$$ (dollars?). I am not sure about the currency. The minimum balance is -6847$\\$$ (meaning that the customer is indebted) and the maximum is 81204$\\$$."
      ],
      "metadata": {
        "papermill": {
          "duration": 0.039784,
          "end_time": "2025-02-08T04:42:36.779927",
          "exception": false,
          "start_time": "2025-02-08T04:42:36.740143",
          "status": "completed"
        },
        "tags": [],
        "id": "Wf9k6JzbgAUK"
      }
    },
    {
      "cell_type": "markdown",
      "source": [
        "## 3.2 Distribution of the Numerical Variables"
      ],
      "metadata": {
        "papermill": {
          "duration": 0.04012,
          "end_time": "2025-02-08T04:42:36.86026",
          "exception": false,
          "start_time": "2025-02-08T04:42:36.82014",
          "status": "completed"
        },
        "tags": [],
        "id": "ZTqDnVB_gAUK"
      }
    },
    {
      "cell_type": "code",
      "source": [
        "features = ['age','balance','day','duration','campaign','pdays','previous']\n",
        "\n",
        "for i in range(2):\n",
        "    fig,(ax1,ax2,ax3,ax4) = plt.subplots(ncols=4,figsize=(12,5))\n",
        "    ax1 = sns.distplot(data[features[i*4]],ax=ax1,hist=False)\n",
        "    ax1.set_title('Distribution of '+str(features[i*4]),fontsize=18)\n",
        "    ax1.set_facecolor('lemonchiffon')\n",
        "    ax2 = sns.distplot(data[features[i*4+1]],ax=ax2,hist=False)\n",
        "    ax2.set_title('Distribution of '+str(features[i*4+1]),fontsize=18)\n",
        "    ax2.set_facecolor('lemonchiffon')\n",
        "    ax3 = sns.distplot(data[features[i*4+2]],ax=ax3,hist=False)\n",
        "    ax3.set_title('Distribution of '+str(features[i*4+2]),fontsize=18)\n",
        "    ax3.set_facecolor('lemonchiffon')\n",
        "    if i < 1:\n",
        "        ax4 = sns.distplot(data[features[i*4+3]],ax=ax4,hist=False)\n",
        "        ax4.set_title('Distribution of '+str(features[i*4+3]),fontsize=18)\n",
        "        ax4.set_facecolor('lemonchiffon')\n",
        "    else:\n",
        "        ax4.set_facecolor('lemonchiffon')\n",
        "\n",
        "    fig.suptitle(\"Distribution of the Numerical Variables\",fontsize=24)\n",
        "\n",
        "    plt.tight_layout()\n",
        "    fig.set_facecolor('lightsteelblue')"
      ],
      "metadata": {
        "papermill": {
          "duration": 2.590409,
          "end_time": "2025-02-08T04:42:39.489947",
          "exception": false,
          "start_time": "2025-02-08T04:42:36.899538",
          "status": "completed"
        },
        "tags": [],
        "trusted": true,
        "execution": {
          "iopub.status.busy": "2025-02-12T17:53:30.073486Z",
          "iopub.execute_input": "2025-02-12T17:53:30.073778Z",
          "iopub.status.idle": "2025-02-12T17:53:32.157269Z",
          "shell.execute_reply.started": "2025-02-12T17:53:30.073752Z",
          "shell.execute_reply": "2025-02-12T17:53:32.156216Z"
        },
        "id": "tpLAv3C0gAUL"
      },
      "outputs": [],
      "execution_count": null
    },
    {
      "cell_type": "markdown",
      "source": [
        "It is worth to note that:\n",
        "- None of the distributions is bell-shaped.\n",
        "- The *age* and *day* distributions are more spread than the others. The first is (almost) single-peaked and right-skewed, while the second is multi-peaked (with 3 main peaks).\n",
        "- The remaining numerical distributions have a high peak around the origin, meaning that the higher values are less frequent than small ones."
      ],
      "metadata": {
        "papermill": {
          "duration": 0.041452,
          "end_time": "2025-02-08T04:42:39.572867",
          "exception": false,
          "start_time": "2025-02-08T04:42:39.531415",
          "status": "completed"
        },
        "tags": [],
        "id": "I6X_q8H4gAUL"
      }
    },
    {
      "cell_type": "code",
      "source": [
        "for i in range(2):\n",
        "    fig,(ax1,ax2,ax3,ax4) = plt.subplots(ncols=4,figsize=(12,5))\n",
        "    ax1 = sns.boxplot(data[features[i*4]],ax=ax1)\n",
        "    ax1.set_title('Boxplot of '+str(features[i*4]),fontsize=20)\n",
        "    ax1.set_facecolor('lemonchiffon')\n",
        "    ax2 = sns.boxplot(data[features[i*4+1]],ax=ax2)\n",
        "    ax2.set_title('Boxplot of '+str(features[i*4+1]),fontsize=20)\n",
        "    ax2.set_facecolor('lemonchiffon')\n",
        "    ax3 = sns.boxplot(data[features[i*4+2]],ax=ax3)\n",
        "    ax3.set_title('Boxplot of '+str(features[i*4+2]),fontsize=20)\n",
        "    ax3.set_facecolor('lemonchiffon')\n",
        "    if i < 1:\n",
        "        ax4 = sns.boxplot(data[features[i*4+3]],ax=ax4)\n",
        "        ax4.set_title('Boxplot of '+str(features[i*4+3]),fontsize=20)\n",
        "        ax4.set_facecolor('lemonchiffon')\n",
        "    else:\n",
        "        ax4.set_facecolor('lemonchiffon')\n",
        "\n",
        "    fig.suptitle(\"Boxplots of the Outliers\",fontsize=24)\n",
        "\n",
        "    plt.tight_layout()\n",
        "    fig.set_facecolor('lightsteelblue')"
      ],
      "metadata": {
        "papermill": {
          "duration": 1.541334,
          "end_time": "2025-02-08T04:42:41.209558",
          "exception": false,
          "start_time": "2025-02-08T04:42:39.668224",
          "status": "completed"
        },
        "tags": [],
        "trusted": true,
        "execution": {
          "iopub.status.busy": "2025-02-12T17:53:32.158399Z",
          "iopub.execute_input": "2025-02-12T17:53:32.158714Z",
          "iopub.status.idle": "2025-02-12T17:53:33.499356Z",
          "shell.execute_reply.started": "2025-02-12T17:53:32.158688Z",
          "shell.execute_reply": "2025-02-12T17:53:33.498308Z"
        },
        "id": "TGMmWALigAUM"
      },
      "outputs": [],
      "execution_count": null
    },
    {
      "cell_type": "markdown",
      "source": [
        "There are many outliers. Let's see what is their percentage in the data."
      ],
      "metadata": {
        "papermill": {
          "duration": 0.044717,
          "end_time": "2025-02-08T04:42:41.301761",
          "exception": false,
          "start_time": "2025-02-08T04:42:41.257044",
          "status": "completed"
        },
        "tags": [],
        "id": "nePBmgJvgAUM"
      }
    },
    {
      "cell_type": "code",
      "source": [
        "outliers_perc = []\n",
        "\n",
        "for k,v in data.items():\n",
        "    # Column must be of numeric type (not object)\n",
        "    if data[k].dtype != 'O':\n",
        "        q1 = v.quantile(0.25)\n",
        "        q3 = v.quantile(0.75)\n",
        "        irq = q3 - q1\n",
        "        v_col = v[(v <= q1 - 1.5 * irq) | (v >= q3 + 1.5 * irq)]\n",
        "        perc = np.shape(v_col)[0] * 100.0 / np.shape(data)[0]\n",
        "        out_tuple = (k,int(perc))\n",
        "        outliers_perc.append(out_tuple)\n",
        "        print(\"Column %s outliers = %.2f%%\" % (k,perc))"
      ],
      "metadata": {
        "papermill": {
          "duration": 0.071333,
          "end_time": "2025-02-08T04:42:41.417097",
          "exception": false,
          "start_time": "2025-02-08T04:42:41.345764",
          "status": "completed"
        },
        "tags": [],
        "trusted": true,
        "execution": {
          "iopub.status.busy": "2025-02-12T17:53:33.500442Z",
          "iopub.execute_input": "2025-02-12T17:53:33.500714Z",
          "iopub.status.idle": "2025-02-12T17:53:33.525633Z",
          "shell.execute_reply.started": "2025-02-12T17:53:33.500691Z",
          "shell.execute_reply": "2025-02-12T17:53:33.524601Z"
        },
        "id": "e2JZZLYVgAUN"
      },
      "outputs": [],
      "execution_count": null
    },
    {
      "cell_type": "markdown",
      "source": [
        "## 3.3 Histograms of the Categorical Variables"
      ],
      "metadata": {
        "papermill": {
          "duration": 0.043972,
          "end_time": "2025-02-08T04:42:41.505089",
          "exception": false,
          "start_time": "2025-02-08T04:42:41.461117",
          "status": "completed"
        },
        "tags": [],
        "id": "cyPIoqvpgAUN"
      }
    },
    {
      "cell_type": "code",
      "source": [
        "features = ['job','marital','education','default','housing','loan','contact','month','poutcome','deposit']\n",
        "\n",
        "for i in range(3):\n",
        "    fig,(ax1,ax2,ax3,ax4) = plt.subplots(ncols=4,figsize=(12,5))\n",
        "    ax1.hist(data[features[i*4]])\n",
        "    if data[features[i*4]].nunique() > 5:\n",
        "        ax1.set_xticklabels(ax1.get_xticklabels(),rotation=75,fontsize=8)\n",
        "    ax1.set_title('Histogram of '+str(features[i*4]),fontsize=18)\n",
        "    ax1.set_facecolor('lemonchiffon')\n",
        "    ax2.hist(data[features[i*4+1]])\n",
        "    ax2.set_title('Histogram of '+str(features[i*4+1]),fontsize=18)\n",
        "    ax2.set_facecolor('lemonchiffon')\n",
        "    if i < 2:\n",
        "        ax3.hist(data[features[i*4+2]])\n",
        "        ax3.set_title('Histogram of '+str(features[i*4+2]),fontsize=18)\n",
        "        ax3.set_facecolor('lemonchiffon')\n",
        "        ax4.hist(data[features[i*4+3]])\n",
        "        ax4.set_title('Histogram of '+str(features[i*4+3]),fontsize=18)\n",
        "        ax4.set_facecolor('lemonchiffon')\n",
        "        if data[features[i*4+3]].nunique() > 5:\n",
        "            ax4.set_xticklabels(ax4.get_xticklabels(),rotation=75,fontsize=8)\n",
        "    else:\n",
        "        ax3.set_facecolor('lemonchiffon')\n",
        "        ax4.set_facecolor('lemonchiffon')\n",
        "\n",
        "    fig.suptitle(\"Histograms of the Categorical Variables\",fontsize=24)\n",
        "\n",
        "    plt.tight_layout()\n",
        "    fig.set_facecolor('lightsteelblue')"
      ],
      "metadata": {
        "papermill": {
          "duration": 2.630594,
          "end_time": "2025-02-08T04:42:44.18205",
          "exception": false,
          "start_time": "2025-02-08T04:42:41.551456",
          "status": "completed"
        },
        "tags": [],
        "trusted": true,
        "execution": {
          "iopub.status.busy": "2025-02-12T17:53:33.526538Z",
          "iopub.execute_input": "2025-02-12T17:53:33.526807Z",
          "iopub.status.idle": "2025-02-12T17:53:36.004364Z",
          "shell.execute_reply.started": "2025-02-12T17:53:33.526785Z",
          "shell.execute_reply": "2025-02-12T17:53:36.003329Z"
        },
        "id": "3w2RLQ44gAUO"
      },
      "outputs": [],
      "execution_count": null
    },
    {
      "cell_type": "markdown",
      "source": [
        "It is worth to note that:\n",
        "- The majority of clients work as administrators, in the services or as blue collar.\n",
        "- The majority of clients are married.\n",
        "- They mainly communicate with the marketing staff via cellular.\n",
        "- The majority of them has either secondary (high school) or tertiary (college) education.\n",
        "- The large majority of clients do not have credits on default and are not on a loan either."
      ],
      "metadata": {
        "papermill": {
          "duration": 0.04693,
          "end_time": "2025-02-08T04:42:44.276215",
          "exception": false,
          "start_time": "2025-02-08T04:42:44.229285",
          "status": "completed"
        },
        "tags": [],
        "id": "4ACgJEpngAUO"
      }
    },
    {
      "cell_type": "markdown",
      "source": [
        "## 3.4 Age vs Other Features"
      ],
      "metadata": {
        "papermill": {
          "duration": 0.04747,
          "end_time": "2025-02-08T04:42:44.372055",
          "exception": false,
          "start_time": "2025-02-08T04:42:44.324585",
          "status": "completed"
        },
        "tags": [],
        "id": "oduWpLwkgAUP"
      }
    },
    {
      "cell_type": "code",
      "source": [
        "fig,(ax1,ax2,ax3) = plt.subplots(ncols=3,figsize=(12,5))\n",
        "\n",
        "ax1 = sns.distplot(data[data['education'] == 'primary']['age'],hist=False,ax=ax1,kde_kws={'linewidth':2})\n",
        "ax1 = sns.distplot(data[data['education'] == 'secondary']['age'],hist=False,ax=ax1,kde_kws={'linewidth':3})\n",
        "ax1 = sns.distplot(data[data['education'] == 'tertiary']['age'],hist=False,ax=ax1,kde_kws={'linestyle':'--','linewidth':2})\n",
        "ax1.set_title('Age vs Education Level',fontsize=18)\n",
        "ax1.legend(labels=['primary','secondary','tertiary'])\n",
        "ax1.set_facecolor('lemonchiffon')\n",
        "\n",
        "ax2 = sns.distplot(data[data['marital'] == 'single']['age'],hist=False,ax=ax2,kde_kws={'linewidth':2})\n",
        "ax2 = sns.distplot(data[data['marital'] == 'married']['age'],hist=False,ax=ax2,kde_kws={'linewidth':3})\n",
        "ax2 = sns.distplot(data[data['marital'] == 'divorced']['age'],hist=False,ax=ax2,kde_kws={'linestyle':'--','linewidth':2})\n",
        "ax2.set_title('Age vs Marital Status',fontsize=18)\n",
        "ax2.legend(labels=['single','married','divorced'])\n",
        "ax2.set_facecolor('lemonchiffon')\n",
        "\n",
        "ax3 = sns.boxplot(data,x='age',y='job',ax=ax3)\n",
        "ax3.set_title(\"Job vs Age\",fontsize=20)\n",
        "ax3.set_facecolor('lemonchiffon')\n",
        "\n",
        "fig.suptitle(\"Age vs Education, Marital Status and Job\",fontsize=24)\n",
        "\n",
        "plt.tight_layout()\n",
        "fig.set_facecolor('lightsteelblue')"
      ],
      "metadata": {
        "papermill": {
          "duration": 1.308635,
          "end_time": "2025-02-08T04:42:45.727972",
          "exception": false,
          "start_time": "2025-02-08T04:42:44.419337",
          "status": "completed"
        },
        "tags": [],
        "trusted": true,
        "execution": {
          "iopub.status.busy": "2025-02-12T17:53:36.005474Z",
          "iopub.execute_input": "2025-02-12T17:53:36.005739Z",
          "iopub.status.idle": "2025-02-12T17:53:37.012018Z",
          "shell.execute_reply.started": "2025-02-12T17:53:36.005717Z",
          "shell.execute_reply": "2025-02-12T17:53:37.011044Z"
        },
        "id": "vInVMWIFgAUP"
      },
      "outputs": [],
      "execution_count": null
    },
    {
      "cell_type": "markdown",
      "source": [
        "It is worth to note that:\n",
        "- Younger clients generally have either secondary or tertiary education, older clients generally have primary education. This means that younger clients are, on average, more educated than the elder.\n",
        "- As expected, single clients are generally the youngest. The distributions of married and divorced clients are not so different, even though divorcees tend to be a little older.\n",
        "- Finally, students usually are the youngest clients, retirees the oldest."
      ],
      "metadata": {
        "papermill": {
          "duration": 0.04965,
          "end_time": "2025-02-08T04:42:45.827924",
          "exception": false,
          "start_time": "2025-02-08T04:42:45.778274",
          "status": "completed"
        },
        "tags": [],
        "id": "4f38McxkgAUQ"
      }
    },
    {
      "cell_type": "markdown",
      "source": [
        "Below I am creating age clusters."
      ],
      "metadata": {
        "papermill": {
          "duration": 0.049909,
          "end_time": "2025-02-08T04:42:45.927674",
          "exception": false,
          "start_time": "2025-02-08T04:42:45.877765",
          "status": "completed"
        },
        "tags": [],
        "id": "TIGSuaf6gAUQ"
      }
    },
    {
      "cell_type": "code",
      "source": [
        "data.loc[data['age'] <= 25, 'age cluster'] = 'age <= 25'\n",
        "data.loc[(data['age'] > 25) & (data['age'] <= 35), 'age cluster'] = '25 < age <= 35'\n",
        "data.loc[(data['age'] > 35) & (data['age'] <= 45), 'age cluster'] = '35 < age <= 45'\n",
        "data.loc[(data['age'] > 45) & (data['age'] <= 55), 'age cluster'] = '45 < age <= 55'\n",
        "data.loc[(data['age'] > 55) & (data['age'] <= 65), 'age cluster'] = '55 < age <= 65'\n",
        "data.loc[data['age'] > 65, 'age cluster'] = 'age > 65'\n",
        "\n",
        "# Grouping by age\n",
        "age_balance_groups = data.groupby('age cluster',as_index=False)['balance'].median().sort_values(by=['balance'],ascending=False)"
      ],
      "metadata": {
        "papermill": {
          "duration": 0.074668,
          "end_time": "2025-02-08T04:42:46.051999",
          "exception": false,
          "start_time": "2025-02-08T04:42:45.977331",
          "status": "completed"
        },
        "tags": [],
        "trusted": true,
        "execution": {
          "iopub.status.busy": "2025-02-12T17:53:37.013255Z",
          "iopub.execute_input": "2025-02-12T17:53:37.013622Z",
          "iopub.status.idle": "2025-02-12T17:53:37.03304Z",
          "shell.execute_reply.started": "2025-02-12T17:53:37.013587Z",
          "shell.execute_reply": "2025-02-12T17:53:37.032302Z"
        },
        "id": "2gSvcgRzgAUR"
      },
      "outputs": [],
      "execution_count": null
    },
    {
      "cell_type": "markdown",
      "source": [
        "I am also grouping the data to make some plots."
      ],
      "metadata": {
        "papermill": {
          "duration": 0.050757,
          "end_time": "2025-02-08T04:42:46.152418",
          "exception": false,
          "start_time": "2025-02-08T04:42:46.101661",
          "status": "completed"
        },
        "tags": [],
        "id": "aSf_kpmagAUS"
      }
    },
    {
      "cell_type": "code",
      "source": [
        "default_yes = data[data['default'] == 'yes'].groupby('age cluster')['default'].value_counts().reset_index(name='count yes')\n",
        "\n",
        "default_no = data[data['default'] == 'no'].groupby('age cluster')['default'].value_counts().reset_index(name='count no')\n",
        "\n",
        "default_yes_perc = default_yes.merge(default_no,on='age cluster')\n",
        "\n",
        "default_yes_perc['default percentage'] = (default_yes_perc['count yes'] / (default_yes_perc['count yes'] + default_yes_perc['count no'])) * 100\n",
        "\n",
        "default_yes_perc.drop(['default_x','default_y','count yes','count no'],axis=1,inplace=True)\n",
        "\n",
        "default_yes_perc = default_yes_perc.sort_values(by='default percentage',ascending=False)"
      ],
      "metadata": {
        "papermill": {
          "duration": 0.079953,
          "end_time": "2025-02-08T04:42:46.28308",
          "exception": false,
          "start_time": "2025-02-08T04:42:46.203127",
          "status": "completed"
        },
        "tags": [],
        "trusted": true,
        "execution": {
          "iopub.status.busy": "2025-02-12T17:53:37.034049Z",
          "iopub.execute_input": "2025-02-12T17:53:37.034325Z",
          "iopub.status.idle": "2025-02-12T17:53:37.066824Z",
          "shell.execute_reply.started": "2025-02-12T17:53:37.034301Z",
          "shell.execute_reply": "2025-02-12T17:53:37.065757Z"
        },
        "id": "147bSqDegAUT"
      },
      "outputs": [],
      "execution_count": null
    },
    {
      "cell_type": "code",
      "source": [
        "loan_yes = data[data['loan'] == 'yes'].groupby('age cluster')['loan'].value_counts().reset_index(name='count yes')\n",
        "\n",
        "loan_no = data[data['loan'] == 'no'].groupby('age cluster')['loan'].value_counts().reset_index(name='count no')\n",
        "\n",
        "loan_yes_perc = loan_yes.merge(loan_no,on='age cluster')\n",
        "\n",
        "loan_yes_perc['loan percentage'] = loan_yes_perc['count yes'] / (loan_yes_perc['count yes'] + loan_yes_perc['count no']) * 100\n",
        "\n",
        "loan_yes_perc.drop(['loan_x','loan_y','count yes','count no'],axis=1,inplace=True)\n",
        "\n",
        "loan_yes_perc = loan_yes_perc.sort_values(by='loan percentage',ascending=False)"
      ],
      "metadata": {
        "papermill": {
          "duration": 0.078308,
          "end_time": "2025-02-08T04:42:46.413857",
          "exception": false,
          "start_time": "2025-02-08T04:42:46.335549",
          "status": "completed"
        },
        "tags": [],
        "trusted": true,
        "execution": {
          "iopub.status.busy": "2025-02-12T17:53:37.067863Z",
          "iopub.execute_input": "2025-02-12T17:53:37.068217Z",
          "iopub.status.idle": "2025-02-12T17:53:37.090731Z",
          "shell.execute_reply.started": "2025-02-12T17:53:37.068183Z",
          "shell.execute_reply": "2025-02-12T17:53:37.08997Z"
        },
        "id": "MJtdG0AKgAUT"
      },
      "outputs": [],
      "execution_count": null
    },
    {
      "cell_type": "code",
      "source": [
        "fig,(ax1,ax2,ax3) = plt.subplots(ncols=3,figsize=(12,7))\n",
        "\n",
        "ax1 = sns.histplot(data=data,x='housing',multiple='stack',hue='age cluster',ax=ax1)\n",
        "ax1.set_title('Housing (Count) vs Age Clusters',fontsize=13)\n",
        "ax1.set_facecolor('lemonchiffon')\n",
        "\n",
        "ax2 = sns.barplot(data=default_yes_perc,x='age cluster',y='default percentage',ax=ax2)\n",
        "ax2.set_xticklabels(ax2.get_xticklabels(),rotation=45,fontsize=8)\n",
        "ax2.set_title('Default (Yes Percentage) vs Age Clusters',fontsize=13)\n",
        "ax2.set_facecolor('lemonchiffon')\n",
        "\n",
        "ax3 = sns.barplot(data=loan_yes_perc,x='age cluster',y='loan percentage',ax=ax3)\n",
        "ax3.set_xticklabels(ax3.get_xticklabels(),rotation=45,fontsize=8)\n",
        "ax3.set_title('Loan (Yes Percentage) vs Age Clusters',fontsize=13)\n",
        "ax3.set_facecolor('lemonchiffon')\n",
        "\n",
        "fig.suptitle(\"Age vs Education, Marital Status and Job\",fontsize=24)\n",
        "\n",
        "plt.tight_layout()\n",
        "fig.set_facecolor('lightsteelblue')"
      ],
      "metadata": {
        "papermill": {
          "duration": 1.201298,
          "end_time": "2025-02-08T04:42:47.665363",
          "exception": false,
          "start_time": "2025-02-08T04:42:46.464065",
          "status": "completed"
        },
        "tags": [],
        "trusted": true,
        "execution": {
          "iopub.status.busy": "2025-02-12T17:53:37.091575Z",
          "iopub.execute_input": "2025-02-12T17:53:37.091815Z",
          "iopub.status.idle": "2025-02-12T17:53:37.961006Z",
          "shell.execute_reply.started": "2025-02-12T17:53:37.091795Z",
          "shell.execute_reply": "2025-02-12T17:53:37.959944Z"
        },
        "id": "biZjIZ-LgAUU"
      },
      "outputs": [],
      "execution_count": null
    },
    {
      "cell_type": "markdown",
      "source": [
        "It is worth to note that:\n",
        "- A slight majority of clients does not have a housing loan. The fractions of housing_loan = yes and housing_loan = no clients vary depending on their age group: people older than 65 generally do not have a loan, clients belonging to other categories (e.g. those younger than 25) have a loan.\n",
        "- The percentage of clients with credits in default is relatively small (less than 2%). This default percentage has a large variability within the age groups: clients between 35 and 45 years old have the highest default percentage, old clients (> 65 years) have the smallest.\n",
        "- The percentage of clients having a loan changes a lot depending on their age group. Almost 16% of clients with 45 < age < 55 have a loan, while less than 1% of clients older than 65 have one."
      ],
      "metadata": {
        "papermill": {
          "duration": 0.051352,
          "end_time": "2025-02-08T04:42:47.768116",
          "exception": false,
          "start_time": "2025-02-08T04:42:47.716764",
          "status": "completed"
        },
        "tags": [],
        "id": "OvfWcSmmgAUV"
      }
    },
    {
      "cell_type": "markdown",
      "source": [
        "## 3.5 Marital Status + Education Clusters vs Other Features"
      ],
      "metadata": {
        "papermill": {
          "duration": 0.051173,
          "end_time": "2025-02-08T04:42:47.871217",
          "exception": false,
          "start_time": "2025-02-08T04:42:47.820044",
          "status": "completed"
        },
        "tags": [],
        "id": "JdoU6HNwgAUV"
      }
    },
    {
      "cell_type": "markdown",
      "source": [
        "Below I am creating marital status + education clusters."
      ],
      "metadata": {
        "papermill": {
          "duration": 0.050974,
          "end_time": "2025-02-08T04:42:47.973843",
          "exception": false,
          "start_time": "2025-02-08T04:42:47.922869",
          "status": "completed"
        },
        "tags": [],
        "id": "-OsskDx0gAUW"
      }
    },
    {
      "cell_type": "code",
      "source": [
        "### Creating a new column 'marital_edu' ###\n",
        "data['marital_edu'] = np.nan\n",
        "list2 = [data]\n",
        "\n",
        "for col in list2:\n",
        "    col.loc[(col['marital'] == 'single') & (data['education'] == 'primary'), 'marital_edu'] = 'single+primary'\n",
        "    col.loc[(col['marital'] == 'married') & (data['education'] == 'primary'), 'marital_edu'] = 'married+primary'\n",
        "    col.loc[(col['marital'] == 'divorced') & (data['education'] == 'primary'), 'marital_edu'] = 'divorced+primary'\n",
        "    col.loc[(col['marital'] == 'single') & (data['education'] == 'secondary'), 'marital_edu'] = 'single+secondary'\n",
        "    col.loc[(col['marital'] == 'married') & (data['education'] == 'secondary'), 'marital_edu'] = 'married+secondary'\n",
        "    col.loc[(col['marital'] == 'divorced') & (data['education'] == 'secondary'), 'marital_edu'] = 'divorced+secondary'\n",
        "    col.loc[(col['marital'] == 'single') & (data['education'] == 'tertiary'), 'marital_edu'] = 'single+tertiary'\n",
        "    col.loc[(col['marital'] == 'married') & (data['education'] == 'tertiary'), 'marital_edu'] = 'married+tertiary'\n",
        "    col.loc[(col['marital'] == 'divorced') & (data['education'] == 'tertiary'), 'marital_edu'] = 'divorced+tertiary'\n",
        "\n",
        "### Grouping by ###\n",
        "marital_edu_groups = data.groupby('marital_edu',as_index=False)['balance'].median().sort_values(by=['balance'],ascending=False)"
      ],
      "metadata": {
        "papermill": {
          "duration": 0.098128,
          "end_time": "2025-02-08T04:42:48.123428",
          "exception": false,
          "start_time": "2025-02-08T04:42:48.0253",
          "status": "completed"
        },
        "tags": [],
        "trusted": true,
        "execution": {
          "iopub.status.busy": "2025-02-12T17:53:37.961881Z",
          "iopub.execute_input": "2025-02-12T17:53:37.962136Z",
          "iopub.status.idle": "2025-02-12T17:53:38.000692Z",
          "shell.execute_reply.started": "2025-02-12T17:53:37.962115Z",
          "shell.execute_reply": "2025-02-12T17:53:37.999686Z"
        },
        "id": "DT7G4olFgAUW"
      },
      "outputs": [],
      "execution_count": null
    },
    {
      "cell_type": "markdown",
      "source": [
        "I am also grouping the data to make some plots."
      ],
      "metadata": {
        "papermill": {
          "duration": 0.051309,
          "end_time": "2025-02-08T04:42:48.226935",
          "exception": false,
          "start_time": "2025-02-08T04:42:48.175626",
          "status": "completed"
        },
        "tags": [],
        "id": "bhYE-eWLgAUX"
      }
    },
    {
      "cell_type": "code",
      "source": [
        "default_yes = data[data['default'] == 'yes'].groupby('marital_edu')['default'].value_counts().reset_index(name='count yes')\n",
        "\n",
        "default_no = data[data['default'] == 'no'].groupby('marital_edu')['default'].value_counts().reset_index(name='count no')\n",
        "\n",
        "default_yes_perc = default_yes.merge(default_no,on='marital_edu')\n",
        "\n",
        "default_yes_perc['default percentage'] = (default_yes_perc['count yes'] / (default_yes_perc['count yes'] + default_yes_perc['count no'])) * 100\n",
        "\n",
        "default_yes_perc.drop(['default_x','default_y','count yes','count no'],axis=1,inplace=True)\n",
        "\n",
        "default_yes_perc = default_yes_perc.sort_values(by='default percentage',ascending=False)"
      ],
      "metadata": {
        "papermill": {
          "duration": 0.081503,
          "end_time": "2025-02-08T04:42:48.359974",
          "exception": false,
          "start_time": "2025-02-08T04:42:48.278471",
          "status": "completed"
        },
        "tags": [],
        "trusted": true,
        "execution": {
          "iopub.status.busy": "2025-02-12T17:53:38.001716Z",
          "iopub.execute_input": "2025-02-12T17:53:38.002088Z",
          "iopub.status.idle": "2025-02-12T17:53:38.038661Z",
          "shell.execute_reply.started": "2025-02-12T17:53:38.002047Z",
          "shell.execute_reply": "2025-02-12T17:53:38.037618Z"
        },
        "id": "6ptkm2FhgAUX"
      },
      "outputs": [],
      "execution_count": null
    },
    {
      "cell_type": "code",
      "source": [
        "loan_yes = data[data['loan'] == 'yes'].groupby('marital_edu')['loan'].value_counts().reset_index(name='count yes')\n",
        "\n",
        "loan_no = data[data['loan'] == 'no'].groupby('marital_edu')['loan'].value_counts().reset_index(name='count no')\n",
        "\n",
        "loan_yes_perc = loan_yes.merge(loan_no,on='marital_edu')\n",
        "\n",
        "loan_yes_perc['loan percentage'] = loan_yes_perc['count yes'] / (loan_yes_perc['count yes'] + loan_yes_perc['count no']) * 100\n",
        "\n",
        "loan_yes_perc.drop(['loan_x','loan_y','count yes','count no'],axis=1,inplace=True)\n",
        "\n",
        "loan_yes_perc = loan_yes_perc.sort_values(by='loan percentage',ascending=False)"
      ],
      "metadata": {
        "papermill": {
          "duration": 0.079415,
          "end_time": "2025-02-08T04:42:48.490895",
          "exception": false,
          "start_time": "2025-02-08T04:42:48.41148",
          "status": "completed"
        },
        "tags": [],
        "trusted": true,
        "execution": {
          "iopub.status.busy": "2025-02-12T17:53:38.039756Z",
          "iopub.execute_input": "2025-02-12T17:53:38.040112Z",
          "iopub.status.idle": "2025-02-12T17:53:38.06538Z",
          "shell.execute_reply.started": "2025-02-12T17:53:38.040081Z",
          "shell.execute_reply": "2025-02-12T17:53:38.064325Z"
        },
        "id": "ZQeED0kngAUY"
      },
      "outputs": [],
      "execution_count": null
    },
    {
      "cell_type": "code",
      "source": [
        "fig,(ax1,ax2,ax3) = plt.subplots(ncols=3,figsize=(12,8))\n",
        "\n",
        "ax1 = sns.histplot(data=data,x='housing',multiple='stack',hue='marital_edu',ax=ax1)\n",
        "ax1.set_title('Housing (Count) vs Marital+Education',fontsize=12)\n",
        "ax1.set_facecolor('lemonchiffon')\n",
        "\n",
        "ax2 = sns.barplot(data=default_yes_perc,x='marital_edu',y='default percentage',ax=ax2)\n",
        "ax2.set_xticklabels(ax2.get_xticklabels(),rotation=60,fontsize=8)\n",
        "ax2.set_title('Default (Yes Percentage) vs Marital+Education',fontsize=12)\n",
        "ax2.set_facecolor('lemonchiffon')\n",
        "\n",
        "ax3 = sns.barplot(data=loan_yes_perc,x='marital_edu',y='loan percentage',ax=ax3)\n",
        "ax3.set_xticklabels(ax3.get_xticklabels(),rotation=60,fontsize=8)\n",
        "ax3.set_title('Loan (Yes Percentage) vs Marital+Education',fontsize=12)\n",
        "ax3.set_facecolor('lemonchiffon')\n",
        "\n",
        "fig.suptitle(\"Age vs Education, Marital Status and Job\",fontsize=24)\n",
        "\n",
        "plt.tight_layout()\n",
        "fig.set_facecolor('lightsteelblue')"
      ],
      "metadata": {
        "papermill": {
          "duration": 1.191335,
          "end_time": "2025-02-08T04:42:49.733904",
          "exception": false,
          "start_time": "2025-02-08T04:42:48.542569",
          "status": "completed"
        },
        "tags": [],
        "trusted": true,
        "execution": {
          "iopub.status.busy": "2025-02-12T17:53:38.066523Z",
          "iopub.execute_input": "2025-02-12T17:53:38.06687Z",
          "iopub.status.idle": "2025-02-12T17:53:39.085273Z",
          "shell.execute_reply.started": "2025-02-12T17:53:38.066838Z",
          "shell.execute_reply": "2025-02-12T17:53:39.08434Z"
        },
        "id": "qes3ZIe1gAUZ"
      },
      "outputs": [],
      "execution_count": null
    },
    {
      "cell_type": "markdown",
      "source": [
        "It is worth to note that:\n",
        "- Some marital + education categories are less likely to have a housing loan: married + tertiary and single + tertiary. Married + secondary clients are more likely to have a housing loan.\n",
        "- The percentage of clients with credits in default is relatively small (less than 3%). This default percentage has a large variability within the marital + education groups: divorcees with primary education have the highest default percentage, singles with tertiary education have the smallest.\n",
        "- The percentage of clients having a loan changes a lot depending on their marital + education group. Almost 20% of divorcees with secondary education have a loan, while less than 7% of singles with tertiary education have one."
      ],
      "metadata": {
        "papermill": {
          "duration": 0.053499,
          "end_time": "2025-02-08T04:42:49.84159",
          "exception": false,
          "start_time": "2025-02-08T04:42:49.788091",
          "status": "completed"
        },
        "tags": [],
        "id": "SiYBq3JBgAUZ"
      }
    },
    {
      "cell_type": "markdown",
      "source": [
        "## 3.6 Balance vs Categorical Fatures"
      ],
      "metadata": {
        "papermill": {
          "duration": 0.056818,
          "end_time": "2025-02-08T04:42:49.952561",
          "exception": false,
          "start_time": "2025-02-08T04:42:49.895743",
          "status": "completed"
        },
        "tags": [],
        "id": "UcYdRlXPgAUa"
      }
    },
    {
      "cell_type": "markdown",
      "source": [
        "Here, I am having a look at the clients' balance depending on their age and marital + education groups and also on their job."
      ],
      "metadata": {
        "papermill": {
          "duration": 0.054853,
          "end_time": "2025-02-08T04:42:50.063491",
          "exception": false,
          "start_time": "2025-02-08T04:42:50.008638",
          "status": "completed"
        },
        "tags": [],
        "id": "lueNKXdCgAUa"
      }
    },
    {
      "cell_type": "code",
      "source": [
        "job_groups = data.groupby('job',as_index=False)['balance'].median().sort_values(by=['balance'],ascending=False)\n",
        "\n",
        "### Creating the plot ###\n",
        "fig,(ax1,ax2,ax3) = plt.subplots(ncols=3,figsize=(14,6))\n",
        "\n",
        "ax1 = sns.barplot(data=marital_edu_groups,x='marital_edu',y='balance',ax=ax1)\n",
        "ax1.set_xticklabels(ax1.get_xticklabels(),rotation=45,fontsize=7)\n",
        "ax1.set_xlabel('marital status + education')\n",
        "ax1.set_ylabel('balance (median)')\n",
        "ax1.set_title('Balance vs Marital Status + Education',fontsize=14)\n",
        "ax1.set_facecolor('lemonchiffon')\n",
        "\n",
        "ax2 = sns.barplot(data=job_groups,x='job',y='balance',ax=ax2)\n",
        "ax2.set_xticklabels(ax2.get_xticklabels(),rotation=45,fontsize=8)\n",
        "ax2.set_ylabel('balance (median)')\n",
        "ax2.set_title(\"Balance vs Job\",fontsize=20)\n",
        "ax2.set_facecolor('lemonchiffon')\n",
        "\n",
        "ax3 = sns.barplot(data=age_balance_groups,x='age cluster',y='balance',ax=ax3)\n",
        "ax3.set_xticklabels(ax3.get_xticklabels(),rotation=45,fontsize=8)\n",
        "ax3.set_ylabel('balance (median)')\n",
        "ax3.set_title(\"Balance vs Age Cluster\",fontsize=20)\n",
        "ax3.set_facecolor('lemonchiffon')\n",
        "\n",
        "fig.suptitle(\"Balance vs Job, Marital Status + Education and Age Group\",fontsize=24)\n",
        "\n",
        "plt.tight_layout()\n",
        "fig.set_facecolor('lightsteelblue')"
      ],
      "metadata": {
        "papermill": {
          "duration": 0.919397,
          "end_time": "2025-02-08T04:42:51.042628",
          "exception": false,
          "start_time": "2025-02-08T04:42:50.123231",
          "status": "completed"
        },
        "tags": [],
        "trusted": true,
        "execution": {
          "iopub.status.busy": "2025-02-12T17:53:39.086488Z",
          "iopub.execute_input": "2025-02-12T17:53:39.086895Z",
          "iopub.status.idle": "2025-02-12T17:53:40.091889Z",
          "shell.execute_reply.started": "2025-02-12T17:53:39.086861Z",
          "shell.execute_reply": "2025-02-12T17:53:40.090988Z"
        },
        "id": "1TURL63MgAUb"
      },
      "outputs": [],
      "execution_count": null
    },
    {
      "cell_type": "markdown",
      "source": [
        "It is worth to note that:\n",
        "- Singles with tertiary education have the highest (median) balance; divorcees with secondary education have the smallest. This resembles the plots of default and loans, where singles with tertiary education had the lowest default and loan percentages. Divorcees with lower education had the highest default and loan percentages.\n",
        "- Retirees have the highest (median) balance. It is strange to see that unemployees have the second highest (median) balance.\n",
        "- In terms of age group, people older than 65 (the retirees) have the highest (median) balance, clients between 55 and 65 years the second highest, and so on."
      ],
      "metadata": {
        "papermill": {
          "duration": 0.058714,
          "end_time": "2025-02-08T04:42:51.161916",
          "exception": false,
          "start_time": "2025-02-08T04:42:51.103202",
          "status": "completed"
        },
        "tags": [],
        "id": "XDxNMGo5gAUb"
      }
    },
    {
      "cell_type": "markdown",
      "source": [
        "## 3.7 Conclusions of the Client Segmentation"
      ],
      "metadata": {
        "papermill": {
          "duration": 0.057338,
          "end_time": "2025-02-08T04:42:51.275846",
          "exception": false,
          "start_time": "2025-02-08T04:42:51.218508",
          "status": "completed"
        },
        "tags": [],
        "id": "BA3vtJsUgAUc"
      }
    },
    {
      "cell_type": "markdown",
      "source": [
        "- **Age and Education.** The average customer's age is 41. Youngsters generally have either a secondary or tertiary education, older clients generally have a primary one. Single clients are generally the youngest.\n",
        "- **Housing Loan.** A slight majority of clients does not have a housing loan. The fraction of clients with loan varies depending on their age group: people above 65 generally do not have a loan, clients belonging to other age groups (e.g. those younger than 25) have a loan.\n",
        "Married clients and singles, both with tertiary education, are less likely to have a housing loan. Married clients with secondary education are more likely to have one.\n",
        "- **Default Credit.** The percentage of clients with credit in default is less than 3%. This percentage has a large variability within the age groups [clients between 35 and 45 years old have the highest default percentage, old clients (> 65 years) have the smallest] and also within the marital status + education groups [divorcees with primary education have the highest percentage, singles with tertiary education have the smallest].\n",
        "- **Loan.** The percentage of clients having a loan changes a lot depending on their age group and also on their marital + education group. Almost 16% of clients with 45 < age < 55 have a loan, while less than 1% of clients older than 65 have one.\n",
        "Almost 20% of divorcees with secondary education have a loan, while less than 7% of singles with tertiary education have one.\n",
        "- **Balance.** The average client's balance is 1529$\\$$. Singles with tertiary education have the highest (median) balance; divorcees with secondary education have the smallest.\n",
        "In terms of age, retirees have the highest (median) balance, clients between 55 and 65 the second highest.\n",
        "\n"
      ],
      "metadata": {
        "papermill": {
          "duration": 0.056976,
          "end_time": "2025-02-08T04:42:51.390188",
          "exception": false,
          "start_time": "2025-02-08T04:42:51.333212",
          "status": "completed"
        },
        "tags": [],
        "id": "2yCgQ0R0gAUc"
      }
    },
    {
      "cell_type": "markdown",
      "source": [
        "# 4. Binary Classification\n",
        "<a id=\"4\"></a>"
      ],
      "metadata": {
        "papermill": {
          "duration": 0.055698,
          "end_time": "2025-02-08T04:42:51.504956",
          "exception": false,
          "start_time": "2025-02-08T04:42:51.449258",
          "status": "completed"
        },
        "tags": [],
        "id": "Zgf43G1IgAUd"
      }
    },
    {
      "cell_type": "markdown",
      "source": [
        "Here, I am performing a binary classification of the clients, with *deposit* as the target (boolean) variable. The definition of deposit is: \"Has the client subscribed a term deposit?\"."
      ],
      "metadata": {
        "papermill": {
          "duration": 0.055282,
          "end_time": "2025-02-08T04:42:51.617166",
          "exception": false,
          "start_time": "2025-02-08T04:42:51.561884",
          "status": "completed"
        },
        "tags": [],
        "id": "8OBL3JlXgAUd"
      }
    },
    {
      "cell_type": "markdown",
      "source": [
        "## 4.1 Outliers Capping"
      ],
      "metadata": {
        "papermill": {
          "duration": 0.054798,
          "end_time": "2025-02-08T04:42:51.728433",
          "exception": false,
          "start_time": "2025-02-08T04:42:51.673635",
          "status": "completed"
        },
        "tags": [],
        "id": "1HcaKcQDgAUd"
      }
    },
    {
      "cell_type": "markdown",
      "source": [
        "Outliers are data points that stand out significantly from the rest of the data. They can be extremely high or low values compared to the other observations and can be caused by measurement errors, natural variations in the data, or even unexpected discoveries.\n",
        "It is well-known that the outliers in a dataset (that we want to study via classification or regression techniques) can result in a lower predictive performance; thus they need to be dealt with."
      ],
      "metadata": {
        "papermill": {
          "duration": 0.055064,
          "end_time": "2025-02-08T04:42:51.838528",
          "exception": false,
          "start_time": "2025-02-08T04:42:51.783464",
          "status": "completed"
        },
        "tags": [],
        "id": "-e5m3TDagAUe"
      }
    },
    {
      "cell_type": "markdown",
      "source": [
        "First, I am capping the outliers ..."
      ],
      "metadata": {
        "papermill": {
          "duration": 0.055054,
          "end_time": "2025-02-08T04:42:51.948295",
          "exception": false,
          "start_time": "2025-02-08T04:42:51.893241",
          "status": "completed"
        },
        "tags": [],
        "id": "S82lO4dXgAUe"
      }
    },
    {
      "cell_type": "code",
      "source": [
        "def outlier_imputer(data,features):\n",
        "\n",
        "    data_out = data.copy()\n",
        "\n",
        "    for column in features:\n",
        "\n",
        "        # First define the first and third quartiles\n",
        "        Q1 = (data_out[column].quantile(0.25)).astype(int)\n",
        "        Q3 = (data_out[column].quantile(0.75)).astype(int)\n",
        "        # Define the inter-quartile range\n",
        "        IQR = Q3 - Q1\n",
        "        # ... and the lower/higher threshold values\n",
        "        lowerL = (Q1 - 1.5 * IQR).astype(int)\n",
        "        higherL = (Q3 + 1.5 * IQR).astype(int)\n",
        "\n",
        "        # Impute 'left' outliers\n",
        "        data_out.loc[data_out[column] < lowerL,column] = lowerL\n",
        "        # Impute 'right' outliers\n",
        "        data_out.loc[data_out[column] > higherL,column] = higherL\n",
        "\n",
        "    return data_out\n",
        "\n",
        "features = ['age','balance','day','duration','campaign','pdays','previous']\n",
        "\n",
        "capped_data = outlier_imputer(data,features)"
      ],
      "metadata": {
        "papermill": {
          "duration": 0.089045,
          "end_time": "2025-02-08T04:42:52.09247",
          "exception": false,
          "start_time": "2025-02-08T04:42:52.003425",
          "status": "completed"
        },
        "tags": [],
        "trusted": true,
        "execution": {
          "iopub.status.busy": "2025-02-12T17:53:40.092921Z",
          "iopub.execute_input": "2025-02-12T17:53:40.09316Z",
          "iopub.status.idle": "2025-02-12T17:53:40.122003Z",
          "shell.execute_reply.started": "2025-02-12T17:53:40.093139Z",
          "shell.execute_reply": "2025-02-12T17:53:40.121132Z"
        },
        "id": "LQuyYiSxgAUe"
      },
      "outputs": [],
      "execution_count": null
    },
    {
      "cell_type": "markdown",
      "source": [
        "... then, I am checking that the capping procedure was successful: there should be no outlier left in the boxplots."
      ],
      "metadata": {
        "papermill": {
          "duration": 0.055044,
          "end_time": "2025-02-08T04:42:52.204301",
          "exception": false,
          "start_time": "2025-02-08T04:42:52.149257",
          "status": "completed"
        },
        "tags": [],
        "id": "KnuYwjyEgAUf"
      }
    },
    {
      "cell_type": "code",
      "source": [
        "for i in range(2):\n",
        "    fig,(ax1,ax2,ax3,ax4) = plt.subplots(ncols=4,figsize=(12,5))\n",
        "    ax1 = sns.boxplot(capped_data[features[i*4]],ax=ax1)\n",
        "    ax1.set_title('Boxplot of '+str(features[i*4]),fontsize=20)\n",
        "    ax1.set_facecolor('lemonchiffon')\n",
        "    ax2 = sns.boxplot(capped_data[features[i*4+1]],ax=ax2)\n",
        "    ax2.set_title('Boxplot of '+str(features[i*4+1]),fontsize=20)\n",
        "    ax2.set_facecolor('lemonchiffon')\n",
        "    ax3 = sns.boxplot(capped_data[features[i*4+2]],ax=ax3)\n",
        "    ax3.set_title('Boxplot of '+str(features[i*4+2]),fontsize=20)\n",
        "    ax3.set_facecolor('lemonchiffon')\n",
        "    if i < 1:\n",
        "        ax4 = sns.boxplot(capped_data[features[i*4+3]],ax=ax4)\n",
        "        ax4.set_title('Boxplot of '+str(features[i*4+3]),fontsize=20)\n",
        "        ax4.set_facecolor('lemonchiffon')\n",
        "    else:\n",
        "        ax4.set_facecolor('lemonchiffon')\n",
        "\n",
        "    fig.suptitle(\"Boxplots of the Outliers\",fontsize=24)\n",
        "\n",
        "    plt.tight_layout()\n",
        "    fig.set_facecolor('lightsteelblue')"
      ],
      "metadata": {
        "papermill": {
          "duration": 1.557938,
          "end_time": "2025-02-08T04:42:53.817626",
          "exception": false,
          "start_time": "2025-02-08T04:42:52.259688",
          "status": "completed"
        },
        "tags": [],
        "trusted": true,
        "execution": {
          "iopub.status.busy": "2025-02-12T17:53:40.122945Z",
          "iopub.execute_input": "2025-02-12T17:53:40.123204Z",
          "iopub.status.idle": "2025-02-12T17:53:41.454252Z",
          "shell.execute_reply.started": "2025-02-12T17:53:40.123182Z",
          "shell.execute_reply": "2025-02-12T17:53:41.453328Z"
        },
        "id": "CINvTaAHgAUf"
      },
      "outputs": [],
      "execution_count": null
    },
    {
      "cell_type": "markdown",
      "source": [
        "I am also plotting one of the distributions (*duration*) before and after the outliers imputation."
      ],
      "metadata": {
        "papermill": {
          "duration": 0.056796,
          "end_time": "2025-02-08T04:42:53.935068",
          "exception": false,
          "start_time": "2025-02-08T04:42:53.878272",
          "status": "completed"
        },
        "tags": [],
        "id": "gaPjv6-RgAUg"
      }
    },
    {
      "cell_type": "code",
      "source": [
        "fig,(ax1,ax2) = plt.subplots(ncols=2,figsize=(12,6))\n",
        "\n",
        "ax1 = sns.distplot(data['duration'],ax=ax1,hist=False)\n",
        "ax1.set_title('Distribution of Duration Before Imputation',fontsize=17)\n",
        "ax1.set_facecolor('lemonchiffon')\n",
        "\n",
        "ax2 = sns.distplot(capped_data['duration'],ax=ax2,hist=False)\n",
        "ax2.set_title('Distribution of Duration After Imputation',fontsize=17)\n",
        "ax2.set_facecolor('lemonchiffon')\n",
        "\n",
        "fig.suptitle(\"Distribution of Duration Before/After Imputation\",fontsize=24)\n",
        "\n",
        "plt.tight_layout()\n",
        "fig.set_facecolor('lightsteelblue')"
      ],
      "metadata": {
        "papermill": {
          "duration": 0.879185,
          "end_time": "2025-02-08T04:42:54.871016",
          "exception": false,
          "start_time": "2025-02-08T04:42:53.991831",
          "status": "completed"
        },
        "tags": [],
        "trusted": true,
        "execution": {
          "iopub.status.busy": "2025-02-12T17:53:41.455351Z",
          "iopub.execute_input": "2025-02-12T17:53:41.455649Z",
          "iopub.status.idle": "2025-02-12T17:53:42.016944Z",
          "shell.execute_reply.started": "2025-02-12T17:53:41.455625Z",
          "shell.execute_reply": "2025-02-12T17:53:42.016015Z"
        },
        "id": "tA7F59cygAUg"
      },
      "outputs": [],
      "execution_count": null
    },
    {
      "cell_type": "markdown",
      "source": [
        "One can notice that, after outliers imputation, the x-range has changed from around -1000$-$4000 to 0$-$1200. Moreover, the capped values have accomulated on the right-hand side of the distribution and have formed a second peak."
      ],
      "metadata": {
        "papermill": {
          "duration": 0.06085,
          "end_time": "2025-02-08T04:42:54.994613",
          "exception": false,
          "start_time": "2025-02-08T04:42:54.933763",
          "status": "completed"
        },
        "tags": [],
        "id": "fEbIAMBlgAUh"
      }
    },
    {
      "cell_type": "markdown",
      "source": [
        "## 4.2 Feature Importance and Correlation Heatmap"
      ],
      "metadata": {
        "papermill": {
          "duration": 0.060268,
          "end_time": "2025-02-08T04:42:55.114119",
          "exception": false,
          "start_time": "2025-02-08T04:42:55.053851",
          "status": "completed"
        },
        "tags": [],
        "id": "bz95cD5fgAUi"
      }
    },
    {
      "cell_type": "markdown",
      "source": [
        "I want to have a look at the feature importance and correlation between the variables."
      ],
      "metadata": {
        "papermill": {
          "duration": 0.058274,
          "end_time": "2025-02-08T04:42:55.231131",
          "exception": false,
          "start_time": "2025-02-08T04:42:55.172857",
          "status": "completed"
        },
        "tags": [],
        "id": "hSqhmbR4gAUi"
      }
    },
    {
      "cell_type": "markdown",
      "source": [
        "**Feature Importance**"
      ],
      "metadata": {
        "papermill": {
          "duration": 0.059582,
          "end_time": "2025-02-08T04:42:55.350824",
          "exception": false,
          "start_time": "2025-02-08T04:42:55.291242",
          "status": "completed"
        },
        "tags": [],
        "id": "ZPXF0GMVgAUj"
      }
    },
    {
      "cell_type": "markdown",
      "source": [
        "Before running the calculation, let's have a look at the variables."
      ],
      "metadata": {
        "papermill": {
          "duration": 0.058955,
          "end_time": "2025-02-08T04:42:55.468614",
          "exception": false,
          "start_time": "2025-02-08T04:42:55.409659",
          "status": "completed"
        },
        "tags": [],
        "id": "T4aMnIitgAUk"
      }
    },
    {
      "cell_type": "code",
      "source": [
        "capped_data.head()"
      ],
      "metadata": {
        "papermill": {
          "duration": 0.079056,
          "end_time": "2025-02-08T04:42:55.60681",
          "exception": false,
          "start_time": "2025-02-08T04:42:55.527754",
          "status": "completed"
        },
        "tags": [],
        "trusted": true,
        "execution": {
          "iopub.status.busy": "2025-02-12T17:53:42.018101Z",
          "iopub.execute_input": "2025-02-12T17:53:42.01845Z",
          "iopub.status.idle": "2025-02-12T17:53:42.034524Z",
          "shell.execute_reply.started": "2025-02-12T17:53:42.018421Z",
          "shell.execute_reply": "2025-02-12T17:53:42.033503Z"
        },
        "id": "doK_IhF0gAUl"
      },
      "outputs": [],
      "execution_count": null
    },
    {
      "cell_type": "markdown",
      "source": [
        "Some of these variables are not necessary anymore (they were only used for the EDA). For example, I cannot keep both 'age' and 'age cluster'; the same holds for 'marital' and 'education' vs 'marital_edu'. This is why I will have to drop some of them."
      ],
      "metadata": {
        "papermill": {
          "duration": 0.058477,
          "end_time": "2025-02-08T04:42:55.724145",
          "exception": false,
          "start_time": "2025-02-08T04:42:55.665668",
          "status": "completed"
        },
        "tags": [],
        "id": "pV6wLYelgAUl"
      }
    },
    {
      "cell_type": "code",
      "source": [
        "capped_data.drop(['education','marital','age cluster'],axis=1,inplace=True)"
      ],
      "metadata": {
        "papermill": {
          "duration": 0.068773,
          "end_time": "2025-02-08T04:42:55.851818",
          "exception": false,
          "start_time": "2025-02-08T04:42:55.783045",
          "status": "completed"
        },
        "tags": [],
        "trusted": true,
        "execution": {
          "iopub.status.busy": "2025-02-12T17:53:42.035684Z",
          "iopub.execute_input": "2025-02-12T17:53:42.035949Z",
          "iopub.status.idle": "2025-02-12T17:53:42.051106Z",
          "shell.execute_reply.started": "2025-02-12T17:53:42.035926Z",
          "shell.execute_reply": "2025-02-12T17:53:42.050292Z"
        },
        "id": "Qjk4MKNxgAUl"
      },
      "outputs": [],
      "execution_count": null
    },
    {
      "cell_type": "markdown",
      "source": [
        "Now, I can look at the relative importance of the features by means of a random forest classifier with a max depth ('max_depth') of 100. One can check that for values of 'max_depth' larger than 20, the results for the feature importance are substantially the same.\n",
        "\n",
        "**Please Note**\n",
        "1. The feature importance calculation does not work with categorical data. This is why I will have to encode the categorical variables.\n",
        "2. Even though (in a later stage) I will perform the binary classification by one-hot-encoding the categorical columns, here I am using label encoding because (for this task) I do not want to split categorical columns into their single components."
      ],
      "metadata": {
        "papermill": {
          "duration": 0.057756,
          "end_time": "2025-02-08T04:42:55.967642",
          "exception": false,
          "start_time": "2025-02-08T04:42:55.909886",
          "status": "completed"
        },
        "tags": [],
        "id": "T6G3Zc25gAUm"
      }
    },
    {
      "cell_type": "code",
      "source": [
        "data_feature = capped_data.copy()\n",
        "\n",
        "## Label encoding ##\n",
        "LABELS  = data_feature.columns\n",
        "encoder = LabelEncoder()\n",
        "\n",
        "for col in LABELS:\n",
        "    # Check if object\n",
        "    if data_feature[col].dtype == 'O':\n",
        "        # Fit label encoder and return encoded labels\n",
        "        data_feature[col] = encoder.fit_transform(data_feature[col])\n",
        "\n",
        "X = data_feature.drop('deposit',axis=1)\n",
        "y = data_feature['deposit']\n",
        "\n",
        "# Random Forest Model\n",
        "random_forest = RandomForestClassifier(random_state=1,max_depth=100)\n",
        "random_forest.fit(X,y)\n",
        "\n",
        "importances = pd.DataFrame({'feature':X.columns,'importance':np.round(random_forest.feature_importances_,3)})\n",
        "importances = importances.sort_values('importance',ascending=False)\n",
        "\n",
        "importances"
      ],
      "metadata": {
        "papermill": {
          "duration": 1.453858,
          "end_time": "2025-02-08T04:42:57.48023",
          "exception": false,
          "start_time": "2025-02-08T04:42:56.026372",
          "status": "completed"
        },
        "tags": [],
        "trusted": true,
        "execution": {
          "iopub.status.busy": "2025-02-12T17:53:42.052076Z",
          "iopub.execute_input": "2025-02-12T17:53:42.052435Z",
          "iopub.status.idle": "2025-02-12T17:53:43.434111Z",
          "shell.execute_reply.started": "2025-02-12T17:53:42.052403Z",
          "shell.execute_reply": "2025-02-12T17:53:43.433095Z"
        },
        "id": "IwJ1rG88gAUm"
      },
      "outputs": [],
      "execution_count": null
    },
    {
      "cell_type": "code",
      "source": [
        "plt.figure(figsize=(12,6))\n",
        "\n",
        "sns.barplot(importances[importances['importance'] > 0.025],x='feature',y='importance')\n",
        "\n",
        "plt.title('Feature Importances > 0.025',fontsize=25)\n",
        "plt.xlabel('feature',fontsize=15)\n",
        "plt.xticks(fontsize=8,rotation=45)\n",
        "plt.ylabel('relative importance',fontsize=15)\n",
        "\n",
        "plt.tight_layout()\n",
        "plt.gcf().patch.set_facecolor('lightsteelblue')\n",
        "plt.gca().set_facecolor('lemonchiffon')\n",
        "plt.show()"
      ],
      "metadata": {
        "papermill": {
          "duration": 0.463713,
          "end_time": "2025-02-08T04:42:58.002262",
          "exception": false,
          "start_time": "2025-02-08T04:42:57.538549",
          "status": "completed"
        },
        "tags": [],
        "trusted": true,
        "execution": {
          "iopub.status.busy": "2025-02-12T17:53:43.435139Z",
          "iopub.execute_input": "2025-02-12T17:53:43.435489Z",
          "iopub.status.idle": "2025-02-12T17:53:43.723293Z",
          "shell.execute_reply.started": "2025-02-12T17:53:43.435454Z",
          "shell.execute_reply": "2025-02-12T17:53:43.722301Z"
        },
        "id": "ODRSW6OggAUm"
      },
      "outputs": [],
      "execution_count": null
    },
    {
      "cell_type": "markdown",
      "source": [
        "One can notice that:\n",
        "* 'duration' is expected to be (by far) the most important predictor.\n",
        "* Then we have second-tier features (like 'balance', 'month', 'day' and 'age') and third-tier ones (like 'contact' and 'poutcome').\n",
        "* The features not displayed in this plot (like 'default' or 'loan') are not expected to be so important in predicting the outcome of the marketing campaign."
      ],
      "metadata": {
        "papermill": {
          "duration": 0.0646,
          "end_time": "2025-02-08T04:42:58.12643",
          "exception": false,
          "start_time": "2025-02-08T04:42:58.06183",
          "status": "completed"
        },
        "tags": [],
        "id": "YxtCKWLxgAUn"
      }
    },
    {
      "cell_type": "markdown",
      "source": [
        "**Correlation heatmap**"
      ],
      "metadata": {
        "papermill": {
          "duration": 0.05967,
          "end_time": "2025-02-08T04:42:58.24653",
          "exception": false,
          "start_time": "2025-02-08T04:42:58.18686",
          "status": "completed"
        },
        "tags": [],
        "id": "Vbg-Wf0egAUn"
      }
    },
    {
      "cell_type": "code",
      "source": [
        "plt.figure(figsize=(15,10))\n",
        "\n",
        "sns.heatmap(X.corr(method='pearson'),vmin=-1,vmax=1,annot=True,cmap='coolwarm')\n",
        "plt.title('Correlation heatmap',fontsize=25)\n",
        "\n",
        "plt.tight_layout()\n",
        "plt.gcf().patch.set_facecolor('lightsteelblue')\n",
        "plt.show()"
      ],
      "metadata": {
        "papermill": {
          "duration": 1.247431,
          "end_time": "2025-02-08T04:42:59.558631",
          "exception": false,
          "start_time": "2025-02-08T04:42:58.3112",
          "status": "completed"
        },
        "tags": [],
        "trusted": true,
        "execution": {
          "iopub.status.busy": "2025-02-12T17:53:43.724353Z",
          "iopub.execute_input": "2025-02-12T17:53:43.724611Z",
          "iopub.status.idle": "2025-02-12T17:53:44.656425Z",
          "shell.execute_reply.started": "2025-02-12T17:53:43.724589Z",
          "shell.execute_reply": "2025-02-12T17:53:44.655417Z"
        },
        "id": "0VSxfuAigAUn"
      },
      "outputs": [],
      "execution_count": null
    },
    {
      "cell_type": "markdown",
      "source": [
        "There are some variables that are strongly correlated one another: 'pdays' vs 'previous', 'pdays' vs 'poutcome', 'previous' vs 'poutcome'. At least a couple of them ('pdays' vs 'previous'), with Pearson coefficient > 0.9, should be dealt with.\n",
        "\n",
        "This is why I am dropping 'pdays' and 'previous'. 'poutcome' has a higher feature importance compared to theirs."
      ],
      "metadata": {
        "papermill": {
          "duration": 0.063289,
          "end_time": "2025-02-08T04:42:59.745167",
          "exception": false,
          "start_time": "2025-02-08T04:42:59.681878",
          "status": "completed"
        },
        "tags": [],
        "id": "pdr8D2BtgAUo"
      }
    },
    {
      "cell_type": "code",
      "source": [
        "capped_data.drop(['pdays','previous'],axis=1,inplace=True)\n",
        "\n",
        "data_feature.drop(['pdays','previous'],axis=1,inplace=True)\n",
        "\n",
        "capped_data.columns"
      ],
      "metadata": {
        "papermill": {
          "duration": 0.077884,
          "end_time": "2025-02-08T04:42:59.886369",
          "exception": false,
          "start_time": "2025-02-08T04:42:59.808485",
          "status": "completed"
        },
        "tags": [],
        "trusted": true,
        "execution": {
          "iopub.status.busy": "2025-02-12T17:53:44.657387Z",
          "iopub.execute_input": "2025-02-12T17:53:44.657655Z",
          "iopub.status.idle": "2025-02-12T17:53:44.667794Z",
          "shell.execute_reply.started": "2025-02-12T17:53:44.657633Z",
          "shell.execute_reply": "2025-02-12T17:53:44.666865Z"
        },
        "id": "c0K9D0DvgAUo"
      },
      "outputs": [],
      "execution_count": null
    },
    {
      "cell_type": "markdown",
      "source": [
        "**Pairplot**"
      ],
      "metadata": {
        "papermill": {
          "duration": 0.069515,
          "end_time": "2025-02-08T04:43:00.024047",
          "exception": false,
          "start_time": "2025-02-08T04:42:59.954532",
          "status": "completed"
        },
        "tags": [],
        "id": "hF7ZZpWegAUp"
      }
    },
    {
      "cell_type": "markdown",
      "source": [
        "Let's also plot a pairplot in order to display the relation between the variables. We will also use it to find out whether there is multi-collinearity between them.\n",
        "\n",
        "Multi-collinearity is a state of the dataset where 2 or more independent variables are showing signs of high correlation between themselves. This is a problem because it has potential to distort the outcomes of machine learning models and also compromise the reliability of the results. In this respect, logistic regression requires there to be little or no multicollinearity among the independent variables."
      ],
      "metadata": {
        "papermill": {
          "duration": 0.084311,
          "end_time": "2025-02-08T04:43:00.177105",
          "exception": false,
          "start_time": "2025-02-08T04:43:00.092794",
          "status": "completed"
        },
        "tags": [],
        "id": "YM3hTZxfgAUp"
      }
    },
    {
      "cell_type": "code",
      "source": [
        "sns.set_style(\"whitegrid\")\n",
        "sns.pairplot(data_feature,size=3,corner=True)\n",
        "\n",
        "plt.gcf().patch.set_facecolor('lightsteelblue')\n",
        "plt.show()"
      ],
      "metadata": {
        "papermill": {
          "duration": 34.326464,
          "end_time": "2025-02-08T04:43:34.571998",
          "exception": false,
          "start_time": "2025-02-08T04:43:00.245534",
          "status": "completed"
        },
        "tags": [],
        "trusted": true,
        "execution": {
          "iopub.status.busy": "2025-02-12T17:53:44.675636Z",
          "iopub.execute_input": "2025-02-12T17:53:44.675959Z",
          "iopub.status.idle": "2025-02-12T17:54:19.848111Z",
          "shell.execute_reply.started": "2025-02-12T17:53:44.675931Z",
          "shell.execute_reply": "2025-02-12T17:54:19.846871Z"
        },
        "id": "TrRKhxi8gAUp"
      },
      "outputs": [],
      "execution_count": null
    },
    {
      "cell_type": "markdown",
      "source": [
        "We can see no sign of multi-collinearity."
      ],
      "metadata": {
        "papermill": {
          "duration": 0.083926,
          "end_time": "2025-02-08T04:43:34.741264",
          "exception": false,
          "start_time": "2025-02-08T04:43:34.657338",
          "status": "completed"
        },
        "tags": [],
        "id": "FZ9MX5T0gAUp"
      }
    },
    {
      "cell_type": "markdown",
      "source": [
        "## 4.3 Label Encoding and Scaling"
      ],
      "metadata": {
        "papermill": {
          "duration": 0.083685,
          "end_time": "2025-02-08T04:43:34.909807",
          "exception": false,
          "start_time": "2025-02-08T04:43:34.826122",
          "status": "completed"
        },
        "tags": [],
        "id": "gmvo3YdJgAUq"
      }
    },
    {
      "cell_type": "markdown",
      "source": [
        "**Defining X and y, train-test splitting**"
      ],
      "metadata": {
        "papermill": {
          "duration": 0.085991,
          "end_time": "2025-02-08T04:43:35.080005",
          "exception": false,
          "start_time": "2025-02-08T04:43:34.994014",
          "status": "completed"
        },
        "tags": [],
        "id": "qka2m_-qgAUq"
      }
    },
    {
      "cell_type": "code",
      "source": [
        "X = capped_data.drop('deposit',axis=1)\n",
        "\n",
        "y = capped_data['deposit']"
      ],
      "metadata": {
        "papermill": {
          "duration": 0.096927,
          "end_time": "2025-02-08T04:43:35.263509",
          "exception": false,
          "start_time": "2025-02-08T04:43:35.166582",
          "status": "completed"
        },
        "tags": [],
        "trusted": true,
        "execution": {
          "iopub.status.busy": "2025-02-12T17:54:19.850651Z",
          "iopub.execute_input": "2025-02-12T17:54:19.850962Z",
          "iopub.status.idle": "2025-02-12T17:54:19.8583Z",
          "shell.execute_reply.started": "2025-02-12T17:54:19.850934Z",
          "shell.execute_reply": "2025-02-12T17:54:19.857108Z"
        },
        "id": "UnbpBeZfgAUq"
      },
      "outputs": [],
      "execution_count": null
    },
    {
      "cell_type": "code",
      "source": [
        "X_train,X_test,y_train,y_test = train_test_split(X,y,test_size=0.3,stratify=y,random_state=42)\n",
        "\n",
        "X_train.shape, X_test.shape, y_train.shape, y_test.shape"
      ],
      "metadata": {
        "papermill": {
          "duration": 0.110207,
          "end_time": "2025-02-08T04:43:35.457509",
          "exception": false,
          "start_time": "2025-02-08T04:43:35.347302",
          "status": "completed"
        },
        "tags": [],
        "trusted": true,
        "execution": {
          "iopub.status.busy": "2025-02-12T17:54:19.859443Z",
          "iopub.execute_input": "2025-02-12T17:54:19.859731Z",
          "iopub.status.idle": "2025-02-12T17:54:19.886109Z",
          "shell.execute_reply.started": "2025-02-12T17:54:19.859706Z",
          "shell.execute_reply": "2025-02-12T17:54:19.884626Z"
        },
        "id": "oXwQCw6XgAUr"
      },
      "outputs": [],
      "execution_count": null
    },
    {
      "cell_type": "markdown",
      "source": [
        "**Label encoding and scaling**"
      ],
      "metadata": {
        "papermill": {
          "duration": 0.082252,
          "end_time": "2025-02-08T04:43:35.623072",
          "exception": false,
          "start_time": "2025-02-08T04:43:35.54082",
          "status": "completed"
        },
        "tags": [],
        "id": "CV0H92OJgAUr"
      }
    },
    {
      "cell_type": "markdown",
      "source": [
        "First, I am encoding the target variable."
      ],
      "metadata": {
        "papermill": {
          "duration": 0.082672,
          "end_time": "2025-02-08T04:43:35.788577",
          "exception": false,
          "start_time": "2025-02-08T04:43:35.705905",
          "status": "completed"
        },
        "tags": [],
        "id": "bhRChC-7gAUs"
      }
    },
    {
      "cell_type": "code",
      "source": [
        "encoder = LabelEncoder()\n",
        "\n",
        "y_train = encoder.fit_transform(y_train)\n",
        "y_test  = encoder.transform(y_test)\n",
        "\n",
        "y_train"
      ],
      "metadata": {
        "papermill": {
          "duration": 0.095615,
          "end_time": "2025-02-08T04:43:35.96703",
          "exception": false,
          "start_time": "2025-02-08T04:43:35.871415",
          "status": "completed"
        },
        "tags": [],
        "trusted": true,
        "execution": {
          "iopub.status.busy": "2025-02-12T17:54:19.887191Z",
          "iopub.execute_input": "2025-02-12T17:54:19.887513Z",
          "iopub.status.idle": "2025-02-12T17:54:19.898278Z",
          "shell.execute_reply.started": "2025-02-12T17:54:19.887489Z",
          "shell.execute_reply": "2025-02-12T17:54:19.896727Z"
        },
        "id": "hhVSNGgngAUs"
      },
      "outputs": [],
      "execution_count": null
    },
    {
      "cell_type": "markdown",
      "source": [
        "Then, I am checking the cardinality of the categorical variables in X_train (and X_test)."
      ],
      "metadata": {
        "papermill": {
          "duration": 0.082649,
          "end_time": "2025-02-08T04:43:36.133217",
          "exception": false,
          "start_time": "2025-02-08T04:43:36.050568",
          "status": "completed"
        },
        "tags": [],
        "id": "MG_Tz_gOgAUs"
      }
    },
    {
      "cell_type": "code",
      "source": [
        "cat_cols = [col for col in X_train.columns if X_train[col].dtypes == 'O']\n",
        "\n",
        "bin_cols = []\n",
        "multi_cols = []\n",
        "\n",
        "for col in cat_cols:\n",
        "    print(f'feature = {col}; cardinality = {X_train[col].nunique()}')\n",
        "    if X_train[col].nunique() <= 2:\n",
        "        bin_cols.append(col)\n",
        "    else:\n",
        "        multi_cols.append(col)\n",
        "\n",
        "print()\n",
        "print(f'binary columns: {bin_cols}')\n",
        "print()\n",
        "print(f'multi-class columns: {multi_cols}')"
      ],
      "metadata": {
        "papermill": {
          "duration": 0.103426,
          "end_time": "2025-02-08T04:43:36.323374",
          "exception": false,
          "start_time": "2025-02-08T04:43:36.219948",
          "status": "completed"
        },
        "tags": [],
        "trusted": true,
        "execution": {
          "iopub.status.busy": "2025-02-12T17:54:19.899495Z",
          "iopub.execute_input": "2025-02-12T17:54:19.899842Z",
          "iopub.status.idle": "2025-02-12T17:54:19.927431Z",
          "shell.execute_reply.started": "2025-02-12T17:54:19.899817Z",
          "shell.execute_reply": "2025-02-12T17:54:19.926558Z"
        },
        "id": "qIgwH93EgAUt"
      },
      "outputs": [],
      "execution_count": null
    },
    {
      "cell_type": "markdown",
      "source": [
        "I am label-encoding the binary features."
      ],
      "metadata": {
        "papermill": {
          "duration": 0.08582,
          "end_time": "2025-02-08T04:43:36.493995",
          "exception": false,
          "start_time": "2025-02-08T04:43:36.408175",
          "status": "completed"
        },
        "tags": [],
        "id": "ljRL0etcgAUt"
      }
    },
    {
      "cell_type": "code",
      "source": [
        "lb_encoder = LabelEncoder()\n",
        "\n",
        "for col in bin_cols:\n",
        "    X_train[col] = lb_encoder.fit_transform(X_train[col])\n",
        "    X_test[col]  = lb_encoder.transform(X_test[col])"
      ],
      "metadata": {
        "papermill": {
          "duration": 0.1035,
          "end_time": "2025-02-08T04:43:36.683295",
          "exception": false,
          "start_time": "2025-02-08T04:43:36.579795",
          "status": "completed"
        },
        "tags": [],
        "trusted": true,
        "execution": {
          "iopub.status.busy": "2025-02-12T17:54:19.928422Z",
          "iopub.execute_input": "2025-02-12T17:54:19.928728Z",
          "iopub.status.idle": "2025-02-12T17:54:19.9437Z",
          "shell.execute_reply.started": "2025-02-12T17:54:19.92869Z",
          "shell.execute_reply": "2025-02-12T17:54:19.942368Z"
        },
        "id": "OH6Qj05OgAUt"
      },
      "outputs": [],
      "execution_count": null
    },
    {
      "cell_type": "markdown",
      "source": [
        "Before one-hot encoding the multi-class categorical variables, I have to check that all their classes have frequency > 0.05. This means that they are not rare classes. If their frequency is less than 0.05, I will change their class to 'other'."
      ],
      "metadata": {
        "papermill": {
          "duration": 0.082833,
          "end_time": "2025-02-08T04:43:36.849794",
          "exception": false,
          "start_time": "2025-02-08T04:43:36.766961",
          "status": "completed"
        },
        "tags": [],
        "id": "P_7VprHpgAUt"
      }
    },
    {
      "cell_type": "code",
      "source": [
        "def remove_005(train,test,column):\n",
        "\n",
        "    props_df = train[column].value_counts(normalize=True).reset_index()\n",
        "    le05_list = props_df.loc[props_df['proportion'] < 0.05][column].to_list()\n",
        "\n",
        "    train.loc[train[column].isin(le05_list),column] = 'other'\n",
        "    test.loc[test[column].isin(le05_list),column] = 'other'\n",
        "\n",
        "\n",
        "for col in multi_cols:\n",
        "    remove_005(X_train,X_test,col)\n",
        "\n",
        "for col in multi_cols:\n",
        "    print(X_train[col].value_counts(normalize=True).reset_index())\n",
        "    print()"
      ],
      "metadata": {
        "papermill": {
          "duration": 0.133084,
          "end_time": "2025-02-08T04:43:37.06606",
          "exception": false,
          "start_time": "2025-02-08T04:43:36.932976",
          "status": "completed"
        },
        "tags": [],
        "trusted": true,
        "execution": {
          "iopub.status.busy": "2025-02-12T17:54:19.944883Z",
          "iopub.execute_input": "2025-02-12T17:54:19.945218Z",
          "iopub.status.idle": "2025-02-12T17:54:19.997044Z",
          "shell.execute_reply.started": "2025-02-12T17:54:19.945184Z",
          "shell.execute_reply": "2025-02-12T17:54:19.996152Z"
        },
        "id": "twyXXGY_gAUt"
      },
      "outputs": [],
      "execution_count": null
    },
    {
      "cell_type": "markdown",
      "source": [
        "Before moving on, I want to check again if there are columns with missing values. These nulls may have been created from the operations that I carried out in the previous stages."
      ],
      "metadata": {
        "papermill": {
          "duration": 0.086848,
          "end_time": "2025-02-08T04:43:37.23637",
          "exception": false,
          "start_time": "2025-02-08T04:43:37.149522",
          "status": "completed"
        },
        "tags": [],
        "id": "P6lmcev5gAUu"
      }
    },
    {
      "cell_type": "code",
      "source": [
        "list_nulls = X_train.columns[X_train.isnull().any()].tolist()\n",
        "\n",
        "list_nulls"
      ],
      "metadata": {
        "papermill": {
          "duration": 0.121487,
          "end_time": "2025-02-08T04:43:37.449015",
          "exception": false,
          "start_time": "2025-02-08T04:43:37.327528",
          "status": "completed"
        },
        "tags": [],
        "trusted": true,
        "execution": {
          "iopub.status.busy": "2025-02-12T17:54:19.99801Z",
          "iopub.execute_input": "2025-02-12T17:54:19.998282Z",
          "iopub.status.idle": "2025-02-12T17:54:20.00767Z",
          "shell.execute_reply.started": "2025-02-12T17:54:19.99826Z",
          "shell.execute_reply": "2025-02-12T17:54:20.006626Z"
        },
        "id": "kSnBEiQRgAUu"
      },
      "outputs": [],
      "execution_count": null
    },
    {
      "cell_type": "markdown",
      "source": [
        "I am imputing the null values in the 'marital_edu' column with 'other'."
      ],
      "metadata": {
        "papermill": {
          "duration": 0.101123,
          "end_time": "2025-02-08T04:43:37.640525",
          "exception": false,
          "start_time": "2025-02-08T04:43:37.539402",
          "status": "completed"
        },
        "tags": [],
        "id": "DZnRLLg1gAUu"
      }
    },
    {
      "cell_type": "code",
      "source": [
        "X_train['marital_edu'].fillna('other',inplace=True)\n",
        "X_test['marital_edu'].fillna('other',inplace=True)\n",
        "\n",
        "X_train.columns[X_train.isnull().any()].tolist()"
      ],
      "metadata": {
        "papermill": {
          "duration": 0.126615,
          "end_time": "2025-02-08T04:43:37.854565",
          "exception": false,
          "start_time": "2025-02-08T04:43:37.72795",
          "status": "completed"
        },
        "tags": [],
        "trusted": true,
        "execution": {
          "iopub.status.busy": "2025-02-12T17:54:20.008559Z",
          "iopub.execute_input": "2025-02-12T17:54:20.008826Z",
          "iopub.status.idle": "2025-02-12T17:54:20.028582Z",
          "shell.execute_reply.started": "2025-02-12T17:54:20.008804Z",
          "shell.execute_reply": "2025-02-12T17:54:20.027594Z"
        },
        "id": "j002UMT9gAUv"
      },
      "outputs": [],
      "execution_count": null
    },
    {
      "cell_type": "markdown",
      "source": [
        "Now, I can one-hot-encode the multi-class categorical variables is X_train and X_test ..."
      ],
      "metadata": {
        "papermill": {
          "duration": 0.086663,
          "end_time": "2025-02-08T04:43:38.029492",
          "exception": false,
          "start_time": "2025-02-08T04:43:37.942829",
          "status": "completed"
        },
        "tags": [],
        "id": "5fpPJ_OUgAUv"
      }
    },
    {
      "cell_type": "code",
      "source": [
        "### One-hot encoding ###\n",
        "oh_encoder = OneHotEncoder(sparse_output=False,handle_unknown='ignore').set_output(transform=\"pandas\")\n",
        "\n",
        "# Fit and transform the categorical columns\n",
        "OHE_train = pd.DataFrame(oh_encoder.fit_transform(X_train[multi_cols]))\n",
        "OHE_test  = pd.DataFrame(oh_encoder.transform(X_test[multi_cols]))\n",
        "\n",
        "# One-hot encoding removed index; put it back\n",
        "OHE_train.index = X_train.index\n",
        "OHE_test.index  = X_test.index\n",
        "\n",
        "# Remove categorical columns (will replace with one-hot encoding)\n",
        "num_train = X_train.drop(multi_cols,axis=1)\n",
        "num_test  = X_test.drop(multi_cols,axis=1)\n",
        "\n",
        "# Add one-hot encoded columns to numerical features\n",
        "OHE_X_train = pd.concat([OHE_train,num_train],axis=1)\n",
        "OHE_X_test  = pd.concat([OHE_test,num_test],axis=1)"
      ],
      "metadata": {
        "papermill": {
          "duration": 0.13756,
          "end_time": "2025-02-08T04:43:38.254201",
          "exception": false,
          "start_time": "2025-02-08T04:43:38.116641",
          "status": "completed"
        },
        "tags": [],
        "trusted": true,
        "execution": {
          "iopub.status.busy": "2025-02-12T17:54:20.029828Z",
          "iopub.execute_input": "2025-02-12T17:54:20.030185Z",
          "iopub.status.idle": "2025-02-12T17:54:20.072804Z",
          "shell.execute_reply.started": "2025-02-12T17:54:20.030157Z",
          "shell.execute_reply": "2025-02-12T17:54:20.071957Z"
        },
        "id": "BGRaa0_9gAUw"
      },
      "outputs": [],
      "execution_count": null
    },
    {
      "cell_type": "markdown",
      "source": [
        "... and then scale the numerical variables."
      ],
      "metadata": {
        "papermill": {
          "duration": 0.088523,
          "end_time": "2025-02-08T04:43:38.433605",
          "exception": false,
          "start_time": "2025-02-08T04:43:38.345082",
          "status": "completed"
        },
        "tags": [],
        "id": "CkuvqjE4gAUw"
      }
    },
    {
      "cell_type": "code",
      "source": [
        "print(OHE_X_train.shape)\n",
        "OHE_X_train.head()"
      ],
      "metadata": {
        "papermill": {
          "duration": 0.14289,
          "end_time": "2025-02-08T04:43:38.66338",
          "exception": false,
          "start_time": "2025-02-08T04:43:38.52049",
          "status": "completed"
        },
        "tags": [],
        "trusted": true,
        "execution": {
          "iopub.status.busy": "2025-02-12T17:54:20.073709Z",
          "iopub.execute_input": "2025-02-12T17:54:20.073964Z",
          "iopub.status.idle": "2025-02-12T17:54:20.110469Z",
          "shell.execute_reply.started": "2025-02-12T17:54:20.073943Z",
          "shell.execute_reply": "2025-02-12T17:54:20.10958Z"
        },
        "id": "Fhfto-3agAUw"
      },
      "outputs": [],
      "execution_count": null
    },
    {
      "cell_type": "code",
      "source": [
        "# List of numerical features\n",
        "num_features = [col for col in OHE_X_train.columns if OHE_X_train[col].dtypes != 'O']\n",
        "\n",
        "# Instantiate the scaler\n",
        "scaler = MinMaxScaler()\n",
        "\n",
        "# Scaling the numerical columns\n",
        "OHE_X_train[num_features] = scaler.fit_transform(OHE_X_train[num_features])\n",
        "OHE_X_test[num_features]  = scaler.transform(OHE_X_test[num_features])\n",
        "\n",
        "OHE_X_train.head()"
      ],
      "metadata": {
        "papermill": {
          "duration": 0.149018,
          "end_time": "2025-02-08T04:43:38.897882",
          "exception": false,
          "start_time": "2025-02-08T04:43:38.748864",
          "status": "completed"
        },
        "tags": [],
        "trusted": true,
        "execution": {
          "iopub.status.busy": "2025-02-12T17:54:20.111387Z",
          "iopub.execute_input": "2025-02-12T17:54:20.111735Z",
          "iopub.status.idle": "2025-02-12T17:54:20.187017Z",
          "shell.execute_reply.started": "2025-02-12T17:54:20.111696Z",
          "shell.execute_reply": "2025-02-12T17:54:20.186051Z"
        },
        "id": "_GZ4IrDSgAUw"
      },
      "outputs": [],
      "execution_count": null
    },
    {
      "cell_type": "markdown",
      "source": [
        "## 4.4 Comparing the performance of Four Classifiers"
      ],
      "metadata": {
        "papermill": {
          "duration": 0.08715,
          "end_time": "2025-02-08T04:43:39.070323",
          "exception": false,
          "start_time": "2025-02-08T04:43:38.983173",
          "status": "completed"
        },
        "tags": [],
        "id": "TbhCqsevgAUx"
      }
    },
    {
      "cell_type": "markdown",
      "source": [
        "I want to compare the performance of four classifiers to decide what is more fit for this problem. In order to do this, I am calculating the train and test accuracies by considering 1%, 10%, 25%, 50%, 75% and 100% fractions of the training data for each classifier."
      ],
      "metadata": {
        "papermill": {
          "duration": 0.086378,
          "end_time": "2025-02-08T04:43:39.241565",
          "exception": false,
          "start_time": "2025-02-08T04:43:39.155187",
          "status": "completed"
        },
        "tags": [],
        "id": "IA7gvDjYgAUx"
      }
    },
    {
      "cell_type": "code",
      "source": [
        "def train_predict(learner, sample_size, X_train, y_train, X_test, y_test):\n",
        "    '''\n",
        "    inputs:\n",
        "       - learner: the learning algorithm to be trained and predicted on\n",
        "       - sample_size: the size of samples (number) to be drawn from training set\n",
        "       - X_train: features training set\n",
        "       - y_train: income training set\n",
        "       - X_test: features testing set\n",
        "       - y_test: income testing set\n",
        "    '''\n",
        "\n",
        "    results = {}\n",
        "\n",
        "    # Fit the learner to the training data using slicing with 'sample_size'\n",
        "    start = time() # Get start time\n",
        "    learner = learner.fit(X_train[:sample_size],y_train[:sample_size])\n",
        "    end = time() # Get end time\n",
        "\n",
        "    # Calculate the training time\n",
        "    results['train_time'] = end - start\n",
        "\n",
        "    #  Get the predictions on the test set,\n",
        "    #  then get predictions on the first 300 training samples\n",
        "    start = time() # Get start time\n",
        "    predictions_test = learner.predict(X_test)\n",
        "    predictions_train = learner.predict(X_train[:300])\n",
        "    end = time() # Get end time\n",
        "\n",
        "    # Calculate the total prediction time\n",
        "    results['pred_time'] = end - start\n",
        "\n",
        "    # Compute accuracy score on the first 300 training samples\n",
        "    results['accuracy_train'] = accuracy_score(y_train[:300],predictions_train)\n",
        "\n",
        "    # Compute accuracy score on test set\n",
        "    results['accuracy_test'] = accuracy_score(y_test,predictions_test)\n",
        "\n",
        "    # Compute recall score on the first 300 training samples\n",
        "    results['recall_train'] = recall_score(y_train[:300],predictions_train,average='macro')\n",
        "\n",
        "    # Compute recall score on test set\n",
        "    results['recall_test'] = recall_score(y_test,predictions_test,average='macro')\n",
        "\n",
        "    # Success\n",
        "    print(\"{} trained on {} samples.\".format(learner.__class__.__name__,sample_size))\n",
        "\n",
        "    # Return the results\n",
        "    return results"
      ],
      "metadata": {
        "papermill": {
          "duration": 0.098156,
          "end_time": "2025-02-08T04:43:39.424562",
          "exception": false,
          "start_time": "2025-02-08T04:43:39.326406",
          "status": "completed"
        },
        "tags": [],
        "trusted": true,
        "execution": {
          "iopub.status.busy": "2025-02-12T17:54:20.18796Z",
          "iopub.execute_input": "2025-02-12T17:54:20.188217Z",
          "iopub.status.idle": "2025-02-12T17:54:20.195363Z",
          "shell.execute_reply.started": "2025-02-12T17:54:20.188175Z",
          "shell.execute_reply": "2025-02-12T17:54:20.194322Z"
        },
        "id": "WNP5vUjygAUx"
      },
      "outputs": [],
      "execution_count": null
    },
    {
      "cell_type": "code",
      "source": [
        "# Initialize the three models\n",
        "clf_A = GradientBoostingClassifier(random_state=42)\n",
        "clf_B = AdaBoostClassifier(base_estimator=DecisionTreeClassifier(random_state=42))\n",
        "clf_C = RandomForestClassifier(random_state=42)\n",
        "clf_D = XGBClassifier(random_state=42)\n",
        "\n",
        "# Calculate the number of samples for 1%, 10%, 25%, 50%, 75% and 100% of the training data\n",
        "samples_1   = int(round(len(OHE_X_train) / 100))\n",
        "samples_10  = int(round(len(OHE_X_train) / 10))\n",
        "samples_25  = int(round(len(OHE_X_train) / 4))\n",
        "samples_50  = int(round(len(OHE_X_train) / 2))\n",
        "samples_75  = int(round(len(OHE_X_train) * 0.75))\n",
        "samples_100 = len(OHE_X_train)\n",
        "\n",
        "# Collect results on the learners\n",
        "results = {}\n",
        "for clf in [clf_A,clf_B,clf_C,clf_D]:\n",
        "    clf_name = clf.__class__.__name__\n",
        "    results[clf_name] = {}\n",
        "    for i,samples in enumerate([samples_1,samples_10,samples_25,samples_50,samples_75,samples_100]):\n",
        "        results[clf_name][i] = \\\n",
        "        train_predict(clf,samples,OHE_X_train,y_train,OHE_X_test,y_test)"
      ],
      "metadata": {
        "papermill": {
          "duration": 8.661532,
          "end_time": "2025-02-08T04:43:48.171995",
          "exception": false,
          "start_time": "2025-02-08T04:43:39.510463",
          "status": "completed"
        },
        "tags": [],
        "trusted": true,
        "execution": {
          "iopub.status.busy": "2025-02-12T17:54:20.196272Z",
          "iopub.execute_input": "2025-02-12T17:54:20.196527Z",
          "iopub.status.idle": "2025-02-12T17:54:28.66522Z",
          "shell.execute_reply.started": "2025-02-12T17:54:20.196505Z",
          "shell.execute_reply": "2025-02-12T17:54:28.66436Z"
        },
        "id": "wOj9BsbwgAUy"
      },
      "outputs": [],
      "execution_count": null
    },
    {
      "cell_type": "code",
      "source": [
        "# Printing out the values\n",
        "for i in results.items():\n",
        "    print(i[0])\n",
        "    display(pd.DataFrame(i[1]).rename(columns={0:'1%',1:'10%',2:'25%',3:'50%',4:'75%',5:'100%'}))"
      ],
      "metadata": {
        "papermill": {
          "duration": 0.136273,
          "end_time": "2025-02-08T04:43:48.399557",
          "exception": false,
          "start_time": "2025-02-08T04:43:48.263284",
          "status": "completed"
        },
        "tags": [],
        "trusted": true,
        "execution": {
          "iopub.status.busy": "2025-02-12T17:54:28.665885Z",
          "iopub.execute_input": "2025-02-12T17:54:28.666153Z",
          "iopub.status.idle": "2025-02-12T17:54:28.709394Z",
          "shell.execute_reply.started": "2025-02-12T17:54:28.666108Z",
          "shell.execute_reply": "2025-02-12T17:54:28.708202Z"
        },
        "id": "SU9vGNJwgAUz"
      },
      "outputs": [],
      "execution_count": null
    },
    {
      "cell_type": "code",
      "source": [
        "test_results = [['GradientBoostingClassifier',results['GradientBoostingClassifier'][5]['accuracy_test'],results['GradientBoostingClassifier'][5]['recall_test']],\n",
        "                ['AdaBoostClassifier',results['AdaBoostClassifier'][5]['accuracy_test'],results['AdaBoostClassifier'][5]['recall_test']],\n",
        "                ['RandomForestClassifier',results['RandomForestClassifier'][5]['accuracy_test'],results['RandomForestClassifier'][5]['recall_test']],\n",
        "                ['XGBClassifier',results['XGBClassifier'][5]['accuracy_test'],results['XGBClassifier'][5]['recall_test']]]\n",
        "\n",
        "df_test_results = pd.DataFrame(test_results,columns=['Classifier','Test_Accuracy','Test_Recall'])\n",
        "\n",
        "fig,(ax1,ax2) = plt.subplots(ncols=2,figsize=(12,6))\n",
        "\n",
        "ax1 = sns.barplot(df_test_results,x='Classifier',y='Test_Accuracy',ax=ax1)\n",
        "ax1.set_xticklabels(ax1.get_xticklabels(),fontsize=8)\n",
        "ax1.axhline(y=results['RandomForestClassifier'][5]['accuracy_test'],color='black',linestyle='--')\n",
        "ax1.text(0,0.865,'RandomForestClassifier',fontsize=10)\n",
        "ax1.set_title('Accuracy Score on the Test Data',size=20)\n",
        "ax1.set_facecolor('lemonchiffon')\n",
        "\n",
        "ax2 = sns.barplot(df_test_results,x='Classifier',y='Test_Recall',ax=ax2)\n",
        "ax2.set_xticklabels(ax2.get_xticklabels(),fontsize=8)\n",
        "ax2.axhline(y=results['RandomForestClassifier'][5]['recall_test'],color='black',linestyle='--')\n",
        "ax2.text(0,0.865,'RandomForestClassifier',fontsize=10)\n",
        "ax2.set_title('Recall Score on the Test Data',size=20)\n",
        "ax2.set_facecolor('lemonchiffon')\n",
        "\n",
        "fig.suptitle('Scores on the Test Data of Different Models',size=30)\n",
        "\n",
        "fig.set_facecolor('lightsteelblue')\n",
        "plt.tight_layout()"
      ],
      "metadata": {
        "papermill": {
          "duration": 0.7145,
          "end_time": "2025-02-08T04:43:49.201315",
          "exception": false,
          "start_time": "2025-02-08T04:43:48.486815",
          "status": "completed"
        },
        "tags": [],
        "trusted": true,
        "execution": {
          "iopub.status.busy": "2025-02-12T17:54:28.710296Z",
          "iopub.execute_input": "2025-02-12T17:54:28.710555Z",
          "iopub.status.idle": "2025-02-12T17:54:29.344178Z",
          "shell.execute_reply.started": "2025-02-12T17:54:28.710534Z",
          "shell.execute_reply": "2025-02-12T17:54:29.343098Z"
        },
        "id": "LiEdoobHgAU0"
      },
      "outputs": [],
      "execution_count": null
    },
    {
      "cell_type": "markdown",
      "source": [
        "The above plots show that the RandomForestClassifier performed slightly better than the other algorithms on the test data.\n",
        "\n",
        "Now, let's have a look at the learning curves of the four classifiers."
      ],
      "metadata": {
        "papermill": {
          "duration": 0.087692,
          "end_time": "2025-02-08T04:43:49.386764",
          "exception": false,
          "start_time": "2025-02-08T04:43:49.299072",
          "status": "completed"
        },
        "tags": [],
        "id": "84ZSqR19gAU1"
      }
    },
    {
      "cell_type": "code",
      "source": [
        "########################################################\n",
        "GB_learning_curve = [[samples_1,results['GradientBoostingClassifier'][0]['accuracy_test'],results['GradientBoostingClassifier'][0]['accuracy_train']],\n",
        "                    [samples_10,results['GradientBoostingClassifier'][1]['accuracy_test'],results['GradientBoostingClassifier'][1]['accuracy_train']],\n",
        "                    [samples_25,results['GradientBoostingClassifier'][2]['accuracy_test'],results['GradientBoostingClassifier'][2]['accuracy_train']],\n",
        "                    [samples_50,results['GradientBoostingClassifier'][3]['accuracy_test'],results['GradientBoostingClassifier'][3]['accuracy_train']],\n",
        "                    [samples_75,results['GradientBoostingClassifier'][4]['accuracy_test'],results['GradientBoostingClassifier'][4]['accuracy_train']],\n",
        "                    [samples_100,results['GradientBoostingClassifier'][5]['accuracy_test'],results['GradientBoostingClassifier'][5]['accuracy_train']]]\n",
        "\n",
        "AB_learning_curve = [[samples_1,results['AdaBoostClassifier'][0]['accuracy_test'],results['AdaBoostClassifier'][0]['accuracy_train']],\n",
        "                    [samples_10,results['AdaBoostClassifier'][1]['accuracy_test'],results['AdaBoostClassifier'][1]['accuracy_train']],\n",
        "                    [samples_25,results['AdaBoostClassifier'][2]['accuracy_test'],results['AdaBoostClassifier'][2]['accuracy_train']],\n",
        "                    [samples_50,results['AdaBoostClassifier'][3]['accuracy_test'],results['AdaBoostClassifier'][3]['accuracy_train']],\n",
        "                    [samples_75,results['AdaBoostClassifier'][4]['accuracy_test'],results['AdaBoostClassifier'][4]['accuracy_train']],\n",
        "                    [samples_100,results['AdaBoostClassifier'][5]['accuracy_test'],results['AdaBoostClassifier'][5]['accuracy_train']]]\n",
        "\n",
        "RF_learning_curve = [[samples_1,results['RandomForestClassifier'][0]['accuracy_test'],results['RandomForestClassifier'][0]['accuracy_train']],\n",
        "                    [samples_10,results['RandomForestClassifier'][1]['accuracy_test'],results['RandomForestClassifier'][1]['accuracy_train']],\n",
        "                    [samples_25,results['RandomForestClassifier'][2]['accuracy_test'],results['RandomForestClassifier'][2]['accuracy_train']],\n",
        "                    [samples_50,results['RandomForestClassifier'][3]['accuracy_test'],results['RandomForestClassifier'][3]['accuracy_train']],\n",
        "                    [samples_75,results['RandomForestClassifier'][4]['accuracy_test'],results['RandomForestClassifier'][4]['accuracy_train']],\n",
        "                    [samples_100,results['RandomForestClassifier'][5]['accuracy_test'],results['RandomForestClassifier'][5]['accuracy_train']]]\n",
        "\n",
        "XGB_learning_curve = [[samples_1,results['XGBClassifier'][0]['accuracy_test'],results['XGBClassifier'][0]['accuracy_train']],\n",
        "                    [samples_10,results['XGBClassifier'][1]['accuracy_test'],results['XGBClassifier'][1]['accuracy_train']],\n",
        "                    [samples_25,results['XGBClassifier'][2]['accuracy_test'],results['XGBClassifier'][2]['accuracy_train']],\n",
        "                    [samples_50,results['XGBClassifier'][3]['accuracy_test'],results['XGBClassifier'][3]['accuracy_train']],\n",
        "                    [samples_75,results['XGBClassifier'][4]['accuracy_test'],results['XGBClassifier'][4]['accuracy_train']],\n",
        "                    [samples_100,results['XGBClassifier'][5]['accuracy_test'],results['XGBClassifier'][5]['accuracy_train']]]\n",
        "\n",
        "df_GB_LC = pd.DataFrame(GB_learning_curve,columns=['Samples','Test_Accuracy','Train_Accuracy'])\n",
        "\n",
        "df_AB_LC = pd.DataFrame(AB_learning_curve,columns=['Samples','Test_Accuracy','Train_Accuracy'])\n",
        "\n",
        "df_RF_LC = pd.DataFrame(RF_learning_curve,columns=['Samples','Test_Accuracy','Train_Accuracy'])\n",
        "\n",
        "df_XGB_LC = pd.DataFrame(XGB_learning_curve,columns=['Samples','Test_Accuracy','Train_Accuracy'])\n",
        "########################################################\n",
        "\n",
        "bigfig = plt.figure(figsize=(12,6))\n",
        "\n",
        "(top,bottom) = bigfig.subfigures(2,1)\n",
        "\n",
        "### Top figures ###\n",
        "top.subplots_adjust(left=.1,right=.9,wspace=.4,hspace=.4)\n",
        "\n",
        "fig,(ax1,ax2) = plt.subplots(ncols=2,figsize=(12,5))\n",
        "\n",
        "ax1 = sns.lineplot(x=df_GB_LC['Samples'],y=df_GB_LC['Test_Accuracy'],ax=ax1,label='Test Accuracy')\n",
        "ax1 = sns.lineplot(x=df_GB_LC['Samples'],y=df_GB_LC['Train_Accuracy'],ax=ax1,label='Train Accuracy')\n",
        "ax1.set_ylabel('Accuracy')\n",
        "plt.setp(ax1.get_legend().get_texts(),fontsize='10')\n",
        "ax1.legend(loc='lower right')\n",
        "ax1.set_facecolor('lemonchiffon')\n",
        "ax1.set_title('Learning Curve of the GradientBoostingClassifier')\n",
        "\n",
        "ax2 = sns.lineplot(x=df_AB_LC['Samples'],y=df_AB_LC['Test_Accuracy'],ax=ax2,label='Test Accuracy')\n",
        "ax2 = sns.lineplot(x=df_AB_LC['Samples'],y=df_AB_LC['Train_Accuracy'],ax=ax2,label='Train Accuracy')\n",
        "ax2.set_ylabel('Accuracy')\n",
        "plt.setp(ax2.get_legend().get_texts(),fontsize='10')\n",
        "ax2.legend(loc='lower right')\n",
        "ax2.set_facecolor('lemonchiffon')\n",
        "ax2.set_title('Learning Curve of the AdaBoostClassifier')\n",
        "\n",
        "plt.suptitle('Learning Curves of the Four Classifiers',size=25)\n",
        "\n",
        "fig.set_facecolor('lightsteelblue')\n",
        "plt.tight_layout()\n",
        "\n",
        "### Bottom figures ###\n",
        "bottom.subplots_adjust(left=.1,right=.9,wspace=.4,hspace=.4)\n",
        "\n",
        "fig,(ax1,ax2) = plt.subplots(ncols=2,figsize=(12,4.5))\n",
        "\n",
        "ax1 = sns.lineplot(x=df_XGB_LC['Samples'],y=df_XGB_LC['Test_Accuracy'],ax=ax1,label='Test Accuracy')\n",
        "ax1 = sns.lineplot(x=df_XGB_LC['Samples'],y=df_XGB_LC['Train_Accuracy'],ax=ax1,label='Train Accuracy')\n",
        "ax1.set_ylabel('Accuracy')\n",
        "plt.setp(ax1.get_legend().get_texts(),fontsize='10')\n",
        "ax1.legend(loc='lower right')\n",
        "ax1.set_facecolor('lemonchiffon')\n",
        "ax1.set_title('Learning Curve of the XGBClassifier')\n",
        "\n",
        "ax2 = sns.lineplot(x=df_RF_LC['Samples'],y=df_RF_LC['Test_Accuracy'],ax=ax2,label='Test Accuracy')\n",
        "ax2 = sns.lineplot(x=df_RF_LC['Samples'],y=df_RF_LC['Train_Accuracy'],ax=ax2,label='Train Accuracy')\n",
        "ax2.set_ylabel('Accuracy')\n",
        "plt.setp(ax2.get_legend().get_texts(),fontsize='10')\n",
        "ax2.legend(loc='lower right')\n",
        "ax2.set_facecolor('lemonchiffon')\n",
        "ax2.set_title('Learning Curve of the RandomForestClassifier')\n",
        "\n",
        "fig.set_facecolor('lightsteelblue')\n",
        "plt.tight_layout()"
      ],
      "metadata": {
        "papermill": {
          "duration": 1.956867,
          "end_time": "2025-02-08T04:43:51.432855",
          "exception": false,
          "start_time": "2025-02-08T04:43:49.475988",
          "status": "completed"
        },
        "tags": [],
        "trusted": true,
        "execution": {
          "iopub.status.busy": "2025-02-12T17:54:29.345058Z",
          "iopub.execute_input": "2025-02-12T17:54:29.345348Z",
          "iopub.status.idle": "2025-02-12T17:54:31.191163Z",
          "shell.execute_reply.started": "2025-02-12T17:54:29.345324Z",
          "shell.execute_reply": "2025-02-12T17:54:31.190086Z"
        },
        "id": "xPIrUphIgAU2"
      },
      "outputs": [],
      "execution_count": null
    },
    {
      "cell_type": "markdown",
      "source": [
        "These curves show that:\n",
        "* Both the AdaBoost and RandomForest classifiers overfit. Their training accuracies, when considering only 10% of the samples, jump to 100% and never go down.\n",
        "* The learning curves of the XGBoost and GradientBoosting classifiers look better. In particular, the GradientBoosting classifier curve shows the best compromise between bias and variance."
      ],
      "metadata": {
        "papermill": {
          "duration": 0.08946,
          "end_time": "2025-02-08T04:43:51.620142",
          "exception": false,
          "start_time": "2025-02-08T04:43:51.530682",
          "status": "completed"
        },
        "tags": [],
        "id": "nH0aJZtwgAU3"
      }
    },
    {
      "cell_type": "markdown",
      "source": [
        "In light of these findings, I will use the GradientBoosting classifier in the next phase of this study: the fine tuning of its model parameters."
      ],
      "metadata": {
        "papermill": {
          "duration": 0.091447,
          "end_time": "2025-02-08T04:43:51.801629",
          "exception": false,
          "start_time": "2025-02-08T04:43:51.710182",
          "status": "completed"
        },
        "tags": [],
        "id": "Seg59saggAU3"
      }
    },
    {
      "cell_type": "markdown",
      "source": [
        "## 4.5 Validation Curves of the Gradient Boosting Classifier Parameters"
      ],
      "metadata": {
        "papermill": {
          "duration": 0.090278,
          "end_time": "2025-02-08T04:43:51.982723",
          "exception": false,
          "start_time": "2025-02-08T04:43:51.892445",
          "status": "completed"
        },
        "tags": [],
        "id": "3KxeRvQRgAU4"
      }
    },
    {
      "cell_type": "markdown",
      "source": [
        "The overall parameters of this ensemble model can be divided into 3 categories:\n",
        "* **Tree-Specific Parameter.** They affect each individual tree in the model.\n",
        "* **Boosting Parameters.** They affect the boosting operation in the model.\n",
        "* **Miscellaneous Parameters.** Other parameters for overall functioning."
      ],
      "metadata": {
        "papermill": {
          "duration": 0.090843,
          "end_time": "2025-02-08T04:43:52.164349",
          "exception": false,
          "start_time": "2025-02-08T04:43:52.073506",
          "status": "completed"
        },
        "tags": [],
        "id": "W1hP59F_gAU4"
      }
    },
    {
      "cell_type": "markdown",
      "source": [
        "I am defining a function to plot the validation curve for a given classifier and one of its parameters."
      ],
      "metadata": {
        "papermill": {
          "duration": 0.08848,
          "end_time": "2025-02-08T04:43:52.345069",
          "exception": false,
          "start_time": "2025-02-08T04:43:52.256589",
          "status": "completed"
        },
        "tags": [],
        "id": "UWmhM4sPgAU5"
      }
    },
    {
      "cell_type": "code",
      "source": [
        "def plot_validation_curve(clf,X,y,CV,param_name,param_range,y_lim=[0.8, 0.95]):\n",
        "\n",
        "    train_scores, test_scores = validation_curve(\n",
        "                estimator = clf,\n",
        "                X = X,\n",
        "                y = y,\n",
        "                param_name = param_name,\n",
        "                param_range = param_range,\n",
        "                cv = CV)\n",
        "\n",
        "    train_mean = np.mean(train_scores,axis=1)\n",
        "    train_std = np.std(train_scores,axis=1)\n",
        "    test_mean = np.mean(test_scores,axis=1)\n",
        "    test_std = np.std(test_scores,axis=1)\n",
        "\n",
        "    plt.plot(param_range, train_mean,\n",
        "         color='blue', marker='o',\n",
        "         markersize=5, label='training accuracy')\n",
        "\n",
        "    plt.fill_between(param_range, train_mean + train_std,\n",
        "                 train_mean - train_std, alpha=0.15,\n",
        "                 color='blue')\n",
        "\n",
        "    plt.plot(param_range, test_mean,\n",
        "         color='green', linestyle='--',\n",
        "         marker='s', markersize=5,\n",
        "         label='validation accuracy')\n",
        "\n",
        "    plt.fill_between(param_range,\n",
        "                 test_mean + test_std,\n",
        "                 test_mean - test_std,\n",
        "                 alpha=0.15, color='green')\n",
        "\n",
        "    plt.xlim([param_range[0], param_range[-1]])\n",
        "    plt.ylim(y_lim)\n",
        "\n",
        "    plt.grid()\n",
        "    plt.legend(loc='lower right')\n",
        "    plt.xlabel(f'{param_name}')\n",
        "    plt.ylabel('Accuracy')\n",
        "    plt.title(f'Validation Curve of {param_name}')\n",
        "\n",
        "    plt.tight_layout()\n",
        "    plt.gcf().patch.set_facecolor('lightsteelblue')\n",
        "    plt.gca().set_facecolor('khaki')\n",
        "    plt.show()"
      ],
      "metadata": {
        "papermill": {
          "duration": 0.103722,
          "end_time": "2025-02-08T04:43:52.539206",
          "exception": false,
          "start_time": "2025-02-08T04:43:52.435484",
          "status": "completed"
        },
        "tags": [],
        "trusted": true,
        "execution": {
          "iopub.status.busy": "2025-02-12T17:54:31.192269Z",
          "iopub.execute_input": "2025-02-12T17:54:31.192528Z",
          "iopub.status.idle": "2025-02-12T17:54:31.200829Z",
          "shell.execute_reply.started": "2025-02-12T17:54:31.192506Z",
          "shell.execute_reply": "2025-02-12T17:54:31.199615Z"
        },
        "id": "8b7YAdKbgAU5"
      },
      "outputs": [],
      "execution_count": null
    },
    {
      "cell_type": "markdown",
      "source": [
        "The classifier that I want to focus on is the 'GradientBoostingClassifier' and the parameter that I want to study is 'n_estimators'.\n",
        "\n",
        "**n_estimators** represents the number of trees in the forest. Usually the higher the number of trees, the better to learn the data."
      ],
      "metadata": {
        "papermill": {
          "duration": 0.088493,
          "end_time": "2025-02-08T04:43:52.716621",
          "exception": false,
          "start_time": "2025-02-08T04:43:52.628128",
          "status": "completed"
        },
        "tags": [],
        "id": "LC8mpDhfgAU6"
      }
    },
    {
      "cell_type": "code",
      "source": [
        "clf_GB = GradientBoostingClassifier(random_state=42)\n",
        "\n",
        "plot_validation_curve(clf_GB,OHE_X_train,y_train,10,'n_estimators',[25,50,100,200,300,400,500],y_lim=[0.8,0.95])"
      ],
      "metadata": {
        "papermill": {
          "duration": 189.222981,
          "end_time": "2025-02-08T04:47:02.029027",
          "exception": false,
          "start_time": "2025-02-08T04:43:52.806046",
          "status": "completed"
        },
        "tags": [],
        "trusted": true,
        "execution": {
          "iopub.status.busy": "2025-02-12T17:54:31.201926Z",
          "iopub.execute_input": "2025-02-12T17:54:31.202276Z",
          "iopub.status.idle": "2025-02-12T17:57:36.293681Z",
          "shell.execute_reply.started": "2025-02-12T17:54:31.202218Z",
          "shell.execute_reply": "2025-02-12T17:57:36.292601Z"
        },
        "id": "jRKSNx3mgAU6"
      },
      "outputs": [],
      "execution_count": null
    },
    {
      "cell_type": "markdown",
      "source": [
        "The plot shows that:\n",
        "* 'n_estimators' is a very important parameter because it has a great influence on the accuracies.\n",
        "* The GradientBoostingClassifier underfits for small values of 'n_estimators' (approx. < 75).\n",
        "* The classifier starts to overfit above values of 'n_estimators' > 200. This is because the distance between the training and validation curves starts to increase then."
      ],
      "metadata": {
        "papermill": {
          "duration": 0.092228,
          "end_time": "2025-02-08T04:47:02.211892",
          "exception": false,
          "start_time": "2025-02-08T04:47:02.119664",
          "status": "completed"
        },
        "tags": [],
        "id": "hp4_oPSSgAU7"
      }
    },
    {
      "cell_type": "markdown",
      "source": [
        "**max_features** represents the number of features to consider when looking for the best split."
      ],
      "metadata": {
        "papermill": {
          "duration": 0.091608,
          "end_time": "2025-02-08T04:47:02.395397",
          "exception": false,
          "start_time": "2025-02-08T04:47:02.303789",
          "status": "completed"
        },
        "tags": [],
        "id": "lwprVaj0gAU8"
      }
    },
    {
      "cell_type": "code",
      "source": [
        "plot_validation_curve(clf_GB,OHE_X_train,y_train,10,'max_features',[10,20,30,40,50,60,100],y_lim=[0.82,0.88])"
      ],
      "metadata": {
        "papermill": {
          "duration": 71.950453,
          "end_time": "2025-02-08T04:48:14.436423",
          "exception": false,
          "start_time": "2025-02-08T04:47:02.48597",
          "status": "completed"
        },
        "tags": [],
        "trusted": true,
        "execution": {
          "iopub.status.busy": "2025-02-12T17:57:36.294813Z",
          "iopub.execute_input": "2025-02-12T17:57:36.295117Z",
          "iopub.status.idle": "2025-02-12T17:58:47.226422Z",
          "shell.execute_reply.started": "2025-02-12T17:57:36.295093Z",
          "shell.execute_reply": "2025-02-12T17:58:47.2253Z"
        },
        "id": "UGr5Q7trgAU8"
      },
      "outputs": [],
      "execution_count": null
    },
    {
      "cell_type": "markdown",
      "source": [
        "The classifier seems to be almost insensitive to the value of 'max_features'."
      ],
      "metadata": {
        "papermill": {
          "duration": 0.091599,
          "end_time": "2025-02-08T04:48:14.620415",
          "exception": false,
          "start_time": "2025-02-08T04:48:14.528816",
          "status": "completed"
        },
        "tags": [],
        "id": "BoPNGHLdgAU9"
      }
    },
    {
      "cell_type": "markdown",
      "source": [
        "**Learning rate**"
      ],
      "metadata": {
        "papermill": {
          "duration": 0.091721,
          "end_time": "2025-02-08T04:48:14.805312",
          "exception": false,
          "start_time": "2025-02-08T04:48:14.713591",
          "status": "completed"
        },
        "tags": [],
        "id": "GFfMSk6-gAU9"
      }
    },
    {
      "cell_type": "code",
      "source": [
        "plot_validation_curve(clf_GB,OHE_X_train,y_train,10,'learning_rate',[0.01, 0.05, 0.1, 0.25, 0.5, 0.75, 1.])"
      ],
      "metadata": {
        "papermill": {
          "duration": 85.405795,
          "end_time": "2025-02-08T04:49:40.302545",
          "exception": false,
          "start_time": "2025-02-08T04:48:14.89675",
          "status": "completed"
        },
        "tags": [],
        "trusted": true,
        "execution": {
          "iopub.status.busy": "2025-02-12T17:58:47.227689Z",
          "iopub.execute_input": "2025-02-12T17:58:47.228069Z",
          "iopub.status.idle": "2025-02-12T18:00:11.571433Z",
          "shell.execute_reply.started": "2025-02-12T17:58:47.228016Z",
          "shell.execute_reply": "2025-02-12T18:00:11.570361Z"
        },
        "id": "k43qTydagAU-"
      },
      "outputs": [],
      "execution_count": null
    },
    {
      "cell_type": "markdown",
      "source": [
        "This plot shows that the optimal values of the learning rate are small (< 0.05). When they start growing, then the model begins to overfit."
      ],
      "metadata": {
        "papermill": {
          "duration": 0.0946,
          "end_time": "2025-02-08T04:49:40.48932",
          "exception": false,
          "start_time": "2025-02-08T04:49:40.39472",
          "status": "completed"
        },
        "tags": [],
        "id": "zIcIouiEgAU-"
      }
    },
    {
      "cell_type": "markdown",
      "source": [
        "**max_depth** indicates how deep the built tree can be. The deeper the tree, the more splits it has and it captures more information about how the data."
      ],
      "metadata": {
        "papermill": {
          "duration": 0.091928,
          "end_time": "2025-02-08T04:49:40.674801",
          "exception": false,
          "start_time": "2025-02-08T04:49:40.582873",
          "status": "completed"
        },
        "tags": [],
        "id": "d0ceTsj1gAU_"
      }
    },
    {
      "cell_type": "code",
      "source": [
        "plot_validation_curve(clf_GB,OHE_X_train,y_train,10,'max_depth',[1,2,3,4,5,6,7])"
      ],
      "metadata": {
        "papermill": {
          "duration": 113.571486,
          "end_time": "2025-02-08T04:51:34.339814",
          "exception": false,
          "start_time": "2025-02-08T04:49:40.768328",
          "status": "completed"
        },
        "tags": [],
        "trusted": true,
        "execution": {
          "iopub.status.busy": "2025-02-12T18:00:11.572591Z",
          "iopub.execute_input": "2025-02-12T18:00:11.572861Z",
          "iopub.status.idle": "2025-02-12T18:02:03.95063Z",
          "shell.execute_reply.started": "2025-02-12T18:00:11.572839Z",
          "shell.execute_reply": "2025-02-12T18:02:03.94957Z"
        },
        "id": "kS2Ac_LDgAU_"
      },
      "outputs": [],
      "execution_count": null
    },
    {
      "cell_type": "markdown",
      "source": [
        "This plot is really interesting. It shows that one should not use values of 'max_depth' larger than 3 or 4. For 'max_depth' > 5, the model clearly overfits."
      ],
      "metadata": {
        "papermill": {
          "duration": 0.095381,
          "end_time": "2025-02-08T04:51:34.530127",
          "exception": false,
          "start_time": "2025-02-08T04:51:34.434746",
          "status": "completed"
        },
        "tags": [],
        "id": "nKOmb1C6gAVA"
      }
    },
    {
      "cell_type": "markdown",
      "source": [
        "**min_samples_split** represents the minimum number of samples required to split an internal node."
      ],
      "metadata": {
        "papermill": {
          "duration": 0.092999,
          "end_time": "2025-02-08T04:51:34.716034",
          "exception": false,
          "start_time": "2025-02-08T04:51:34.623035",
          "status": "completed"
        },
        "tags": [],
        "id": "EWbmMtTEgAVA"
      }
    },
    {
      "cell_type": "code",
      "source": [
        "plot_validation_curve(clf_GB,OHE_X_train,y_train,10,'min_samples_split',[0.1,0.2,0.4,0.6,0.8,1.],y_lim=[0.8,0.86])"
      ],
      "metadata": {
        "papermill": {
          "duration": 55.511611,
          "end_time": "2025-02-08T04:52:30.321443",
          "exception": false,
          "start_time": "2025-02-08T04:51:34.809832",
          "status": "completed"
        },
        "tags": [],
        "trusted": true,
        "execution": {
          "iopub.status.busy": "2025-02-12T18:02:03.951769Z",
          "iopub.execute_input": "2025-02-12T18:02:03.952171Z",
          "iopub.status.idle": "2025-02-12T18:02:58.528552Z",
          "shell.execute_reply.started": "2025-02-12T18:02:03.952133Z",
          "shell.execute_reply": "2025-02-12T18:02:58.527511Z"
        },
        "id": "xf4emLAvgAVB"
      },
      "outputs": [],
      "execution_count": null
    },
    {
      "cell_type": "markdown",
      "source": [
        "The plot shows that the optimal values for 'min_samples_split' are in the range [0.1, 0.2]."
      ],
      "metadata": {
        "papermill": {
          "duration": 0.096477,
          "end_time": "2025-02-08T04:52:30.512763",
          "exception": false,
          "start_time": "2025-02-08T04:52:30.416286",
          "status": "completed"
        },
        "tags": [],
        "id": "VnA6KXLVgAVB"
      }
    },
    {
      "cell_type": "markdown",
      "source": [
        "**min_samples_leaf** is the minimum number of samples required to be at a leaf node. It is similar to 'min_samples_splits'."
      ],
      "metadata": {
        "papermill": {
          "duration": 0.09756,
          "end_time": "2025-02-08T04:52:30.706414",
          "exception": false,
          "start_time": "2025-02-08T04:52:30.608854",
          "status": "completed"
        },
        "tags": [],
        "id": "QBQ_CP_agAVB"
      }
    },
    {
      "cell_type": "code",
      "source": [
        "plot_validation_curve(clf_GB,OHE_X_train,y_train,10,'min_samples_leaf',[0.1,0.2,0.4,0.6,0.8,1.],y_lim=[0.5,0.85])"
      ],
      "metadata": {
        "papermill": {
          "duration": 27.578866,
          "end_time": "2025-02-08T04:52:58.380996",
          "exception": false,
          "start_time": "2025-02-08T04:52:30.80213",
          "status": "completed"
        },
        "tags": [],
        "trusted": true,
        "execution": {
          "iopub.status.busy": "2025-02-12T18:02:58.529524Z",
          "iopub.execute_input": "2025-02-12T18:02:58.529816Z",
          "iopub.status.idle": "2025-02-12T18:03:25.048507Z",
          "shell.execute_reply.started": "2025-02-12T18:02:58.529792Z",
          "shell.execute_reply": "2025-02-12T18:03:25.047454Z"
        },
        "id": "2b_y_6NugAVB"
      },
      "outputs": [],
      "execution_count": null
    },
    {
      "cell_type": "markdown",
      "source": [
        "One should choose small values of 'min_samples_leaf' to prevent underfitting."
      ],
      "metadata": {
        "papermill": {
          "duration": 0.094694,
          "end_time": "2025-02-08T04:52:58.57253",
          "exception": false,
          "start_time": "2025-02-08T04:52:58.477836",
          "status": "completed"
        },
        "tags": [],
        "id": "QqJIgrvKgAVC"
      }
    },
    {
      "cell_type": "markdown",
      "source": [
        "Based on these findings, I will fine tune the parameters:\n",
        "* 'n_estimators'\n",
        "* 'max_depth'\n",
        "* 'min_samples_split'\n",
        "\n",
        "For parameters like 'min_samples_leaf' and 'learning_rate', that are super sensitive, I prefer to keep their pre-set values."
      ],
      "metadata": {
        "papermill": {
          "duration": 0.095638,
          "end_time": "2025-02-08T04:52:58.763461",
          "exception": false,
          "start_time": "2025-02-08T04:52:58.667823",
          "status": "completed"
        },
        "tags": [],
        "id": "ARVLHpzugAVC"
      }
    },
    {
      "cell_type": "markdown",
      "source": [
        "## 4.6 Fine Tuning the Gradient Boosting Classifier Parameters"
      ],
      "metadata": {
        "papermill": {
          "duration": 0.094609,
          "end_time": "2025-02-08T04:52:58.953186",
          "exception": false,
          "start_time": "2025-02-08T04:52:58.858577",
          "status": "completed"
        },
        "tags": [],
        "id": "OnV3zD3xgAVC"
      }
    },
    {
      "cell_type": "markdown",
      "source": [
        "Before fine tuning the Gradient Boosting Classifier, I want to define a function that returns the test scores in a table."
      ],
      "metadata": {
        "papermill": {
          "duration": 0.094652,
          "end_time": "2025-02-08T04:52:59.143475",
          "exception": false,
          "start_time": "2025-02-08T04:52:59.048823",
          "status": "completed"
        },
        "tags": [],
        "id": "nypfGD4lgAVE"
      }
    },
    {
      "cell_type": "code",
      "source": [
        "def get_test_scores(model_name:str,preds,y_test_data):\n",
        "    '''\n",
        "    Generate a table of test scores.\n",
        "\n",
        "    In:\n",
        "        model_name (string): Your choice: how the model will be named in the output table\n",
        "        preds: numpy array of test predictions\n",
        "        y_test_data: numpy array of y_test data\n",
        "\n",
        "    Out:\n",
        "        table: a pandas df of precision, recall, f1, and accuracy scores for your model\n",
        "    '''\n",
        "    accuracy  = accuracy_score(y_test_data,preds)\n",
        "    precision = precision_score(y_test_data,preds,average='macro')\n",
        "    recall    = recall_score(y_test_data,preds,average='macro')\n",
        "    f1        = f1_score(y_test_data,preds,average='macro')\n",
        "\n",
        "    table = pd.DataFrame({'model': [model_name],'precision': [precision],'recall': [recall],\n",
        "                          'F1': [f1],'accuracy': [accuracy]})\n",
        "\n",
        "    return table"
      ],
      "metadata": {
        "papermill": {
          "duration": 0.105013,
          "end_time": "2025-02-08T04:52:59.342844",
          "exception": false,
          "start_time": "2025-02-08T04:52:59.237831",
          "status": "completed"
        },
        "tags": [],
        "trusted": true,
        "execution": {
          "iopub.status.busy": "2025-02-12T18:03:25.049803Z",
          "iopub.execute_input": "2025-02-12T18:03:25.050193Z",
          "iopub.status.idle": "2025-02-12T18:03:25.055917Z",
          "shell.execute_reply.started": "2025-02-12T18:03:25.050157Z",
          "shell.execute_reply": "2025-02-12T18:03:25.05492Z"
        },
        "id": "QpChp9QCgAVF"
      },
      "outputs": [],
      "execution_count": null
    },
    {
      "cell_type": "markdown",
      "source": [
        "Now, I am tuning the classifier on a grid of parameters via **Grid Search + Cross Validation**."
      ],
      "metadata": {
        "papermill": {
          "duration": 0.096959,
          "end_time": "2025-02-08T04:52:59.536541",
          "exception": false,
          "start_time": "2025-02-08T04:52:59.439582",
          "status": "completed"
        },
        "tags": [],
        "id": "3CnxenO_gAVG"
      }
    },
    {
      "cell_type": "code",
      "source": [
        "gbrt_clf = GradientBoostingClassifier(random_state=42)\n",
        "\n",
        "cv_params = {'n_estimators':[100,150,200,250,300],\n",
        "             'max_depth':[3,4,5],\n",
        "             'min_samples_split':[0.01,0.05]}\n",
        "\n",
        "gbrt_grid = GridSearchCV(estimator=gbrt_clf,param_grid=cv_params,cv=10)\n",
        "\n",
        "gbrt_grid.fit(OHE_X_train,y_train)\n",
        "\n",
        "test_preds_gbrt = gbrt_grid.predict(OHE_X_test)\n",
        "\n",
        "gbrt_test_GSCV_results = get_test_scores('GradientBoosting + GridSearchCV (test)',test_preds_gbrt,y_test)\n",
        "\n",
        "print(gbrt_grid.best_params_)\n",
        "print()\n",
        "print(gbrt_grid.best_estimator_)\n",
        "print()\n",
        "gbrt_test_GSCV_results"
      ],
      "metadata": {
        "papermill": {
          "duration": 915.49236,
          "end_time": "2025-02-08T05:08:15.125094",
          "exception": false,
          "start_time": "2025-02-08T04:52:59.632734",
          "status": "completed"
        },
        "tags": [],
        "trusted": true,
        "execution": {
          "iopub.status.busy": "2025-02-12T18:03:25.056972Z",
          "iopub.execute_input": "2025-02-12T18:03:25.057342Z",
          "iopub.status.idle": "2025-02-12T18:18:21.936904Z",
          "shell.execute_reply.started": "2025-02-12T18:03:25.057313Z",
          "shell.execute_reply": "2025-02-12T18:18:21.935884Z"
        },
        "id": "gpWuHRZCgAVG"
      },
      "outputs": [],
      "execution_count": null
    },
    {
      "cell_type": "markdown",
      "source": [
        "**Confusion matrix**"
      ],
      "metadata": {
        "papermill": {
          "duration": 0.095261,
          "end_time": "2025-02-08T05:08:15.31716",
          "exception": false,
          "start_time": "2025-02-08T05:08:15.221899",
          "status": "completed"
        },
        "tags": [],
        "id": "p90EwMgSgAVH"
      }
    },
    {
      "cell_type": "code",
      "source": [
        "# Generate array of values for confusion matrix\n",
        "cm = confusion_matrix(y_test,test_preds_gbrt,labels=gbrt_grid.classes_)\n",
        "\n",
        "ax = sns.heatmap(cm,annot=True,fmt='.4g')\n",
        "ax.set_title('Confusion Matrix [GradientBoosting (test)]',fontsize=15)\n",
        "ax.xaxis.set_ticklabels(['No Deposit','Deposit'])\n",
        "ax.yaxis.set_ticklabels(['No Deposit','Deposit'])\n",
        "ax.set_xlabel(\"Predicted\")\n",
        "ax.set_ylabel(\"Target\")\n",
        "\n",
        "plt.gcf().patch.set_facecolor('lightsteelblue')\n",
        "plt.tight_layout()"
      ],
      "metadata": {
        "papermill": {
          "duration": 0.540803,
          "end_time": "2025-02-08T05:08:15.95407",
          "exception": false,
          "start_time": "2025-02-08T05:08:15.413267",
          "status": "completed"
        },
        "tags": [],
        "trusted": true,
        "execution": {
          "iopub.status.busy": "2025-02-12T18:18:21.937784Z",
          "iopub.execute_input": "2025-02-12T18:18:21.938031Z",
          "iopub.status.idle": "2025-02-12T18:18:22.262181Z",
          "shell.execute_reply.started": "2025-02-12T18:18:21.938011Z",
          "shell.execute_reply": "2025-02-12T18:18:22.261182Z"
        },
        "id": "90kTzqy0gAVH"
      },
      "outputs": [],
      "execution_count": null
    },
    {
      "cell_type": "markdown",
      "source": [
        "**ROC-AUC score and ROC curve**"
      ],
      "metadata": {
        "papermill": {
          "duration": 0.097125,
          "end_time": "2025-02-08T05:08:16.155405",
          "exception": false,
          "start_time": "2025-02-08T05:08:16.05828",
          "status": "completed"
        },
        "tags": [],
        "id": "CMXe64FHgAVH"
      }
    },
    {
      "cell_type": "markdown",
      "source": [
        "Then, I am computing the ROC-AUC score. This is another metric to evaluate the performance of binary classifiers."
      ],
      "metadata": {
        "papermill": {
          "duration": 0.098351,
          "end_time": "2025-02-08T05:08:16.352279",
          "exception": false,
          "start_time": "2025-02-08T05:08:16.253928",
          "status": "completed"
        },
        "tags": [],
        "id": "IO0pYwQJgAVH"
      }
    },
    {
      "cell_type": "code",
      "source": [
        "prob_test = gbrt_grid.predict_proba(OHE_X_test)[:,1]\n",
        "\n",
        "print(\"Test ROC-AUC (GradientBoostingClassifier + GridSearchCV):\",roc_auc_score(y_test,prob_test))"
      ],
      "metadata": {
        "papermill": {
          "duration": 0.134648,
          "end_time": "2025-02-08T05:08:16.584919",
          "exception": false,
          "start_time": "2025-02-08T05:08:16.450271",
          "status": "completed"
        },
        "tags": [],
        "trusted": true,
        "execution": {
          "iopub.status.busy": "2025-02-12T18:18:22.263352Z",
          "iopub.execute_input": "2025-02-12T18:18:22.263661Z",
          "iopub.status.idle": "2025-02-12T18:18:22.295611Z",
          "shell.execute_reply.started": "2025-02-12T18:18:22.263627Z",
          "shell.execute_reply": "2025-02-12T18:18:22.294496Z"
        },
        "id": "pp9qDdf-gAVI"
      },
      "outputs": [],
      "execution_count": null
    },
    {
      "cell_type": "markdown",
      "source": [
        "To plot the ROC curve, I need to define a plotting function."
      ],
      "metadata": {
        "papermill": {
          "duration": 0.096741,
          "end_time": "2025-02-08T05:08:16.777113",
          "exception": false,
          "start_time": "2025-02-08T05:08:16.680372",
          "status": "completed"
        },
        "tags": [],
        "id": "lLUIO4mugAVJ"
      }
    },
    {
      "cell_type": "code",
      "source": [
        "def plot_roc_curve(true_y,y_prob,text):\n",
        "    \"\"\"\n",
        "    plots the roc curve based of the probabilities\n",
        "    \"\"\"\n",
        "    fpr,tpr,thresholds = roc_curve(true_y,y_prob)\n",
        "    plt.plot(fpr,tpr)\n",
        "    plt.title(f'ROC Curve {text}')\n",
        "    plt.xlabel('False Positive Rate')\n",
        "    plt.ylabel('True Positive Rate')\n",
        "\n",
        "    plt.gcf().patch.set_facecolor('lightsteelblue')\n",
        "    plt.gca().set_facecolor('lemonchiffon')\n",
        "    plt.tight_layout()\n",
        "\n",
        "plot_roc_curve(y_test,prob_test,'(GradientBoostingClassifier + GridSearchCV)');"
      ],
      "metadata": {
        "papermill": {
          "duration": 0.595495,
          "end_time": "2025-02-08T05:08:17.469393",
          "exception": false,
          "start_time": "2025-02-08T05:08:16.873898",
          "status": "completed"
        },
        "tags": [],
        "trusted": true,
        "execution": {
          "iopub.status.busy": "2025-02-12T18:18:22.296612Z",
          "iopub.execute_input": "2025-02-12T18:18:22.296964Z",
          "iopub.status.idle": "2025-02-12T18:18:22.700895Z",
          "shell.execute_reply.started": "2025-02-12T18:18:22.296929Z",
          "shell.execute_reply": "2025-02-12T18:18:22.699844Z"
        },
        "id": "DDY0YLyQgAVJ"
      },
      "outputs": [],
      "execution_count": null
    },
    {
      "cell_type": "markdown",
      "source": [
        "# 5. Term Deposit and Success of the Marketing Campaign\n",
        "<a id=\"5\"></a>"
      ],
      "metadata": {
        "papermill": {
          "duration": 0.099652,
          "end_time": "2025-02-08T05:08:17.667159",
          "exception": false,
          "start_time": "2025-02-08T05:08:17.567507",
          "status": "completed"
        },
        "tags": [],
        "id": "huQ8OZpSgAVJ"
      }
    },
    {
      "cell_type": "markdown",
      "source": [
        "## 5.1 Feature Importance"
      ],
      "metadata": {
        "papermill": {
          "duration": 0.10006,
          "end_time": "2025-02-08T05:08:17.867607",
          "exception": false,
          "start_time": "2025-02-08T05:08:17.767547",
          "status": "completed"
        },
        "tags": [],
        "id": "ndXb4n3RgAVK"
      }
    },
    {
      "cell_type": "markdown",
      "source": [
        "**Feature Importance with a random forest classifier**"
      ],
      "metadata": {
        "papermill": {
          "duration": 0.09972,
          "end_time": "2025-02-08T05:08:18.067",
          "exception": false,
          "start_time": "2025-02-08T05:08:17.96728",
          "status": "completed"
        },
        "tags": [],
        "id": "A2KzB-vPgAVK"
      }
    },
    {
      "cell_type": "markdown",
      "source": [
        "By having a look at the feature importance plot, we can find out what are the most important variables in determining the success of the campaign."
      ],
      "metadata": {
        "papermill": {
          "duration": 0.100377,
          "end_time": "2025-02-08T05:08:18.267008",
          "exception": false,
          "start_time": "2025-02-08T05:08:18.166631",
          "status": "completed"
        },
        "tags": [],
        "id": "eI3CmEC7gAVL"
      }
    },
    {
      "cell_type": "code",
      "source": [
        "# Random Forest Model\n",
        "random_forest = RandomForestClassifier(random_state=42,max_depth=100)\n",
        "random_forest.fit(OHE_X_train,y_train)\n",
        "\n",
        "importances = pd.DataFrame({'feature':OHE_X_train.columns,'importance':np.round(random_forest.feature_importances_,3)})\n",
        "importances = importances.sort_values('importance',ascending=False)\n",
        "\n",
        "importances.head()"
      ],
      "metadata": {
        "papermill": {
          "duration": 1.12573,
          "end_time": "2025-02-08T05:08:19.494622",
          "exception": false,
          "start_time": "2025-02-08T05:08:18.368892",
          "status": "completed"
        },
        "tags": [],
        "trusted": true,
        "execution": {
          "iopub.status.busy": "2025-02-12T18:18:22.702017Z",
          "iopub.execute_input": "2025-02-12T18:18:22.702392Z",
          "iopub.status.idle": "2025-02-12T18:18:23.766134Z",
          "shell.execute_reply.started": "2025-02-12T18:18:22.702364Z",
          "shell.execute_reply": "2025-02-12T18:18:23.765084Z"
        },
        "id": "V_NIgNwwgAVL"
      },
      "outputs": [],
      "execution_count": null
    },
    {
      "cell_type": "code",
      "source": [
        "plt.figure(figsize=(12,6))\n",
        "\n",
        "sns.barplot(importances[importances['importance'] > 0.025],x='feature',y='importance')\n",
        "\n",
        "plt.title('Feature Importances > 0.025',fontsize=25)\n",
        "plt.xlabel('feature',fontsize=15)\n",
        "plt.xticks(fontsize=8,rotation=45)\n",
        "plt.ylabel('relative importance',fontsize=15)\n",
        "\n",
        "plt.tight_layout()\n",
        "plt.gcf().patch.set_facecolor('lightsteelblue')\n",
        "plt.gca().set_facecolor('lemonchiffon')\n",
        "plt.show()"
      ],
      "metadata": {
        "papermill": {
          "duration": 0.918068,
          "end_time": "2025-02-08T05:08:20.511028",
          "exception": false,
          "start_time": "2025-02-08T05:08:19.59296",
          "status": "completed"
        },
        "tags": [],
        "trusted": true,
        "execution": {
          "iopub.status.busy": "2025-02-12T18:18:23.767059Z",
          "iopub.execute_input": "2025-02-12T18:18:23.767363Z",
          "iopub.status.idle": "2025-02-12T18:18:24.108125Z",
          "shell.execute_reply.started": "2025-02-12T18:18:23.76734Z",
          "shell.execute_reply": "2025-02-12T18:18:24.107053Z"
        },
        "id": "BeZMrNOagAVL"
      },
      "outputs": [],
      "execution_count": null
    },
    {
      "cell_type": "markdown",
      "source": [
        "They are *duration*, *balance*, *day* and *age*, *duration* being the dominant."
      ],
      "metadata": {
        "papermill": {
          "duration": 0.103418,
          "end_time": "2025-02-08T05:08:20.723371",
          "exception": false,
          "start_time": "2025-02-08T05:08:20.619953",
          "status": "completed"
        },
        "tags": [],
        "id": "Ytpe7k6xgAVM"
      }
    },
    {
      "cell_type": "markdown",
      "source": [
        "**Permutation Based Feature Importance**"
      ],
      "metadata": {
        "papermill": {
          "duration": 0.09917,
          "end_time": "2025-02-08T05:08:20.930385",
          "exception": false,
          "start_time": "2025-02-08T05:08:20.831215",
          "status": "completed"
        },
        "tags": [],
        "id": "Kc_cobq4gAVM"
      }
    },
    {
      "cell_type": "markdown",
      "source": [
        "There are other ways to compute the feature importance. One of them is the permutation based one."
      ],
      "metadata": {
        "papermill": {
          "duration": 0.101071,
          "end_time": "2025-02-08T05:08:21.129488",
          "exception": false,
          "start_time": "2025-02-08T05:08:21.028417",
          "status": "completed"
        },
        "tags": [],
        "id": "eL0ZhoSFgAVN"
      }
    },
    {
      "cell_type": "code",
      "source": [
        "perm_importance = permutation_importance(random_forest,OHE_X_train,y_train)\n",
        "\n",
        "sorted_idx = (-perm_importance.importances_mean).argsort()\n",
        "\n",
        "list_of_tuples  = list(zip(OHE_X_train.columns[sorted_idx],\n",
        "                           perm_importance.importances_mean[sorted_idx]))\n",
        "\n",
        "perm_importance = pd.DataFrame(list_of_tuples,\n",
        "                  columns=['feature','permutation importance'])\n",
        "\n",
        "perm_importance.head()"
      ],
      "metadata": {
        "papermill": {
          "duration": 28.833767,
          "end_time": "2025-02-08T05:08:50.063427",
          "exception": false,
          "start_time": "2025-02-08T05:08:21.22966",
          "status": "completed"
        },
        "tags": [],
        "trusted": true,
        "execution": {
          "iopub.status.busy": "2025-02-12T18:18:24.109274Z",
          "iopub.execute_input": "2025-02-12T18:18:24.109611Z",
          "iopub.status.idle": "2025-02-12T18:18:51.878787Z",
          "shell.execute_reply.started": "2025-02-12T18:18:24.109584Z",
          "shell.execute_reply": "2025-02-12T18:18:51.87771Z"
        },
        "id": "N92l0OSKgAVN"
      },
      "outputs": [],
      "execution_count": null
    },
    {
      "cell_type": "code",
      "source": [
        "plt.figure(figsize=(12,6))\n",
        "\n",
        "sns.barplot(perm_importance[perm_importance['permutation importance'] > 0.015],x='feature',y='permutation importance')\n",
        "\n",
        "plt.title('Permutation Importances > 0.015',fontsize=25)\n",
        "plt.xlabel('feature',fontsize=15)\n",
        "plt.xticks(fontsize=8,rotation=45)\n",
        "plt.ylabel('relative importance',fontsize=15)\n",
        "\n",
        "plt.tight_layout()\n",
        "plt.gcf().patch.set_facecolor('lightsteelblue')\n",
        "plt.gca().set_facecolor('lemonchiffon')\n",
        "plt.show()"
      ],
      "metadata": {
        "papermill": {
          "duration": 0.594818,
          "end_time": "2025-02-08T05:08:50.775279",
          "exception": false,
          "start_time": "2025-02-08T05:08:50.180461",
          "status": "completed"
        },
        "tags": [],
        "trusted": true,
        "execution": {
          "iopub.status.busy": "2025-02-12T18:18:51.879569Z",
          "iopub.execute_input": "2025-02-12T18:18:51.879809Z",
          "iopub.status.idle": "2025-02-12T18:18:52.248295Z",
          "shell.execute_reply.started": "2025-02-12T18:18:51.879789Z",
          "shell.execute_reply": "2025-02-12T18:18:52.247257Z"
        },
        "id": "10NqFUF0gAVO"
      },
      "outputs": [],
      "execution_count": null
    },
    {
      "cell_type": "markdown",
      "source": [
        "These results are slightly different, even though 'duration' is still the dominant feature."
      ],
      "metadata": {
        "papermill": {
          "duration": 0.097927,
          "end_time": "2025-02-08T05:08:51.033608",
          "exception": false,
          "start_time": "2025-02-08T05:08:50.935681",
          "status": "completed"
        },
        "tags": [],
        "id": "uw52cVCjgAVO"
      }
    },
    {
      "cell_type": "markdown",
      "source": [
        "## 5.2 Impact of Duration on the Choice of Opening a Term Deposit"
      ],
      "metadata": {
        "papermill": {
          "duration": 0.100189,
          "end_time": "2025-02-08T05:08:51.232226",
          "exception": false,
          "start_time": "2025-02-08T05:08:51.132037",
          "status": "completed"
        },
        "tags": [],
        "id": "wC7Dx9a_gAVO"
      }
    },
    {
      "cell_type": "markdown",
      "source": [
        "Let's find out what is the average value of duration. Duration represents the length (in seconds) of the last telephone call between a marketing company employee and the client."
      ],
      "metadata": {
        "papermill": {
          "duration": 0.099255,
          "end_time": "2025-02-08T05:08:51.432391",
          "exception": false,
          "start_time": "2025-02-08T05:08:51.333136",
          "status": "completed"
        },
        "tags": [],
        "id": "tJZQ7I2SgAVP"
      }
    },
    {
      "cell_type": "code",
      "source": [
        "print(f'Mean Duration   = {data.duration.mean():.1f} secs')\n",
        "print(f'Median Duration = {data.duration.median():.1f} secs')\n",
        "\n",
        "print()\n",
        "\n",
        "mean_duration   = data.duration.mean()\n",
        "median_duration = data.duration.median()\n",
        "\n",
        "Q1 = np.percentile(data['duration'],25)\n",
        "Q2 = np.percentile(data['duration'],50)\n",
        "Q3 = np.percentile(data['duration'],75)\n",
        "\n",
        "print(f'First Quartile of Duration  = {Q1:.1f} secs')\n",
        "print(f'Second Quartile of Duration = {Q2:.1f} secs')\n",
        "print(f'Third Quartile of Duration  = {Q3:.1f} secs')"
      ],
      "metadata": {
        "papermill": {
          "duration": 0.114319,
          "end_time": "2025-02-08T05:08:51.647209",
          "exception": false,
          "start_time": "2025-02-08T05:08:51.53289",
          "status": "completed"
        },
        "tags": [],
        "trusted": true,
        "execution": {
          "iopub.status.busy": "2025-02-12T18:18:52.249588Z",
          "iopub.execute_input": "2025-02-12T18:18:52.249957Z",
          "iopub.status.idle": "2025-02-12T18:18:52.260699Z",
          "shell.execute_reply.started": "2025-02-12T18:18:52.249921Z",
          "shell.execute_reply": "2025-02-12T18:18:52.259596Z"
        },
        "id": "T-MzY47WgAVP"
      },
      "outputs": [],
      "execution_count": null
    },
    {
      "cell_type": "markdown",
      "source": [
        "Create a new column with tags 'above' or 'below' the *duration* median."
      ],
      "metadata": {
        "papermill": {
          "duration": 0.100258,
          "end_time": "2025-02-08T05:08:51.846293",
          "exception": false,
          "start_time": "2025-02-08T05:08:51.746035",
          "status": "completed"
        },
        "tags": [],
        "id": "K_RUUc8agAVQ"
      }
    },
    {
      "cell_type": "code",
      "source": [
        "### Creating a new column 'duration_above_below_median' ###\n",
        "data['duration_above_below_median'] = np.nan\n",
        "list2 = [data]\n",
        "\n",
        "for col in list2:\n",
        "    col.loc[col['duration'] <= median_duration,'duration_above_below_median'] = 'duration below median'\n",
        "    col.loc[col['duration'] > median_duration,'duration_above_below_median'] = 'duration above median'"
      ],
      "metadata": {
        "papermill": {
          "duration": 0.112423,
          "end_time": "2025-02-08T05:08:52.058255",
          "exception": false,
          "start_time": "2025-02-08T05:08:51.945832",
          "status": "completed"
        },
        "tags": [],
        "trusted": true,
        "execution": {
          "iopub.status.busy": "2025-02-12T18:18:52.261765Z",
          "iopub.execute_input": "2025-02-12T18:18:52.262041Z",
          "iopub.status.idle": "2025-02-12T18:18:52.276531Z",
          "shell.execute_reply.started": "2025-02-12T18:18:52.261995Z",
          "shell.execute_reply": "2025-02-12T18:18:52.275374Z"
        },
        "id": "cMIurzjtgAVQ"
      },
      "outputs": [],
      "execution_count": null
    },
    {
      "cell_type": "markdown",
      "source": [
        "Now I am doing the almost same, but the *duration* values will be divided into quartiles."
      ],
      "metadata": {
        "papermill": {
          "duration": 0.097934,
          "end_time": "2025-02-08T05:08:52.25602",
          "exception": false,
          "start_time": "2025-02-08T05:08:52.158086",
          "status": "completed"
        },
        "tags": [],
        "id": "Pb3MkHhEgAVR"
      }
    },
    {
      "cell_type": "code",
      "source": [
        "### Creating a new column 'duration_quartiles' ###\n",
        "capped_data['duration_quartiles'] = np.nan\n",
        "list3 = [data]\n",
        "\n",
        "for col in list3:\n",
        "    col.loc[col['duration'] <= Q1,'duration_quartiles'] = 'duration: Q1'\n",
        "    col.loc[(col['duration'] > Q1) & (col['duration'] <= Q2),'duration_quartiles'] = 'duration: Q2'\n",
        "    col.loc[(col['duration'] > Q2) & (col['duration'] <= Q3),'duration_quartiles'] = 'duration: Q3'\n",
        "    col.loc[col['duration'] > Q3,'duration_quartiles'] = 'duration: Q4'"
      ],
      "metadata": {
        "papermill": {
          "duration": 0.11649,
          "end_time": "2025-02-08T05:08:52.472021",
          "exception": false,
          "start_time": "2025-02-08T05:08:52.355531",
          "status": "completed"
        },
        "tags": [],
        "trusted": true,
        "execution": {
          "iopub.status.busy": "2025-02-12T18:18:52.277721Z",
          "iopub.execute_input": "2025-02-12T18:18:52.278102Z",
          "iopub.status.idle": "2025-02-12T18:18:52.300847Z",
          "shell.execute_reply.started": "2025-02-12T18:18:52.278068Z",
          "shell.execute_reply": "2025-02-12T18:18:52.299857Z"
        },
        "id": "MuKdTW2GgAVR"
      },
      "outputs": [],
      "execution_count": null
    },
    {
      "cell_type": "code",
      "source": [
        "fig,(ax1,ax2) = plt.subplots(ncols=2,figsize=(12,6))\n",
        "\n",
        "ax1 = sns.histplot(data=data,x='duration_above_below_median',\n",
        "             multiple=\"dodge\",hue='deposit',shrink=0.9,stat='probability',ax=ax1)\n",
        "ax1.set_title('Duration Above or Below Median',fontsize=20)\n",
        "ax1.set_xlabel('')\n",
        "ax1.set_facecolor('lemonchiffon')\n",
        "ax1.legend(labels=[\"no term deposit\",\"term deposit\"],loc='upper center')\n",
        "\n",
        "ax2 = sns.histplot(data=data,x='duration_quartiles',\n",
        "             multiple=\"dodge\",hue='deposit',shrink=0.9,stat='probability',ax=ax2)\n",
        "ax2.set_title('Duration Quartiles',fontsize=20)\n",
        "ax2.set_xlabel('')\n",
        "ax2.set_facecolor('lemonchiffon')\n",
        "ax2.legend(labels=[\"no term deposit\",\"term deposit\"],loc='upper center')\n",
        "\n",
        "fig.suptitle(\"Term Deposit vs Call Duration\",fontsize=28)\n",
        "\n",
        "plt.tight_layout()\n",
        "fig.set_facecolor('lightsteelblue')"
      ],
      "metadata": {
        "papermill": {
          "duration": 0.800287,
          "end_time": "2025-02-08T05:08:53.372147",
          "exception": false,
          "start_time": "2025-02-08T05:08:52.57186",
          "status": "completed"
        },
        "tags": [],
        "trusted": true,
        "execution": {
          "iopub.status.busy": "2025-02-12T18:18:52.301954Z",
          "iopub.execute_input": "2025-02-12T18:18:52.302451Z",
          "iopub.status.idle": "2025-02-12T18:18:53.007949Z",
          "shell.execute_reply.started": "2025-02-12T18:18:52.302408Z",
          "shell.execute_reply": "2025-02-12T18:18:53.006943Z"
        },
        "id": "aFO9Az82gAVS"
      },
      "outputs": [],
      "execution_count": null
    },
    {
      "cell_type": "markdown",
      "source": [
        "One can notice that:\n",
        "- Longer (last) call durations favor the success of the campaign.\n",
        "- Call durations below the median *duration* value (255 secs) are generally unsuccessful, while those above the median value are generally successful.\n",
        "- More specifically, the most successful calls belong to the fourth quartile of *duration* (*duration* > Q3 = 496 secs), the least successful belong to the first quartile (*duration* < Q1 = 138 secs)."
      ],
      "metadata": {
        "papermill": {
          "duration": 0.098781,
          "end_time": "2025-02-08T05:08:53.579984",
          "exception": false,
          "start_time": "2025-02-08T05:08:53.481203",
          "status": "completed"
        },
        "tags": [],
        "id": "sSCj5E_0gAVS"
      }
    },
    {
      "cell_type": "markdown",
      "source": [
        "## 5.3 Impact of Contact (Communication Type) on Opening a Term Deposit"
      ],
      "metadata": {
        "papermill": {
          "duration": 0.099646,
          "end_time": "2025-02-08T05:08:53.778842",
          "exception": false,
          "start_time": "2025-02-08T05:08:53.679196",
          "status": "completed"
        },
        "tags": [],
        "id": "Sef_phZegAVS"
      }
    },
    {
      "cell_type": "code",
      "source": [
        "data.contact.unique()"
      ],
      "metadata": {
        "papermill": {
          "duration": 0.112052,
          "end_time": "2025-02-08T05:08:53.989968",
          "exception": false,
          "start_time": "2025-02-08T05:08:53.877916",
          "status": "completed"
        },
        "tags": [],
        "trusted": true,
        "execution": {
          "iopub.status.busy": "2025-02-12T18:18:53.00913Z",
          "iopub.execute_input": "2025-02-12T18:18:53.009563Z",
          "iopub.status.idle": "2025-02-12T18:18:53.017025Z",
          "shell.execute_reply.started": "2025-02-12T18:18:53.009528Z",
          "shell.execute_reply": "2025-02-12T18:18:53.016017Z"
        },
        "id": "7IuMABpcgAVT"
      },
      "outputs": [],
      "execution_count": null
    },
    {
      "cell_type": "markdown",
      "source": [
        "The marketing company can contact the client either on his/her mobile or on the landline."
      ],
      "metadata": {
        "papermill": {
          "duration": 0.102753,
          "end_time": "2025-02-08T05:08:54.193919",
          "exception": false,
          "start_time": "2025-02-08T05:08:54.091166",
          "status": "completed"
        },
        "tags": [],
        "id": "7o-O2GuBgAVT"
      }
    },
    {
      "cell_type": "code",
      "source": [
        "data[data['contact'] != 'unknown'].groupby('deposit')['contact'].value_counts()"
      ],
      "metadata": {
        "papermill": {
          "duration": 0.125312,
          "end_time": "2025-02-08T05:08:54.421966",
          "exception": false,
          "start_time": "2025-02-08T05:08:54.296654",
          "status": "completed"
        },
        "tags": [],
        "trusted": true,
        "execution": {
          "iopub.status.busy": "2025-02-12T18:18:53.018111Z",
          "iopub.execute_input": "2025-02-12T18:18:53.01851Z",
          "iopub.status.idle": "2025-02-12T18:18:53.042078Z",
          "shell.execute_reply.started": "2025-02-12T18:18:53.018461Z",
          "shell.execute_reply": "2025-02-12T18:18:53.041099Z"
        },
        "id": "oHxQuHpEgAVU"
      },
      "outputs": [],
      "execution_count": null
    },
    {
      "cell_type": "code",
      "source": [
        "sns.histplot(data=data[data['contact'] != 'unknown'],x='contact',\n",
        "             multiple=\"dodge\",hue='deposit',shrink=0.9,stat='probability')\n",
        "plt.title('Probability of Opening a Term Deposit vs Contact Type',fontsize=15)\n",
        "\n",
        "plt.tight_layout()\n",
        "plt.gcf().patch.set_facecolor('lightsteelblue')\n",
        "plt.gca().set_facecolor('lemonchiffon')\n",
        "plt.show()"
      ],
      "metadata": {
        "papermill": {
          "duration": 0.381351,
          "end_time": "2025-02-08T05:08:54.902867",
          "exception": false,
          "start_time": "2025-02-08T05:08:54.521516",
          "status": "completed"
        },
        "tags": [],
        "trusted": true,
        "execution": {
          "iopub.status.busy": "2025-02-12T18:18:53.042977Z",
          "iopub.execute_input": "2025-02-12T18:18:53.043334Z",
          "iopub.status.idle": "2025-02-12T18:18:53.333791Z",
          "shell.execute_reply.started": "2025-02-12T18:18:53.043307Z",
          "shell.execute_reply": "2025-02-12T18:18:53.332757Z"
        },
        "id": "9uRpfLAVgAVW"
      },
      "outputs": [],
      "execution_count": null
    },
    {
      "cell_type": "markdown",
      "source": [
        "Calling the client on the mobile phone gives a slightly higher probability of success."
      ],
      "metadata": {
        "papermill": {
          "duration": 0.09989,
          "end_time": "2025-02-08T05:08:55.102547",
          "exception": false,
          "start_time": "2025-02-08T05:08:55.002657",
          "status": "completed"
        },
        "tags": [],
        "id": "IGOoc9GLgAVX"
      }
    },
    {
      "cell_type": "code",
      "source": [
        "print(f'Probability of success on landline = {390 / (390 + 384) * 100:.0f}%')\n",
        "print(f'Probability of success on mobile   = {4369 / (4369 + 3673) * 100:.0f}%')"
      ],
      "metadata": {
        "papermill": {
          "duration": 0.121848,
          "end_time": "2025-02-08T05:08:55.326136",
          "exception": false,
          "start_time": "2025-02-08T05:08:55.204288",
          "status": "completed"
        },
        "tags": [],
        "trusted": true,
        "execution": {
          "iopub.status.busy": "2025-02-12T18:18:53.334733Z",
          "iopub.execute_input": "2025-02-12T18:18:53.335031Z",
          "iopub.status.idle": "2025-02-12T18:18:53.340842Z",
          "shell.execute_reply.started": "2025-02-12T18:18:53.335006Z",
          "shell.execute_reply": "2025-02-12T18:18:53.339652Z"
        },
        "id": "FoRuShEggAVX"
      },
      "outputs": [],
      "execution_count": null
    },
    {
      "cell_type": "markdown",
      "source": [
        "The difference is rather small and might not be statistically significant. This is worth to check."
      ],
      "metadata": {
        "papermill": {
          "duration": 0.105142,
          "end_time": "2025-02-08T05:08:55.539129",
          "exception": false,
          "start_time": "2025-02-08T05:08:55.433987",
          "status": "completed"
        },
        "tags": [],
        "id": "fzVzWMtogAVZ"
      }
    },
    {
      "cell_type": "markdown",
      "source": [
        "## 5.4 Impact of *poutcome* on Opening a Term Deposit"
      ],
      "metadata": {
        "papermill": {
          "duration": 0.102362,
          "end_time": "2025-02-08T05:08:55.748216",
          "exception": false,
          "start_time": "2025-02-08T05:08:55.645854",
          "status": "completed"
        },
        "tags": [],
        "id": "mGYl_R11gAVZ"
      }
    },
    {
      "cell_type": "markdown",
      "source": [
        "The variable *poutcome* represents the outcome of the previous marketing campaign. Its possible values are:"
      ],
      "metadata": {
        "papermill": {
          "duration": 0.101117,
          "end_time": "2025-02-08T05:08:55.950659",
          "exception": false,
          "start_time": "2025-02-08T05:08:55.849542",
          "status": "completed"
        },
        "tags": [],
        "id": "vwgWd5YZgAVa"
      }
    },
    {
      "cell_type": "code",
      "source": [
        "data['poutcome'].unique()"
      ],
      "metadata": {
        "papermill": {
          "duration": 0.115908,
          "end_time": "2025-02-08T05:08:56.170443",
          "exception": false,
          "start_time": "2025-02-08T05:08:56.054535",
          "status": "completed"
        },
        "tags": [],
        "trusted": true,
        "execution": {
          "iopub.status.busy": "2025-02-12T18:18:53.341946Z",
          "iopub.execute_input": "2025-02-12T18:18:53.342198Z",
          "iopub.status.idle": "2025-02-12T18:18:53.362786Z",
          "shell.execute_reply.started": "2025-02-12T18:18:53.342176Z",
          "shell.execute_reply": "2025-02-12T18:18:53.361531Z"
        },
        "id": "SFChBPK-gAVa"
      },
      "outputs": [],
      "execution_count": null
    },
    {
      "cell_type": "markdown",
      "source": [
        "I am excluding the values 'other' and 'unknown'."
      ],
      "metadata": {
        "papermill": {
          "duration": 0.10555,
          "end_time": "2025-02-08T05:08:56.376218",
          "exception": false,
          "start_time": "2025-02-08T05:08:56.270668",
          "status": "completed"
        },
        "tags": [],
        "id": "BH-I0-fMgAVa"
      }
    },
    {
      "cell_type": "code",
      "source": [
        "data[data['poutcome'].isin(['failure','success'])].groupby('deposit')['poutcome'].value_counts()"
      ],
      "metadata": {
        "papermill": {
          "duration": 0.121355,
          "end_time": "2025-02-08T05:08:56.603433",
          "exception": false,
          "start_time": "2025-02-08T05:08:56.482078",
          "status": "completed"
        },
        "tags": [],
        "trusted": true,
        "execution": {
          "iopub.status.busy": "2025-02-12T18:18:53.363728Z",
          "iopub.execute_input": "2025-02-12T18:18:53.363968Z",
          "iopub.status.idle": "2025-02-12T18:18:53.394337Z",
          "shell.execute_reply.started": "2025-02-12T18:18:53.363947Z",
          "shell.execute_reply": "2025-02-12T18:18:53.393367Z"
        },
        "id": "0iOcOqSigAVa"
      },
      "outputs": [],
      "execution_count": null
    },
    {
      "cell_type": "code",
      "source": [
        "sns.histplot(data=data[data['poutcome'].isin(['failure','success'])],x='poutcome',\n",
        "             multiple=\"dodge\",hue='deposit',shrink=0.9,stat='probability')\n",
        "plt.title(\"Probability of Opening a Term Deposit vs 'poutcome'\",fontsize=15)\n",
        "\n",
        "plt.tight_layout()\n",
        "plt.gcf().patch.set_facecolor('lightsteelblue')\n",
        "plt.gca().set_facecolor('lemonchiffon')\n",
        "plt.show()"
      ],
      "metadata": {
        "papermill": {
          "duration": 0.525118,
          "end_time": "2025-02-08T05:08:57.230199",
          "exception": false,
          "start_time": "2025-02-08T05:08:56.705081",
          "status": "completed"
        },
        "tags": [],
        "trusted": true,
        "execution": {
          "iopub.status.busy": "2025-02-12T18:18:53.395461Z",
          "iopub.execute_input": "2025-02-12T18:18:53.39586Z",
          "iopub.status.idle": "2025-02-12T18:18:53.690262Z",
          "shell.execute_reply.started": "2025-02-12T18:18:53.395824Z",
          "shell.execute_reply": "2025-02-12T18:18:53.689267Z"
        },
        "id": "Dgv0AiKVgAVb"
      },
      "outputs": [],
      "execution_count": null
    },
    {
      "cell_type": "markdown",
      "source": [
        "This plot shows that the probability of a success in the present campaign is very high whenever the result of the previous one was a success. In other words, the event of the campaign is usually successful (i.e. the client opened a term deposit) whenever the client was persuaded in the previous marketing campaign as well."
      ],
      "metadata": {
        "papermill": {
          "duration": 0.102736,
          "end_time": "2025-02-08T05:08:57.44493",
          "exception": false,
          "start_time": "2025-02-08T05:08:57.342194",
          "status": "completed"
        },
        "tags": [],
        "id": "8IPBW3ofgAVb"
      }
    },
    {
      "cell_type": "markdown",
      "source": [
        "## 5.5 Impact of *housing* and *loan* on Opening a Term Deposit"
      ],
      "metadata": {
        "papermill": {
          "duration": 0.100895,
          "end_time": "2025-02-08T05:08:57.647867",
          "exception": false,
          "start_time": "2025-02-08T05:08:57.546972",
          "status": "completed"
        },
        "tags": [],
        "id": "O-XyLPH_gAVb"
      }
    },
    {
      "cell_type": "markdown",
      "source": [
        "The *housing* and *loan* variables register whether the client has a housing loan or a loan, respectively."
      ],
      "metadata": {
        "papermill": {
          "duration": 0.100889,
          "end_time": "2025-02-08T05:08:57.850445",
          "exception": false,
          "start_time": "2025-02-08T05:08:57.749556",
          "status": "completed"
        },
        "tags": [],
        "id": "THNZjD9FgAVb"
      }
    },
    {
      "cell_type": "code",
      "source": [
        "fig,(ax1,ax2) = plt.subplots(ncols=2,figsize=(12,6))\n",
        "\n",
        "ax1 = sns.histplot(data=data,x='housing',multiple=\"dodge\",hue='deposit',shrink=0.9,stat='probability',ax=ax1)\n",
        "ax1.set_title(\"Term Deposit vs 'housing'\",fontsize=20)\n",
        "ax1.set_facecolor('lemonchiffon')\n",
        "\n",
        "ax2 = sns.histplot(data=data,x='loan',multiple=\"dodge\",hue='deposit',shrink=0.9,stat='probability',ax=ax2)\n",
        "ax2.set_title(\"Term Deposit vs 'loan'\",fontsize=20)\n",
        "ax2.set_facecolor('lemonchiffon')\n",
        "\n",
        "fig.suptitle(\"Probability of Opening a Term Deposit vs 'housing' and 'loan'\",fontsize=28)\n",
        "\n",
        "plt.tight_layout()\n",
        "fig.set_facecolor('lightsteelblue')"
      ],
      "metadata": {
        "papermill": {
          "duration": 0.895391,
          "end_time": "2025-02-08T05:08:58.847011",
          "exception": false,
          "start_time": "2025-02-08T05:08:57.95162",
          "status": "completed"
        },
        "tags": [],
        "trusted": true,
        "execution": {
          "iopub.status.busy": "2025-02-12T18:18:53.691524Z",
          "iopub.execute_input": "2025-02-12T18:18:53.691812Z",
          "iopub.status.idle": "2025-02-12T18:18:54.369519Z",
          "shell.execute_reply.started": "2025-02-12T18:18:53.691787Z",
          "shell.execute_reply": "2025-02-12T18:18:54.368304Z"
        },
        "id": "VDshySXdgAVc"
      },
      "outputs": [],
      "execution_count": null
    },
    {
      "cell_type": "markdown",
      "source": [
        "- The first plot shows that there is a higher probability of a success whenever the targeted client does not have a housing loan.\n",
        "- The second plot shows that a client with a loan would not usually open a term deposit."
      ],
      "metadata": {
        "papermill": {
          "duration": 0.102866,
          "end_time": "2025-02-08T05:08:59.062093",
          "exception": false,
          "start_time": "2025-02-08T05:08:58.959227",
          "status": "completed"
        },
        "tags": [],
        "id": "ZtY3EQ7ygAVc"
      }
    },
    {
      "cell_type": "markdown",
      "source": [
        "## 5.6 Impact of Age on Opening a Term Deposit"
      ],
      "metadata": {
        "papermill": {
          "duration": 0.102245,
          "end_time": "2025-02-08T05:08:59.266848",
          "exception": false,
          "start_time": "2025-02-08T05:08:59.164603",
          "status": "completed"
        },
        "tags": [],
        "id": "d49xgEnNgAVc"
      }
    },
    {
      "cell_type": "code",
      "source": [
        "sns.histplot(data=data,x='age cluster',multiple=\"dodge\",hue='deposit',shrink=0.9,stat='probability')\n",
        "plt.title(\"Probability of Opening a Term Deposit vs Age\",fontsize=15)\n",
        "plt.xticks(fontsize=8,rotation=45)\n",
        "\n",
        "plt.tight_layout()\n",
        "plt.gcf().patch.set_facecolor('lightsteelblue')\n",
        "plt.gca().set_facecolor('lemonchiffon')\n",
        "plt.show()"
      ],
      "metadata": {
        "papermill": {
          "duration": 0.623816,
          "end_time": "2025-02-08T05:08:59.995746",
          "exception": false,
          "start_time": "2025-02-08T05:08:59.37193",
          "status": "completed"
        },
        "tags": [],
        "trusted": true,
        "execution": {
          "iopub.status.busy": "2025-02-12T18:18:54.370789Z",
          "iopub.execute_input": "2025-02-12T18:18:54.371162Z",
          "iopub.status.idle": "2025-02-12T18:18:54.767256Z",
          "shell.execute_reply.started": "2025-02-12T18:18:54.371116Z",
          "shell.execute_reply": "2025-02-12T18:18:54.766197Z"
        },
        "id": "4bk7LyjJgAVc"
      },
      "outputs": [],
      "execution_count": null
    },
    {
      "cell_type": "markdown",
      "source": [
        "Young (age < 25) and older (age > 65) clients are more likely to open a term deposit."
      ],
      "metadata": {
        "papermill": {
          "duration": 0.152104,
          "end_time": "2025-02-08T05:09:00.269114",
          "exception": false,
          "start_time": "2025-02-08T05:09:00.11701",
          "status": "completed"
        },
        "tags": [],
        "id": "sGx7n17ngAVd"
      }
    },
    {
      "cell_type": "markdown",
      "source": [
        "## 5.7 Impact of *balance*, *pdays* and *previous* on Opening a Term Deposit"
      ],
      "metadata": {
        "papermill": {
          "duration": 0.112796,
          "end_time": "2025-02-08T05:09:00.502087",
          "exception": false,
          "start_time": "2025-02-08T05:09:00.389291",
          "status": "completed"
        },
        "tags": [],
        "id": "PTXKtl3hgAVd"
      }
    },
    {
      "cell_type": "markdown",
      "source": [
        "To plot the probability of opening a term deposit vs the client's balance, first I have to segment the clients' balance into balance groups (4 quartiles)."
      ],
      "metadata": {
        "papermill": {
          "duration": 0.114497,
          "end_time": "2025-02-08T05:09:00.728472",
          "exception": false,
          "start_time": "2025-02-08T05:09:00.613975",
          "status": "completed"
        },
        "tags": [],
        "id": "YsZhmddhgAVd"
      }
    },
    {
      "cell_type": "code",
      "source": [
        "features = ['balance','pdays','previous']\n",
        "data2 = outlier_imputer(data,features)\n",
        "\n",
        "### Creating a new column 'duration_quartiles' ###\n",
        "data2['balance_quartiles'] = np.nan\n",
        "list4 = [data2]\n",
        "\n",
        "for col in list4:\n",
        "    col.loc[col['balance'] <= Q1,'balance_quartiles'] = 'balance: Q1'\n",
        "    col.loc[(col['balance'] > Q1) & (col['balance'] <= Q2),'balance_quartiles'] = 'balance: Q2'\n",
        "    col.loc[(col['balance'] > Q2) & (col['balance'] <= Q3),'balance_quartiles'] = 'balance: Q3'\n",
        "    col.loc[col['balance'] > Q3,'balance_quartiles'] = 'balance: Q4'\n",
        "\n",
        "sorter = ['balance: Q1','balance: Q2','balance: Q3','balance: Q4']\n",
        "\n",
        "data2.balance_quartiles = data2.balance_quartiles.astype(\"category\")\n",
        "data2.Tm = data2.balance_quartiles.cat.set_categories(sorter)"
      ],
      "metadata": {
        "papermill": {
          "duration": 0.136191,
          "end_time": "2025-02-08T05:09:00.971814",
          "exception": false,
          "start_time": "2025-02-08T05:09:00.835623",
          "status": "completed"
        },
        "tags": [],
        "trusted": true,
        "execution": {
          "iopub.status.busy": "2025-02-12T18:18:54.768117Z",
          "iopub.execute_input": "2025-02-12T18:18:54.768712Z",
          "iopub.status.idle": "2025-02-12T18:18:54.798313Z",
          "shell.execute_reply.started": "2025-02-12T18:18:54.768683Z",
          "shell.execute_reply": "2025-02-12T18:18:54.797293Z"
        },
        "id": "buAZD3ybgAVd"
      },
      "outputs": [],
      "execution_count": null
    },
    {
      "cell_type": "markdown",
      "source": [
        "Regarding *pdays* and *previous*, they are the number of days that passed by after the client was last contacted from a previous campaign and the number of contacts performed before this campaign and for this client, respectively."
      ],
      "metadata": {
        "papermill": {
          "duration": 0.104621,
          "end_time": "2025-02-08T05:09:01.184913",
          "exception": false,
          "start_time": "2025-02-08T05:09:01.080292",
          "status": "completed"
        },
        "tags": [],
        "id": "o5sgfygagAVe"
      }
    },
    {
      "cell_type": "code",
      "source": [
        "fig,(ax1,ax2,ax3) = plt.subplots(ncols=3,figsize=(12,6))\n",
        "\n",
        "ax1 = sns.histplot(data=data2,x='balance_quartiles',multiple=\"dodge\",\n",
        "                   hue='deposit',shrink=0.9,stat='probability',ax=ax1)\n",
        "ax1.set_xticklabels(ax1.get_xticklabels(),rotation=45,fontsize=7)\n",
        "ax1.set_title(\"Term Deposit vs Balance\",fontsize=18)\n",
        "ax1.set_facecolor('lemonchiffon')\n",
        "\n",
        "ax2 = sns.distplot(data[data['deposit'] == 'yes']['pdays'],ax=ax2,hist=False)\n",
        "ax2 = sns.distplot(data[data['deposit'] == 'no']['pdays'],ax=ax2,hist=False,color='orange')\n",
        "ax2.set_xlim(-100,300)\n",
        "ax2.set_title(\"Term Deposit vs 'pdays'\",fontsize=18)\n",
        "ax2.set_facecolor('lemonchiffon')\n",
        "ax2.legend(labels=['term deposit','no term deposit'])\n",
        "\n",
        "ax3 = sns.distplot(data[data['deposit'] == 'yes']['previous'],ax=ax3,hist=False)\n",
        "ax3 = sns.distplot(data[data['deposit'] == 'no']['previous'],ax=ax3,hist=False,color='orange')\n",
        "ax3.set_xlim(-2,10)\n",
        "ax3.set_title(\"Term Deposit vs 'previous'\",fontsize=18)\n",
        "ax3.set_facecolor('lemonchiffon')\n",
        "ax3.legend(labels=['term deposit','no term deposit'])\n",
        "\n",
        "fig.suptitle(\"Probability of Opening a Term Deposit vs Balance, 'pdays' and 'previous'\",fontsize=24)\n",
        "\n",
        "plt.tight_layout()\n",
        "fig.set_facecolor('lightsteelblue')"
      ],
      "metadata": {
        "papermill": {
          "duration": 1.698107,
          "end_time": "2025-02-08T05:09:02.988293",
          "exception": false,
          "start_time": "2025-02-08T05:09:01.290186",
          "status": "completed"
        },
        "tags": [],
        "trusted": true,
        "execution": {
          "iopub.status.busy": "2025-02-12T18:18:54.799699Z",
          "iopub.execute_input": "2025-02-12T18:18:54.800287Z",
          "iopub.status.idle": "2025-02-12T18:18:56.522115Z",
          "shell.execute_reply.started": "2025-02-12T18:18:54.800252Z",
          "shell.execute_reply": "2025-02-12T18:18:56.521009Z"
        },
        "id": "IR24JEhngAVe"
      },
      "outputs": [],
      "execution_count": null
    },
    {
      "cell_type": "markdown",
      "source": [
        "## 5.8 Impact of *month* on Opening a Term Deposit"
      ],
      "metadata": {
        "papermill": {
          "duration": 0.104525,
          "end_time": "2025-02-08T05:09:03.206846",
          "exception": false,
          "start_time": "2025-02-08T05:09:03.102321",
          "status": "completed"
        },
        "tags": [],
        "id": "kb9uGMvIgAVe"
      }
    },
    {
      "cell_type": "code",
      "source": [
        "data_month = data2.groupby(['month','deposit'])['deposit'].value_counts().reset_index(name='no_term_deposit')\n",
        "\n",
        "sorter = ['jan','feb','mar','apr','may','jun','jul','aug','sep','oct','nov','dec']\n",
        "\n",
        "sorterIndex = dict(zip(sorter,range(len(sorter))))\n",
        "\n",
        "data_month['month_rank'] = data_month['month'].map(sorterIndex)\n",
        "data_month.sort_values('month_rank',ascending=True,inplace=True)\n",
        "data_month.drop('month_rank',axis=1,inplace=True)\n",
        "\n",
        "sns.barplot(data=data_month,x='month',y='no_term_deposit',hue='deposit')\n",
        "plt.ylabel('count')\n",
        "plt.title(\"Impact of Month on Opening a Term Deposit\",fontsize=18)\n",
        "\n",
        "plt.tight_layout()\n",
        "plt.gcf().patch.set_facecolor('lightsteelblue')\n",
        "plt.gca().set_facecolor('lemonchiffon')\n",
        "plt.show()"
      ],
      "metadata": {
        "papermill": {
          "duration": 0.545048,
          "end_time": "2025-02-08T05:09:03.855971",
          "exception": false,
          "start_time": "2025-02-08T05:09:03.310923",
          "status": "completed"
        },
        "tags": [],
        "trusted": true,
        "execution": {
          "iopub.status.busy": "2025-02-12T18:18:56.523409Z",
          "iopub.execute_input": "2025-02-12T18:18:56.523706Z",
          "iopub.status.idle": "2025-02-12T18:18:56.976377Z",
          "shell.execute_reply.started": "2025-02-12T18:18:56.523663Z",
          "shell.execute_reply": "2025-02-12T18:18:56.975335Z"
        },
        "id": "2wpQ7CPJgAVf"
      },
      "outputs": [],
      "execution_count": null
    },
    {
      "cell_type": "markdown",
      "source": [
        "The plot shows that May is the month with the most attempts by the marketing company. It is also a month when the success to unsuccess ratio is very low. On the contrary, there are months, like March, September or October, when the success to unsuccess ratio is pretty high.\n",
        "<br>Maybe the company should shift its main effort from late spring and summer months towards autumn and winter months."
      ],
      "metadata": {
        "papermill": {
          "duration": 0.106689,
          "end_time": "2025-02-08T05:09:04.068089",
          "exception": false,
          "start_time": "2025-02-08T05:09:03.9614",
          "status": "completed"
        },
        "tags": [],
        "id": "oa0xm-WRgAVf"
      }
    },
    {
      "cell_type": "markdown",
      "source": [
        "## 5.9 Impact of Job, Marital Status and Education on Opening a Term Deposit"
      ],
      "metadata": {
        "papermill": {
          "duration": 0.161556,
          "end_time": "2025-02-08T05:09:04.338572",
          "exception": false,
          "start_time": "2025-02-08T05:09:04.177016",
          "status": "completed"
        },
        "tags": [],
        "id": "K7pbx5_SgAVf"
      }
    },
    {
      "cell_type": "code",
      "source": [
        "sns.histplot(data=data,x='deposit',multiple='stack',hue='marital_edu')\n",
        "plt.title('Deposit (Count) vs Marital + Education Clusters',fontsize=16)\n",
        "\n",
        "plt.tight_layout()\n",
        "plt.gcf().patch.set_facecolor('lightsteelblue')\n",
        "plt.gca().set_facecolor('lemonchiffon')\n",
        "plt.show()"
      ],
      "metadata": {
        "papermill": {
          "duration": 0.658068,
          "end_time": "2025-02-08T05:09:05.102744",
          "exception": false,
          "start_time": "2025-02-08T05:09:04.444676",
          "status": "completed"
        },
        "tags": [],
        "trusted": true,
        "execution": {
          "iopub.status.busy": "2025-02-12T18:18:56.977488Z",
          "iopub.execute_input": "2025-02-12T18:18:56.977812Z",
          "iopub.status.idle": "2025-02-12T18:18:57.398197Z",
          "shell.execute_reply.started": "2025-02-12T18:18:56.977786Z",
          "shell.execute_reply": "2025-02-12T18:18:57.397215Z"
        },
        "id": "1aWPlVVLgAVf"
      },
      "outputs": [],
      "execution_count": null
    },
    {
      "cell_type": "markdown",
      "source": [
        "The fraction of clients that opened a term deposit changes notably depending on their marital + education group. For example, the majority of married clients with a secondary education chose not to open a term deposit, while the majority of singles with a tertiary education opened one."
      ],
      "metadata": {
        "papermill": {
          "duration": 0.107789,
          "end_time": "2025-02-08T05:09:05.326876",
          "exception": false,
          "start_time": "2025-02-08T05:09:05.219087",
          "status": "completed"
        },
        "tags": [],
        "id": "SJOEcTH_gAVg"
      }
    },
    {
      "cell_type": "code",
      "source": [
        "fig = plt.figure(figsize=(12,8))\n",
        "\n",
        "sns.violinplot(x=\"balance\",y=\"job\",hue=\"deposit\",data=data);\n",
        "\n",
        "plt.title(\"Client's Balance vs Job vs Deposit\",fontsize=28)\n",
        "\n",
        "plt.tight_layout()\n",
        "plt.gcf().patch.set_facecolor('lightsteelblue')\n",
        "plt.gca().set_facecolor('lemonchiffon')\n",
        "plt.show()"
      ],
      "metadata": {
        "papermill": {
          "duration": 1.172394,
          "end_time": "2025-02-08T05:09:06.61175",
          "exception": false,
          "start_time": "2025-02-08T05:09:05.439356",
          "status": "completed"
        },
        "tags": [],
        "trusted": true,
        "execution": {
          "iopub.status.busy": "2025-02-12T18:18:57.399293Z",
          "iopub.execute_input": "2025-02-12T18:18:57.399721Z",
          "iopub.status.idle": "2025-02-12T18:18:58.219731Z",
          "shell.execute_reply.started": "2025-02-12T18:18:57.399684Z",
          "shell.execute_reply": "2025-02-12T18:18:58.218772Z"
        },
        "id": "A6-MmeqBgAVg"
      },
      "outputs": [],
      "execution_count": null
    },
    {
      "cell_type": "markdown",
      "source": [
        "# 6. Final Suggestions\n",
        "<a id=\"6\"></a>"
      ],
      "metadata": {
        "papermill": {
          "duration": 0.109435,
          "end_time": "2025-02-08T05:09:06.840094",
          "exception": false,
          "start_time": "2025-02-08T05:09:06.730659",
          "status": "completed"
        },
        "tags": [],
        "id": "n1C-iVyzgAVg"
      }
    },
    {
      "cell_type": "markdown",
      "source": [
        "These are the final suggestions that can be derived from the data."
      ],
      "metadata": {
        "papermill": {
          "duration": 0.108247,
          "end_time": "2025-02-08T05:09:07.056456",
          "exception": false,
          "start_time": "2025-02-08T05:09:06.948209",
          "status": "completed"
        },
        "tags": [],
        "id": "7BKvvU6-gAVh"
      }
    },
    {
      "cell_type": "markdown",
      "source": [
        "**1. Phone Calls and Loyal Clients**\n",
        "\n",
        "Given that longer calls strongly favor the success of the campaign, the campaign focus should be mainly on those clients that appear to be more interested than average in the bank product. The clients who are not willing to ask for more details on the term deposit, while trying to keep the phone call as short as possible, are unlikely to take a positive action.\n",
        "<br> Moreover, the probability of a success is very high whenever the result of the previous campaign was a success. In other words, the event of the campaign is usually successful (i.e. the client opened a term deposit) whenever the client was persuaded in the previous marketing campaign as well.\n",
        "\n",
        "We can conclude that this type of loyal and/or 'positive' clients are a precious asset of the bank and thus they must be kept at any cost."
      ],
      "metadata": {
        "papermill": {
          "duration": 0.108942,
          "end_time": "2025-02-08T05:09:07.273879",
          "exception": false,
          "start_time": "2025-02-08T05:09:07.164937",
          "status": "completed"
        },
        "tags": [],
        "id": "T3PmQdalgAVh"
      }
    },
    {
      "cell_type": "markdown",
      "source": [
        "**2. Clients with Loans and Clients' Age Group, Marital Status and Education**\n",
        "\n",
        "There is a higher probability of a campaign success whenever the targeted client does not have a loan or a housing loan.\n",
        "<br>Young (age < 25) and older (age > 65) clients are more likely to open a term deposit.\n",
        "<br>The fraction of clients that opened a term deposit changes notably depending on their marital status and education. For example, the majority of married clients with secondary education chose not to open a term deposit, while the majority of singles with a tertiary education opened one.\n",
        "\n",
        "The campaign should thus be more focused on clients within these specific categories."
      ],
      "metadata": {
        "papermill": {
          "duration": 0.109987,
          "end_time": "2025-02-08T05:09:07.493075",
          "exception": false,
          "start_time": "2025-02-08T05:09:07.383088",
          "status": "completed"
        },
        "tags": [],
        "id": "NpeZqlakgAVh"
      }
    },
    {
      "cell_type": "markdown",
      "source": [
        "**3. Most and Least Favorable Months**\n",
        "\n",
        "May is the month with the most attempts by the marketing company. It is also a month when the success to unsuccess ratio is low. On the contrary, there are months, like March, September or October, when the success to unsuccess ratio of the campaign is much higher. For some reasons, these are months with a limited campaign activity.\n",
        "\n",
        "Therefore, the marketing company should shift its main effort from late spring and summer months towards autumn and winter months."
      ],
      "metadata": {
        "papermill": {
          "duration": 0.107673,
          "end_time": "2025-02-08T05:09:07.709934",
          "exception": false,
          "start_time": "2025-02-08T05:09:07.602261",
          "status": "completed"
        },
        "tags": [],
        "id": "CkTKGLAhgAVh"
      }
    },
    {
      "cell_type": "markdown",
      "source": [
        "# References"
      ],
      "metadata": {
        "papermill": {
          "duration": 0.107507,
          "end_time": "2025-02-08T05:09:07.928288",
          "exception": false,
          "start_time": "2025-02-08T05:09:07.820781",
          "status": "completed"
        },
        "tags": [],
        "id": "EiiHTChfgAVi"
      }
    },
    {
      "cell_type": "markdown",
      "source": [
        "1. Jacopo Ferretti, [*How to TARGET DONORS in Electoral Campaigns*](https://www.kaggle.com/code/jacopoferretti/how-to-target-donors-in-electoral-campaigns), notebook on Kaggle.\n",
        "2. Mohtadi Ben Fraj, [*In Depth: Parameter tuning for Gradient Boosting*](https://medium.com/all-things-ai/in-depth-parameter-tuning-for-gradient-boosting-3363992e9bae), article on medium.com. Here one can find an interesting discussion on the parameters of Gradient Boosting Classifier.\n",
        "3. Sebastian Raschka, *Machine Learning con Python* (English: *Python Machine Learning*), Apogeo Editore."
      ],
      "metadata": {
        "papermill": {
          "duration": 0.108277,
          "end_time": "2025-02-08T05:09:08.145103",
          "exception": false,
          "start_time": "2025-02-08T05:09:08.036826",
          "status": "completed"
        },
        "tags": [],
        "id": "5oC-QwTzgAVj"
      }
    }
  ]
}